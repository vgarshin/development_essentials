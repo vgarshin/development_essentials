{
 "cells": [
  {
   "cell_type": "markdown",
   "id": "b5d38ebb-4cb1-4ab0-872c-21704174d91d",
   "metadata": {},
   "source": [
    "# Development Essentials course"
   ]
  },
  {
   "cell_type": "markdown",
   "id": "ideal-coverage",
   "metadata": {},
   "source": [
    "## Python I/O"
   ]
  },
  {
   "cell_type": "markdown",
   "id": "documented-martin",
   "metadata": {},
   "source": [
    "### I/O"
   ]
  },
  {
   "cell_type": "markdown",
   "id": "82c3e3a2-a584-4d1c-8feb-3b1a332de51a",
   "metadata": {},
   "source": [
    "Let's see how we can work with basic __(I)nput/(O)utput__ operations in Python."
   ]
  },
  {
   "cell_type": "code",
   "execution_count": null,
   "id": "e8a9d9df-7406-4d7d-8ad9-177d56c023ad",
   "metadata": {},
   "outputs": [],
   "source": [
    "# reads first variable from user's input\n",
    "a = input('Enter the 1st number:')\n",
    "\n",
    "# reads first variable from user's input\n",
    "b = input('Enter the 2nd number:')\n",
    "\n",
    "# prints out the result, but... somethong is wrong with it\n",
    "print('Here is the sum:', a + b)"
   ]
  },
  {
   "cell_type": "code",
   "execution_count": null,
   "id": "3f2a84b1-c9e2-4dda-bd67-fc6406db006b",
   "metadata": {},
   "outputs": [],
   "source": [
    "# Here is better version that makes data type conversion\n",
    "# but it work for integer values only\n",
    "\n",
    "a = input('Enter the 1st number:')\n",
    "b = input('Enter the 2nd number:')\n",
    "print('Here is the sum:', int(a) + int(b))"
   ]
  },
  {
   "cell_type": "code",
   "execution_count": null,
   "id": "0f04cdb8-902c-4ed8-9a65-50ed733bc2a3",
   "metadata": {},
   "outputs": [],
   "source": [
    "# built-in `eval` can evaluate nout as a Python expression\n",
    "# and get numvers from the string input.\n",
    "# Moreover, it can read strings if they are inputed\n",
    "# in commas like 'abc'\n",
    "\n",
    "a = eval(input('Enter the 1st number:'))\n",
    "b = eval(input('Enter the 2nd number:'))\n",
    "print('Here is the sum:', a + b)"
   ]
  },
  {
   "cell_type": "markdown",
   "id": "2cec7de4-e5fe-4514-aba6-a874f1cc511e",
   "metadata": {},
   "source": [
    "### Files I/O"
   ]
  },
  {
   "cell_type": "code",
   "execution_count": null,
   "id": "c8cb5f96-9d45-4f8e-9547-f4c335ac5aba",
   "metadata": {},
   "outputs": [],
   "source": [
    "# Let's try to save somw text to a file\n",
    "\n",
    "my_file = 'myfile.txt'  # that will be the name for our file\n",
    "file = open(my_file, 'w')  # `w` means we want to overwrite the file\n",
    "file.write('Hello\\nI like Python\\n')  # try `\\n` for many strings in a file\n",
    "file.write('And what about you?')  # add more text to a file\n",
    "file.close()  # do not forget to close file!"
   ]
  },
  {
   "cell_type": "code",
   "execution_count": null,
   "id": "8e8737e8-36f8-4eb2-a4bb-0b7304c349b5",
   "metadata": {},
   "outputs": [],
   "source": [
    "# check our file was created\n",
    "\n",
    "!ls -la myfile.txt"
   ]
  },
  {
   "cell_type": "code",
   "execution_count": null,
   "id": "5e7417cc-64d2-4725-8076-015abff40ec6",
   "metadata": {},
   "outputs": [],
   "source": [
    "# see what is inside\n",
    "\n",
    "!cat myfile.txt"
   ]
  },
  {
   "cell_type": "code",
   "execution_count": null,
   "id": "3c37024d-48aa-4728-aad7-854df0eb68ed",
   "metadata": {},
   "outputs": [],
   "source": [
    "# Now let's read a text from the file back\n",
    "\n",
    "file = open(my_file, 'r')  # `r` for reading file\n",
    "text = file.read()  # read file's content to variable `text`\n",
    "file.close()\n",
    "print(text)"
   ]
  },
  {
   "cell_type": "code",
   "execution_count": null,
   "id": "aa822a91-eaeb-4daf-b4a4-7f8019f20703",
   "metadata": {},
   "outputs": [],
   "source": [
    "# It is possible to add more text to a file\n",
    "# without replacing it\n",
    "\n",
    "file = open(my_file, 'a')  # `a` to append text to the end of a file\n",
    "file.write('\\nI also like unix & bash\\n')\n",
    "file.write('And now I know some git')\n",
    "file.close()\n",
    "\n",
    "file = open(my_file, 'r')  # open file to see update\n",
    "text = file.read()\n",
    "file.close()\n",
    "\n",
    "print(text)"
   ]
  },
  {
   "cell_type": "markdown",
   "id": "118d300f-fd0c-4192-af4f-a86eb53ba11a",
   "metadata": {},
   "source": [
    "## Advanced data types"
   ]
  },
  {
   "cell_type": "markdown",
   "id": "39a7104f-7c69-4f28-9853-d29a8b5fc052",
   "metadata": {},
   "source": [
    "### Collections"
   ]
  },
  {
   "cell_type": "code",
   "execution_count": null,
   "id": "9aabf10d-6e17-4a22-909d-6910d091c508",
   "metadata": {},
   "outputs": [],
   "source": [
    "fruits = ['apple', 'mango', 'orange']  # list\n",
    "numbers = (1, 2, 3)  # tuple\n",
    "alphabets = {'a': 'apple', 'b': 'ball', 'c': 'cat'}  # dictionary\n",
    "vowels = {'a', 'e', 'i' , 'o', 'u'}  # set\n",
    "\n",
    "print(fruits, '-> of type', type(fruits))\n",
    "print(numbers, '-> of type', type(numbers))\n",
    "print(alphabets, '-> of type', type(alphabets))\n",
    "print(vowels, '-> of type', type(vowels))"
   ]
  },
  {
   "cell_type": "code",
   "execution_count": null,
   "id": "11590b9c-2695-4e35-8ead-660d097975ca",
   "metadata": {},
   "outputs": [],
   "source": [
    "# how to address a single element\n",
    "\n",
    "print(fruits[2])\n",
    "print(numbers[1])\n",
    "print(alphabets['b'])\n",
    "print('e' in vowels)"
   ]
  },
  {
   "cell_type": "markdown",
   "id": "613943f3-b785-419d-8344-ca4ee3e7a0c2",
   "metadata": {},
   "source": [
    "### Python lists and their functions"
   ]
  },
  {
   "cell_type": "markdown",
   "id": "b70fcc50-6b23-42bd-90c3-4abff308722d",
   "metadata": {},
   "source": [
    "#### Create, add elements"
   ]
  },
  {
   "cell_type": "code",
   "execution_count": null,
   "id": "9fc4c95b-f2d4-4a27-907d-7b76186b6f06",
   "metadata": {},
   "outputs": [],
   "source": [
    "my_list=[]  # create a new list\n",
    "my_list"
   ]
  },
  {
   "cell_type": "code",
   "execution_count": null,
   "id": "8e3dfec4-1082-46ff-b1da-1aff0911e9f5",
   "metadata": {},
   "outputs": [],
   "source": [
    "my_list.append(5)  # append an element to the end\n",
    "my_list"
   ]
  },
  {
   "cell_type": "code",
   "execution_count": null,
   "id": "6d92fc04-a894-42f3-a138-9173ac586afe",
   "metadata": {},
   "outputs": [],
   "source": [
    "my_list.append('Brown fox')  # append one more element\n",
    "my_list"
   ]
  },
  {
   "cell_type": "code",
   "execution_count": null,
   "id": "b48f3033-58b5-45df-9d66-b828a0aadcb9",
   "metadata": {},
   "outputs": [],
   "source": [
    "my_list.append(5 < 9)  # ...and one more element\n",
    "my_list"
   ]
  },
  {
   "cell_type": "code",
   "execution_count": null,
   "id": "935278a1-2b10-47a2-aa07-77de2ecbe64d",
   "metadata": {},
   "outputs": [],
   "source": [
    "my_list.append(input('Enter the new list element: '))  # use `input` to add the next element\n",
    "my_list"
   ]
  },
  {
   "cell_type": "code",
   "execution_count": null,
   "id": "637a3b12-75cb-4311-8f72-ab84c51dbab7",
   "metadata": {},
   "outputs": [],
   "source": [
    "# now let's remove element `5` from the list\n",
    "\n",
    "my_list.remove(5)\n",
    "print('my_list is:', my_list)"
   ]
  },
  {
   "cell_type": "code",
   "execution_count": null,
   "id": "1edad2db-55f1-4253-9535-b9d894cb0486",
   "metadata": {},
   "outputs": [],
   "source": [
    "# get 2nd element from our list\n",
    "# Note that element's position in list starts from 0\n",
    "\n",
    "print('The 2nd element is:', my_list[2])  "
   ]
  },
  {
   "cell_type": "markdown",
   "id": "f2c88a8b-ad29-4fce-a67b-41d5c2e2e228",
   "metadata": {},
   "source": [
    "#### Insert, indexing"
   ]
  },
  {
   "cell_type": "code",
   "execution_count": null,
   "id": "97dfbaa0-418e-4975-9b6d-f68ccd0717f5",
   "metadata": {},
   "outputs": [],
   "source": [
    "colors = ['red', 'blue', 'green']\n",
    "\n",
    "print('element at position 0 is:', colors[0])\n",
    "print('element at position 2 is:', colors[2])\n",
    "print('lenght of the list is:', len(colors))"
   ]
  },
  {
   "cell_type": "code",
   "execution_count": null,
   "id": "02e8ce4d-1ee0-4c10-9c77-19cc1d7fa2b9",
   "metadata": {},
   "outputs": [],
   "source": [
    "colors.append('yellow')  # appent element at the end\n",
    "colors.insert(2,'black')  # insert at 2nd position\n",
    "print('now list is:', colors)"
   ]
  },
  {
   "cell_type": "code",
   "execution_count": null,
   "id": "c3d4d4d8-e550-4172-91a9-f590b3b61c2f",
   "metadata": {},
   "outputs": [],
   "source": [
    "alphabets = ['a', 'e', 'i', 'o', 'g', 'l', 'i', 'u']\n",
    "\n",
    "# index of 'i' in alphabets\n",
    "index = alphabets.index('e')  # index expected to be `1`\n",
    "print('The index of e:', index)\n",
    "\n",
    "# 'i' after the 4th index is searched\n",
    "index = alphabets.index('i', 4)  \n",
    "print('The index of i:', index)\n",
    "\n",
    "# 'i' between 3rd and 7th index is searched\n",
    "index = alphabets.index('i', 3, 7)   \n",
    "print('The index of i:', index)"
   ]
  },
  {
   "cell_type": "markdown",
   "id": "498b0478-59f3-4f6b-9267-469b1f840108",
   "metadata": {},
   "source": [
    "### Tuples"
   ]
  },
  {
   "cell_type": "code",
   "execution_count": null,
   "id": "4dd7bd3b-d25d-4b74-a04a-572dc398aaae",
   "metadata": {},
   "outputs": [],
   "source": [
    "my_tuple=(3, 5, 7.77, 5 > 8, 'brown fox')\n",
    "my_tuple_a = 1, 2, 3, 'a', 'b', 'c'\n",
    "print(my_tuple, my_tuple_a)\n",
    "print(my_tuple[1])  # takes 1st element (keep in mind, tuple starts from 0)"
   ]
  },
  {
   "cell_type": "code",
   "execution_count": null,
   "id": "c52757f4-dad1-404f-9b3a-2b80f242585d",
   "metadata": {},
   "outputs": [],
   "source": [
    "one_more_tuple = ('ax', 'ann123', 'x')\n",
    "print(min(one_more_tuple))  # find minimal element"
   ]
  },
  {
   "cell_type": "code",
   "execution_count": null,
   "id": "731a3b44-75c8-43e4-96a0-485c290944ef",
   "metadata": {},
   "outputs": [],
   "source": [
    "# create tuple from other tuples\n",
    "# you may use add operator for tuples\n",
    "\n",
    "new_tuple = my_tuple + my_tuple_a + (99, 100, -1000)\n",
    "print(new_tuple)"
   ]
  },
  {
   "cell_type": "code",
   "execution_count": null,
   "id": "d7deb1c1-051a-4c1f-b1c5-806bf87c8ca1",
   "metadata": {},
   "outputs": [],
   "source": [
    "# create two lists\n",
    "a, b = [1, 2, 3, 4], ['few', 'words', 'as', 'a', 'list']\n",
    "print('first list:', a)\n",
    "print('second list:', b)\n",
    "\n",
    "# create tuple from lists and elements\n",
    "my_tuple=(33, a, b, True)\n",
    "print('initial tuple:', my_tuple)\n",
    "\n",
    "# modify element of tuple\n",
    "# tuple is immutable, but not the elements in it\n",
    "my_tuple[2][2]=187\n",
    "print('modified tuple:', my_tuple)"
   ]
  },
  {
   "cell_type": "markdown",
   "id": "243082ca-02f0-4c15-9806-a5972f545b61",
   "metadata": {},
   "source": [
    "### Dictionaries"
   ]
  },
  {
   "cell_type": "code",
   "execution_count": null,
   "id": "40765f53-6a90-49b1-b7f4-d3be2a502525",
   "metadata": {},
   "outputs": [],
   "source": [
    "# create a dictionary Python style\n",
    "\n",
    "my_dict = {\n",
    "    'a':'apple', \n",
    "    'b':'ball', \n",
    "    'c':'cat'\n",
    "}\n",
    "print(my_dict, '-> of type', type(my_dict))"
   ]
  },
  {
   "cell_type": "code",
   "execution_count": null,
   "id": "5176e17c-547d-49c3-a55f-d3f4efdb6b1f",
   "metadata": {},
   "outputs": [],
   "source": [
    "my_dict['d'] = 'dog'  # add new element to the dictionary\n",
    "my_dict"
   ]
  },
  {
   "cell_type": "code",
   "execution_count": null,
   "id": "6c0c6b65-4294-4df2-aca8-e841abf9c3b8",
   "metadata": {},
   "outputs": [],
   "source": [
    "new_dict={3: '33', 4: '44'}  # create one more dictionary\n",
    "my_dict.update(new_dict)  # update one dictionary with the other\n",
    "print('updated dictionary:', my_dict)"
   ]
  },
  {
   "cell_type": "code",
   "execution_count": null,
   "id": "82d9cb55-f756-4c9c-bedd-cb5abc6e30fb",
   "metadata": {},
   "outputs": [],
   "source": [
    "my_dict.pop('c')  # get value of element by it's key"
   ]
  },
  {
   "cell_type": "code",
   "execution_count": null,
   "id": "136aa793-74ab-48f6-9950-411d3197ec61",
   "metadata": {},
   "outputs": [],
   "source": [
    "my_dict.popitem()  # use iterator to extract elements"
   ]
  },
  {
   "cell_type": "markdown",
   "id": "8af2b78e-eda7-4364-9035-7915ca5a7f7f",
   "metadata": {},
   "source": [
    "### Sets"
   ]
  },
  {
   "cell_type": "markdown",
   "id": "9c65218d-6b42-463b-8953-5de16cfa7281",
   "metadata": {},
   "source": [
    "Set is an unordered collection of data type that has no duplicate elements. "
   ]
  },
  {
   "cell_type": "code",
   "execution_count": null,
   "id": "bb13d3a2-78c2-42f7-9416-084a3014e2ae",
   "metadata": {},
   "outputs": [],
   "source": [
    "# set can be useful to get uhique elements from arbitary list\n",
    "\n",
    "some_list = ['a', 'b', 'bb', 'b', 'c', 'c', 'd', 'dd', 'd', 'ddd', 'd']\n",
    "print('list with all elements:', some_list)\n",
    "\n",
    "elements_set = set(some_list)  # create set from the list\n",
    "print('set with unique elements:', elements_set)"
   ]
  },
  {
   "cell_type": "code",
   "execution_count": null,
   "id": "cf1ae422-8405-483b-aafe-8cab3294e94a",
   "metadata": {},
   "outputs": [],
   "source": [
    "# sometimes we want to find elements \n",
    "# that exist in both sets or we want \n",
    "# to find an intersection of two lists\n",
    "\n",
    "another_elements_set = {1, 2, 3, 'a', 'b', 'c'}\n",
    "print('intersection is:', elements_set.intersection(another_elements_set))"
   ]
  },
  {
   "cell_type": "markdown",
   "id": "9a769615-92d9-4909-a652-47da49c0efd0",
   "metadata": {},
   "source": []
  }
 ],
 "metadata": {
  "kernelspec": {
   "display_name": "Python 3 (ipykernel)",
   "language": "python",
   "name": "python3"
  },
  "language_info": {
   "codemirror_mode": {
    "name": "ipython",
    "version": 3
   },
   "file_extension": ".py",
   "mimetype": "text/x-python",
   "name": "python",
   "nbconvert_exporter": "python",
   "pygments_lexer": "ipython3",
   "version": "3.12.7"
  }
 },
 "nbformat": 4,
 "nbformat_minor": 5
}
