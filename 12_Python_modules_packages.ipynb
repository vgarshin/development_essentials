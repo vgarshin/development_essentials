{
 "cells": [
  {
   "cell_type": "markdown",
   "id": "b5d38ebb-4cb1-4ab0-872c-21704174d91d",
   "metadata": {},
   "source": [
    "# Development Essentials course"
   ]
  },
  {
   "cell_type": "markdown",
   "id": "ideal-coverage",
   "metadata": {},
   "source": [
    "## Python modules and packages"
   ]
  },
  {
   "cell_type": "markdown",
   "id": "a1f286fa-cd6d-4fd6-9ffc-af8d8e6bc4a6",
   "metadata": {},
   "source": [
    "### Built-in modules"
   ]
  },
  {
   "cell_type": "code",
   "execution_count": null,
   "id": "6c98479b-6751-4fcf-b285-54b88c3e5944",
   "metadata": {},
   "outputs": [],
   "source": [
    "# Examole of built-in module\n",
    "# just import it and use\n",
    "\n",
    "import math"
   ]
  },
  {
   "cell_type": "code",
   "execution_count": null,
   "id": "ba15d70b-bc83-4052-b2da-d78906ee1766",
   "metadata": {},
   "outputs": [],
   "source": [
    "print('Pi value =', math.pi)"
   ]
  },
  {
   "cell_type": "code",
   "execution_count": null,
   "id": "3c73d44d-4f38-483b-b4d5-8a265066f75c",
   "metadata": {},
   "outputs": [],
   "source": [
    "num = 16\n",
    "print('Squared root of', num, 'is', math.sqrt(num))"
   ]
  },
  {
   "cell_type": "code",
   "execution_count": null,
   "id": "a4d13e11-537e-4987-b5aa-7ef889304106",
   "metadata": {},
   "outputs": [],
   "source": [
    "print('Sin(pi / 2) =', math.sin(math.pi/2))"
   ]
  },
  {
   "cell_type": "code",
   "execution_count": null,
   "id": "d95e3aed-86d5-4ea3-9114-becd623a434b",
   "metadata": {},
   "outputs": [],
   "source": [
    "# You can import just one constant \n",
    "# from the whole module\n",
    "\n",
    "from math import pi\n",
    "\n",
    "print('Pi value =', math.pi)"
   ]
  },
  {
   "cell_type": "markdown",
   "id": "1e831fd9-3122-4bb6-ac86-1a527eaa222e",
   "metadata": {},
   "source": [
    "### Modules"
   ]
  },
  {
   "cell_type": "markdown",
   "id": "acd300ff-1276-412a-9246-0937980ae1e7",
   "metadata": {},
   "source": [
    "Let's create our own module:"
   ]
  },
  {
   "cell_type": "code",
   "execution_count": null,
   "id": "79ad09da-fb1a-46da-baa4-e96a0464f8d7",
   "metadata": {},
   "outputs": [],
   "source": [
    "%%writefile mytempconversion.py\n",
    "#!/usr/bin/env python3\n",
    "# coding: utf-8\n",
    "\n",
    "# Example module to convert between\n",
    "# between Fahrenheit and Celsius\n",
    "# Based on https://www.geeksforgeeks.org/basics-of-python-modules/\n",
    "\n",
    "def to_celsius(x):\n",
    "    \"\"\"\n",
    "    Converts temperature from F to C.\n",
    "\n",
    "    Parameters\n",
    "        x (float): temperature in Fahrenheit\n",
    "\n",
    "    Returns\n",
    "        temp (float): temperature in Celsius\n",
    "    \"\"\"\n",
    "    return 5 * (x - 32) / 9.0\n",
    "\n",
    "\n",
    "def to_fahrenheit(x):\n",
    "    \"\"\"\n",
    "    Converts temperature from C to F.\n",
    "\n",
    "    Parameters\n",
    "        x (float): temperature in Celsius\n",
    "\n",
    "    Returns\n",
    "        temp (float): temperature in Fahrenheit\n",
    "    \"\"\"\n",
    "    return 9 * x / 5.0 + 32\n",
    "\n",
    "\n",
    "# Constants\n",
    "# water freezing temperature (in Celsius)\n",
    "FREEZING_C = 0.0\n",
    "# water freezing temperature (in Fahrenheit)\t \n",
    "FREEZING_F = 32.0\t"
   ]
  },
  {
   "cell_type": "code",
   "execution_count": null,
   "id": "04fe040f-0fff-4651-875c-2f11108d65bd",
   "metadata": {},
   "outputs": [],
   "source": [
    "!cat mytempconversion.py"
   ]
  },
  {
   "cell_type": "code",
   "execution_count": null,
   "id": "c7928090-09ea-41cb-b658-1ca065e280d9",
   "metadata": {},
   "outputs": [],
   "source": [
    "# Now we can import our module\n",
    "# and all functions and constants\n",
    "# from that module will be available. \n",
    "# File with module should be in current directory\n",
    "\n",
    "import mytempconversion"
   ]
  },
  {
   "cell_type": "code",
   "execution_count": null,
   "id": "e58d41d9-396f-4ec0-9ab1-874cd391e80d",
   "metadata": {},
   "outputs": [],
   "source": [
    "# Here is how we can address function\n",
    "# from our module <NAME_OF_OUR_MODULE>.<SOME_FUNCTION>.\n",
    "# Here we convert temperature from F to C\n",
    "\n",
    "fahr_temp = 451\n",
    "print(\n",
    "    'Fahrenheit temperature of',\n",
    "    fahr_temp,\n",
    "    'will be',\n",
    "    mytempconversion.to_celsius(fahr_temp),\n",
    "    'in Celsius'\n",
    ")"
   ]
  },
  {
   "cell_type": "code",
   "execution_count": null,
   "id": "2345b36e-ae7e-4c05-8b83-f0efde94138a",
   "metadata": {},
   "outputs": [],
   "source": [
    "# Import just one function\n",
    "\n",
    "from mytempconversion import to_fahrenheit\n",
    "\n",
    "cels_temp = 100\n",
    "print(\n",
    "    'Celsius temperature of',\n",
    "    cels_temp,\n",
    "    'will be',\n",
    "    to_fahrenheit(cels_temp),\n",
    "    'in Fahrenheit'\n",
    ")"
   ]
  },
  {
   "cell_type": "code",
   "execution_count": null,
   "id": "299be9f9-f936-4cc0-806b-5496b572fda8",
   "metadata": {},
   "outputs": [],
   "source": [
    "# Import all functions and constants from our module\n",
    "\n",
    "from mytempconversion import *\n",
    "\n",
    "print('Water freezing temperature(in Fahrenheit) is', FREEZING_F)"
   ]
  },
  {
   "cell_type": "markdown",
   "id": "ee52a3b2-f40c-4291-bcef-ece721953eac",
   "metadata": {},
   "source": [
    "### Packages"
   ]
  },
  {
   "cell_type": "markdown",
   "id": "7566a5e0-590a-4108-b6dd-c6f8b18ca02b",
   "metadata": {},
   "source": [
    "Now let's create our own package. We need a directory with:\n",
    "- name of our package\n",
    "- `__init__.py` file in the directory (file can be empty)"
   ]
  },
  {
   "cell_type": "code",
   "execution_count": null,
   "id": "b20919ae-9bc3-46f1-8325-eda715424c54",
   "metadata": {},
   "outputs": [],
   "source": [
    "!mkdir -p my_package"
   ]
  },
  {
   "cell_type": "code",
   "execution_count": null,
   "id": "96eeed16-c20a-42fe-9d58-5816f9333e41",
   "metadata": {},
   "outputs": [],
   "source": [
    "%%writefile my_package/my_list.py\n",
    "def count_yes(my_list):\n",
    "    \"\"\"\n",
    "    This function counts 'yes' values in a given list\n",
    "    and there will be our first part of the package.\n",
    "\n",
    "    Parameters\n",
    "      my_list (list): arbitary list\n",
    "\n",
    "    Returns:\n",
    "      count (int): number of 'yes' elements in a given list\n",
    "    \n",
    "    \"\"\"\n",
    "    i = 0\n",
    "    for x in my_list:\n",
    "        if x == 'yes':\n",
    "            i += 1\n",
    "    return i"
   ]
  },
  {
   "cell_type": "code",
   "execution_count": null,
   "id": "5e5a9678-fa3f-4e87-b492-d8d1c0944faf",
   "metadata": {},
   "outputs": [],
   "source": [
    "!ls -la my_package/my_list.py"
   ]
  },
  {
   "cell_type": "code",
   "execution_count": null,
   "id": "f92f272a-4183-4780-b526-f9ee5fc16b2c",
   "metadata": {},
   "outputs": [],
   "source": [
    "!cat my_package/my_list.py"
   ]
  },
  {
   "cell_type": "code",
   "execution_count": null,
   "id": "afd45ed5-0340-4ba0-ab3a-4edca42692a8",
   "metadata": {},
   "outputs": [],
   "source": [
    "%%writefile my_package/list_examples.py\n",
    "# This is our secound part of the package.\n",
    "# It contains the constants only\n",
    "\n",
    "list_a = [1, 2, 4, 7, 3, \"yes\", 5, 0, 8]\n",
    "list_b = [\"cat\", \"yes\", \"yes\", \"pig\", \"whale\", \"yes\", \"tiger\", \"python\"]"
   ]
  },
  {
   "cell_type": "code",
   "execution_count": null,
   "id": "9ca2ba08-5388-405a-89e7-3925e1c41c0c",
   "metadata": {},
   "outputs": [],
   "source": [
    "!cat my_package/list_examples.py"
   ]
  },
  {
   "cell_type": "code",
   "execution_count": null,
   "id": "580a47af-e4cc-4ea2-b374-77540037e6ff",
   "metadata": {},
   "outputs": [],
   "source": [
    "# Now we create empty `__init__.py` file\n",
    "# to let Python know that our directory\n",
    "# contains package\n",
    "\n",
    "!touch my_package/__init__.py"
   ]
  },
  {
   "cell_type": "code",
   "execution_count": null,
   "id": "6a92b54c-1860-4eb1-b934-2af0921be813",
   "metadata": {},
   "outputs": [],
   "source": [
    "# We can import our new package like \n",
    "# `import <DIRECTORY_NAME>` or we can\n",
    "# import functions or constamnts only\n",
    "\n",
    "import my_package.list_examples, my_package.my_list"
   ]
  },
  {
   "cell_type": "code",
   "execution_count": null,
   "id": "1f971c0e-2a59-4f78-a2d6-03ee1f3473ca",
   "metadata": {},
   "outputs": [],
   "source": [
    "# Constants from the package\n",
    "\n",
    "print(\n",
    "    'First constant is:',\n",
    "    my_package.list_examples.list_a,\n",
    "    '\\nSecond constant is:',\n",
    "    my_package.list_examples.list_b\n",
    ")"
   ]
  },
  {
   "cell_type": "code",
   "execution_count": null,
   "id": "0b51b8f2-da89-46f5-a310-e3ed976c38f7",
   "metadata": {},
   "outputs": [],
   "source": [
    "# Function from the package\n",
    "\n",
    "print(\n",
    "    'Number of `yes` values in',\n",
    "    my_package.list_examples.list_a,\n",
    "    'is:',\n",
    "    my_package.my_list.count_yes(my_package.list_examples.list_a)\n",
    ")"
   ]
  },
  {
   "cell_type": "code",
   "execution_count": null,
   "id": "014e8ad2-9830-4324-a8da-36468d62d87a",
   "metadata": {},
   "outputs": [],
   "source": []
  }
 ],
 "metadata": {
  "kernelspec": {
   "display_name": "Python 3 (ipykernel)",
   "language": "python",
   "name": "python3"
  },
  "language_info": {
   "codemirror_mode": {
    "name": "ipython",
    "version": 3
   },
   "file_extension": ".py",
   "mimetype": "text/x-python",
   "name": "python",
   "nbconvert_exporter": "python",
   "pygments_lexer": "ipython3",
   "version": "3.12.7"
  }
 },
 "nbformat": 4,
 "nbformat_minor": 5
}
