{
 "cells": [
  {
   "cell_type": "markdown",
   "id": "b5d38ebb-4cb1-4ab0-872c-21704174d91d",
   "metadata": {},
   "source": [
    "# Development Essentials course"
   ]
  },
  {
   "cell_type": "markdown",
   "id": "ideal-coverage",
   "metadata": {},
   "source": [
    "## Python for Data Analysis - part 3"
   ]
  },
  {
   "cell_type": "markdown",
   "id": "41bf3b0e-3b8f-45db-b104-66dde75fc47e",
   "metadata": {},
   "source": [
    "### Matplotlib"
   ]
  },
  {
   "cell_type": "markdown",
   "id": "d824a590-9bce-44d3-876c-162213785f3d",
   "metadata": {},
   "source": [
    "[Matplotlib](https://matplotlib.org/) is a comprehensive library for creating static, animated, and interactive visualizations in Python. Matplotlib makes easy things easy and hard things possible."
   ]
  },
  {
   "cell_type": "code",
   "execution_count": null,
   "id": "9f36c9ef-9916-47d9-823f-6975c53be2e9",
   "metadata": {},
   "outputs": [],
   "source": [
    "import numpy as np\n",
    "import matplotlib.pyplot as plt"
   ]
  },
  {
   "cell_type": "markdown",
   "id": "abadff18-1a7a-479c-b791-89fa4346de80",
   "metadata": {},
   "source": [
    "#### Lines and dots"
   ]
  },
  {
   "cell_type": "code",
   "execution_count": null,
   "id": "f1f266e7-c384-4f2a-8cb9-e69da0afda6b",
   "metadata": {},
   "outputs": [],
   "source": [
    "# Start with the baseLINE\n",
    "\n",
    "plt.plot([1, 2, 3, 4, 5])\n",
    "plt.ylabel('Some numbers')\n",
    "plt.show()"
   ]
  },
  {
   "cell_type": "code",
   "execution_count": null,
   "id": "569d8530-5176-4068-8838-298fabc358b2",
   "metadata": {},
   "outputs": [],
   "source": [
    "# Here we use both 'x' and 'y' values\n",
    "# to draw a line for two axes\n",
    "\n",
    "xpoints = np.array([1, 50])\n",
    "ypoints = np.array([3, 5])\n",
    "plt.plot(xpoints, ypoints)\n",
    "plt.show()"
   ]
  },
  {
   "cell_type": "code",
   "execution_count": null,
   "id": "9a885a56-4f6d-485a-93eb-0e5a8271ff85",
   "metadata": {},
   "outputs": [],
   "source": [
    "# Add some non-linearity...\n",
    "\n",
    "xpoints = np.array([1, 2, 6, 8])\n",
    "ypoints = np.array([3, 8, 1, 10])\n",
    "plt.plot(xpoints, ypoints)\n",
    "plt.show()"
   ]
  },
  {
   "cell_type": "code",
   "execution_count": null,
   "id": "412261b0-3f86-415d-bdc6-db45de8e9f11",
   "metadata": {},
   "outputs": [],
   "source": [
    "# ...or we can use `scatter` for points only\n",
    "\n",
    "plt.scatter(xpoints, ypoints)\n",
    "plt.show()"
   ]
  },
  {
   "cell_type": "code",
   "execution_count": null,
   "id": "be64149c-33fc-4692-accb-214234c3ae92",
   "metadata": {},
   "outputs": [],
   "source": [
    "# `plot` has many parameters to change layout\n",
    "# here we use `marker` parameter to specify points\n",
    "\n",
    "plt.plot(xpoints, ypoints, marker = '*')\n",
    "plt.show()"
   ]
  },
  {
   "cell_type": "code",
   "execution_count": null,
   "id": "e6b8b977-634f-4bb6-86f3-091c5288eb7e",
   "metadata": {},
   "outputs": [],
   "source": [
    "# More options to change line or color\n",
    "\n",
    "plt.plot(xpoints, ypoints, 'x--r')\n",
    "plt.grid()  # grid layout at the plot\n",
    "plt.show()"
   ]
  },
  {
   "cell_type": "code",
   "execution_count": null,
   "id": "520ca67e-4285-47dd-9a59-0a714d1f89ea",
   "metadata": {},
   "outputs": [],
   "source": [
    "# Size of the plot can also be changed\n",
    "\n",
    "plt.figure(figsize=(2, 2))  # `figsize` sets the size of a plot\n",
    "plt.plot(xpoints, ypoints, 'x--r')\n",
    "plt.grid()  # grid layout at the plot\n",
    "plt.show()"
   ]
  },
  {
   "cell_type": "code",
   "execution_count": null,
   "id": "3fe5abe9-91f8-4a66-bd7c-617349f7bd2a",
   "metadata": {},
   "outputs": [],
   "source": [
    "# With the `subplots()` function you can draw \n",
    "# multiple plots in one figure\n",
    "\n",
    "plt.figure(figsize=(8, 2))\n",
    "\n",
    "# plot 1\n",
    "x = np.array([0, 1, 2, 3])\n",
    "y = np.array([3, 8, 1, 10])\n",
    "plt.subplot(1, 2, 1)  # the total figure has 1 row, 2 columns, and this plot is the first plot\n",
    "plt.plot(x,y)\n",
    "plt.title('INCOME')\n",
    "\n",
    "# plot 2\n",
    "x = np.array([0, 1, 2, 3])\n",
    "y = np.array([10, 20, 30, 40])\n",
    "plt.subplot(1, 2, 2)  # the total figure has 1 row, 2 columns, and this plot is the second plot\n",
    "plt.plot(x,y)\n",
    "plt.title('SALES')\n",
    "\n",
    "plt.show()"
   ]
  },
  {
   "cell_type": "markdown",
   "id": "4ac849b9-3e9d-4bf0-bcd5-ac4378892095",
   "metadata": {},
   "source": [
    "#### Bars"
   ]
  },
  {
   "cell_type": "code",
   "execution_count": null,
   "id": "dead85f7-e099-4e50-b6da-c2e9a948c713",
   "metadata": {},
   "outputs": [],
   "source": [
    "x = np.array(['A', 'B', 'C', 'D'])\n",
    "y = np.array([3, 8, 1, 10])\n",
    "plt.bar(x, y)\n",
    "plt.title('What a nice barplot')  # use it for title\n",
    "plt.show()"
   ]
  },
  {
   "cell_type": "code",
   "execution_count": null,
   "id": "368f6ba1-d288-45ef-980a-491e4b0e3e6a",
   "metadata": {},
   "outputs": [],
   "source": [
    "x = np.array(['A', 'B', 'C', 'D'])\n",
    "y = np.array([3, 8, 1, 10])\n",
    "plt.barh(x, y, color='#4CAF50')  # horizontal bar\n",
    "plt.title('I am lying on my side')\n",
    "plt.show()"
   ]
  },
  {
   "cell_type": "markdown",
   "id": "4b91be20-c788-454a-81c0-55e1a6b928dc",
   "metadata": {},
   "source": [
    "#### Pie charts"
   ]
  },
  {
   "cell_type": "code",
   "execution_count": null,
   "id": "a7cc01ae-1d49-4eb2-a669-7ddf8134e2d2",
   "metadata": {},
   "outputs": [],
   "source": [
    "y = np.array([35, 25, 25, 15])\n",
    "x = ['part 1', 'part 2', 'part 3', 'part 4']\n",
    "plt.pie(y)\n",
    "plt.title('Pie chart')\n",
    "plt.legend(x)  # you may add a legend for the plot\n",
    "plt.show()"
   ]
  },
  {
   "cell_type": "code",
   "execution_count": null,
   "id": "370c8596-1a0e-4733-83be-bcd8937db0b5",
   "metadata": {},
   "outputs": [],
   "source": [
    "y = np.array([35, 25, 25, 15])\n",
    "my_labels = ['Apples', 'Bananas', 'Cherries', 'Dates']\n",
    "my_colors = ['orange', 'hotpink', 'b', '#4CAF50']\n",
    "my_explode = [.2, 0, 0, 0]  # makes 'Apples' fly away if needed\n",
    "plt.pie(\n",
    "    y, \n",
    "    labels=my_labels, \n",
    "    colors=my_colors, \n",
    "    explode=my_explode\n",
    ")\n",
    "#plt.legend(title='Four Fruits:', loc='upper left')  # uncomment for the legend to add\n",
    "plt.show()"
   ]
  },
  {
   "cell_type": "markdown",
   "id": "c7ffdc00-1b16-4a71-939e-d9cf2497d873",
   "metadata": {},
   "source": [
    "### Statistics"
   ]
  },
  {
   "cell_type": "markdown",
   "id": "c490b9a3-7325-448e-8fbc-0a5899bc82a2",
   "metadata": {},
   "source": [
    "[This module](https://docs.python.org/3/library/statistics.html) provides functions for calculating mathematical statistics of numeric data."
   ]
  },
  {
   "cell_type": "code",
   "execution_count": null,
   "id": "3ab45a8d-1638-4406-81a6-19ae3b1bbff7",
   "metadata": {},
   "outputs": [],
   "source": [
    "import statistics as st"
   ]
  },
  {
   "cell_type": "code",
   "execution_count": null,
   "id": "3d22e154-458a-4db1-9786-aa696596f40c",
   "metadata": {},
   "outputs": [],
   "source": [
    "x = [1, 2, 3, 4, 4]\n",
    "print('Mean for', x, 'is:', st.mean(x))"
   ]
  },
  {
   "cell_type": "code",
   "execution_count": null,
   "id": "82cc51cb-c174-4e29-81b4-b24a1889aeeb",
   "metadata": {},
   "outputs": [],
   "source": [
    "x = [1, 2, 3, 4, 10000]\n",
    "print('Median for', x, 'is:', st.median(x))"
   ]
  },
  {
   "cell_type": "code",
   "execution_count": null,
   "id": "af6b60fd-cb44-4892-b64b-29809d47f559",
   "metadata": {},
   "outputs": [],
   "source": [
    "x = [1, 1, 2, 3, 3, 3, 3, 4]\n",
    "print('Mode for', x, 'is:', st.mode(x))"
   ]
  },
  {
   "cell_type": "code",
   "execution_count": null,
   "id": "2db55ec9-b3a6-4e55-becc-f6f5cb469322",
   "metadata": {},
   "outputs": [],
   "source": [
    "x = ['red', 'blue', 'blue', 'red', 'green', 'red', 'red']\n",
    "print('Mode for', x, 'is:', st.mode(x))"
   ]
  },
  {
   "cell_type": "code",
   "execution_count": null,
   "id": "0306b34a-4e8f-4402-ba7c-20cc0c2a95ac",
   "metadata": {},
   "outputs": [],
   "source": [
    "x = [2.75, 1.75, 1.25, 0.25, 0.5, 1.25, 3.5]\n",
    "print('Variance for', x, 'is:', st.variance(x))"
   ]
  },
  {
   "cell_type": "markdown",
   "id": "e0ddfebd-f4cf-474b-b438-6285591f5a7d",
   "metadata": {},
   "source": [
    "### Seaborn"
   ]
  },
  {
   "cell_type": "markdown",
   "id": "fc6344a1-768e-40cd-a789-942d222c325e",
   "metadata": {},
   "source": [
    "[Seaborn](https://seaborn.pydata.org/) is a Python data visualization library based on `matplotlib`. It provides a high-level interface for drawing attractive and informative statistical graphics."
   ]
  },
  {
   "cell_type": "code",
   "execution_count": null,
   "id": "4bd5ff85-c921-44ef-8eac-0e05fbf1f3c5",
   "metadata": {},
   "outputs": [],
   "source": [
    "import seaborn as sns\n",
    "\n",
    "sns.__version__"
   ]
  },
  {
   "cell_type": "markdown",
   "id": "acd9c93c-0350-4af9-9565-2e6143aaafd5",
   "metadata": {},
   "source": [
    "#### Datasets"
   ]
  },
  {
   "cell_type": "markdown",
   "id": "2e4eca53-b1a2-4a1f-bfe6-04deef18eeb5",
   "metadata": {},
   "source": [
    "`Seaborn` has many built-in demo dataset that can be loaded with `load_dataset()` function to get quick access to an example dataset. There’s nothing special about these datasets: they are just pandas dataframes."
   ]
  },
  {
   "cell_type": "code",
   "execution_count": null,
   "id": "cec768b5-3093-4c0a-a551-881915017940",
   "metadata": {},
   "outputs": [],
   "source": [
    "# List available datasets\n",
    "\n",
    "print('Here are datasets:', sns.get_dataset_names())"
   ]
  },
  {
   "cell_type": "code",
   "execution_count": null,
   "id": "323bc15a-8238-47bc-baa2-038f5ed0beb0",
   "metadata": {},
   "outputs": [],
   "source": [
    "tips = sns.load_dataset('tips')  # Load an example dataset\n",
    "tips.head()  # It is just a pandas dataframe"
   ]
  },
  {
   "cell_type": "code",
   "execution_count": null,
   "id": "f7985cbc-ed86-4170-91ef-24f9ac509eff",
   "metadata": {},
   "outputs": [],
   "source": [
    "tips.info()"
   ]
  },
  {
   "cell_type": "code",
   "execution_count": null,
   "id": "ced2caa2-f1f8-4fea-91d3-c8e2c07bdd37",
   "metadata": {},
   "outputs": [],
   "source": [
    "tips.describe()"
   ]
  },
  {
   "cell_type": "markdown",
   "id": "046c997a-ee67-4705-a7b3-8b739a97b47b",
   "metadata": {},
   "source": [
    "#### Visualizations"
   ]
  },
  {
   "cell_type": "code",
   "execution_count": null,
   "id": "bcad80de-03f1-42e0-90e0-f1e8ff51d3cc",
   "metadata": {},
   "outputs": [],
   "source": [
    "sns.set_theme(style='darkgrid')  # We can select theme 'whitegrid', 'white', 'dark'…\n",
    "tips = sns.load_dataset('tips')  # Load an example dataset"
   ]
  },
  {
   "cell_type": "code",
   "execution_count": null,
   "id": "44b55341-3bd2-4608-b9b4-30f6a529371b",
   "metadata": {},
   "outputs": [],
   "source": [
    "# Create a visualization and\n",
    "# start with couple of relational plots\n",
    "\n",
    "sns.relplot(                 \n",
    "    data=tips,\n",
    "    x='total_bill', \n",
    "    y='tip', \n",
    "    col='time',\n",
    "    hue='smoker', \n",
    "    size='size'\n",
    ")\n",
    "plt.show()"
   ]
  },
  {
   "cell_type": "code",
   "execution_count": null,
   "id": "fd19f223-405a-417d-b912-4c671bf9c372",
   "metadata": {},
   "outputs": [],
   "source": [
    "# Add some statistical analysis. \n",
    "# It is possible to enhance a scatterplot \n",
    "# by including a linear regression model \n",
    "# (and its uncertainty) using `lmplot()`\n",
    "\n",
    "sns.lmplot(\n",
    "    data=tips, \n",
    "    x='total_bill', \n",
    "    y='tip', \n",
    "    col='time', \n",
    "    hue='smoker'\n",
    ")\n",
    "plt.show()"
   ]
  },
  {
   "cell_type": "code",
   "execution_count": null,
   "id": "1c169f7b-f6df-46c5-b172-77b4e80e4520",
   "metadata": {
    "scrolled": true
   },
   "outputs": [],
   "source": [
    "# Distribution plots are very handy\n",
    "# for the data analysis\n",
    "\n",
    "sns.displot(\n",
    "    data=tips, \n",
    "    x='total_bill', \n",
    "    col='time', \n",
    "    kde=True\n",
    ")\n",
    "plt.show()"
   ]
  },
  {
   "cell_type": "code",
   "execution_count": null,
   "id": "ec6b41bd-7e98-4d64-b929-0a9eb9ee5961",
   "metadata": {},
   "outputs": [],
   "source": []
  }
 ],
 "metadata": {
  "kernelspec": {
   "display_name": "Python 3 (ipykernel)",
   "language": "python",
   "name": "python3"
  },
  "language_info": {
   "codemirror_mode": {
    "name": "ipython",
    "version": 3
   },
   "file_extension": ".py",
   "mimetype": "text/x-python",
   "name": "python",
   "nbconvert_exporter": "python",
   "pygments_lexer": "ipython3",
   "version": "3.12.7"
  },
  "widgets": {
   "application/vnd.jupyter.widget-state+json": {
    "state": {},
    "version_major": 2,
    "version_minor": 0
   }
  }
 },
 "nbformat": 4,
 "nbformat_minor": 5
}
