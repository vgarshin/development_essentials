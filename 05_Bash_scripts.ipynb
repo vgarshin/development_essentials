{
 "cells": [
  {
   "cell_type": "markdown",
   "id": "23a9f901-3b0a-48dc-ab83-c3d3d45b3f2f",
   "metadata": {
    "tags": []
   },
   "source": [
    "# Development Essentials course"
   ]
  },
  {
   "cell_type": "markdown",
   "id": "18ea9a5c-b32c-48a7-a21a-3894d2700040",
   "metadata": {},
   "source": [
    "## Bash scripts and Jupyter notebooks"
   ]
  },
  {
   "cell_type": "markdown",
   "id": "f9111f8c-61e0-4f93-9d83-41aff85efad3",
   "metadata": {},
   "source": [
    "### Intro"
   ]
  },
  {
   "cell_type": "markdown",
   "id": "29033d2f-5c81-4af1-b967-c95812009d70",
   "metadata": {},
   "source": [
    "The straightforward way to work with bash script (write and run them) is to open a `Terminal` and do all the job there. Within the Unix terminal you may use any editor like `vi`, `vim` or `nano` to create files that contain bash scripts. \n",
    "\n",
    "Do not forget to make your script executable with help of `chmod +x myscript.sh` and run it like `./myscript.sh` (starts with `./` symbols).\n",
    "\n",
    "However, Jupyter notebook can also be helpful when you want to work with bash commands and scripts. Let's see how it works."
   ]
  },
  {
   "cell_type": "markdown",
   "id": "6512d854-1132-414e-a3d1-9d622653fdb4",
   "metadata": {
    "tags": []
   },
   "source": [
    "### Some magic for the start"
   ]
  },
  {
   "cell_type": "markdown",
   "id": "53ccd7f1-5a1e-4fa7-87d0-cd3c09818c51",
   "metadata": {},
   "source": [
    "Jupyter notebooks offer a variety of built-in `magic` functions that enhance the functionality of the notebooks. [Here](https://ipython.readthedocs.io/en/stable/interactive/magics.html) you can find more information about the `magic` of Jupyter."
   ]
  },
  {
   "cell_type": "code",
   "execution_count": null,
   "id": "7a1871fc-f4c0-44af-bca6-76b9d9b621fb",
   "metadata": {
    "scrolled": true,
    "tags": []
   },
   "outputs": [],
   "source": [
    "# list all magic functions available\n",
    "\n",
    "%magic"
   ]
  },
  {
   "cell_type": "code",
   "execution_count": null,
   "id": "9affe93a-8b7d-428d-ab70-32609c3be431",
   "metadata": {},
   "outputs": [],
   "source": [
    "# list all magic functions available as a dictionary\n",
    "\n",
    "%lsmagic"
   ]
  },
  {
   "cell_type": "markdown",
   "id": "28500086-c278-49ac-b3e0-34e64c4052f3",
   "metadata": {},
   "source": [
    "Moreover, some `shell` commands are duplicated with magic:"
   ]
  },
  {
   "cell_type": "code",
   "execution_count": null,
   "id": "f60c8601-a085-4f36-a271-3b60733c8e1b",
   "metadata": {
    "tags": []
   },
   "outputs": [],
   "source": [
    "%pwd"
   ]
  },
  {
   "cell_type": "code",
   "execution_count": null,
   "id": "bdb83f45-13e5-47b5-9077-c66ab495996f",
   "metadata": {
    "tags": []
   },
   "outputs": [],
   "source": [
    "%ls"
   ]
  },
  {
   "cell_type": "markdown",
   "id": "4be3a1ae-882a-41ec-a17e-b648d5ab8fe4",
   "metadata": {},
   "source": [
    "### Jupyter's cell magic for Bash"
   ]
  },
  {
   "cell_type": "markdown",
   "id": "f94ec98a-7b08-405e-ac35-ad4b8c94b954",
   "metadata": {},
   "source": [
    "We are not going to study all magic functions for the notebooks, we will need only `Bash` magic functions for the lesson. This command is `%%bash` and it helps to write bash scrits in the notebook cells:"
   ]
  },
  {
   "cell_type": "code",
   "execution_count": null,
   "id": "91c91432-8bd5-41eb-9a44-f9b4266cb784",
   "metadata": {},
   "outputs": [],
   "source": [
    "%%bash\n",
    "\n",
    "# this is a bash script \n",
    "# that contains only one command\n",
    "\n",
    "pwd"
   ]
  },
  {
   "cell_type": "code",
   "execution_count": null,
   "id": "66db6ec3-ece6-4000-8c7c-95ec6deea560",
   "metadata": {
    "tags": []
   },
   "outputs": [],
   "source": [
    "%%bash\n",
    "\n",
    "# now let's make script more complicated\n",
    "# and add one more line or command\n",
    "\n",
    "pwd\n",
    "ls -la"
   ]
  },
  {
   "cell_type": "code",
   "execution_count": null,
   "id": "612850f0-7875-44c5-9d37-c01b7e70dce0",
   "metadata": {},
   "outputs": [],
   "source": [
    "%%bash\n",
    "\n",
    "#!/bin/bash\n",
    "# This is a script taken from lecture\n",
    "# and it greets the world\n",
    "\n",
    "clear\n",
    "echo Today is\n",
    "date\n",
    "echo A great day\n",
    "echo Hello world!!!"
   ]
  },
  {
   "cell_type": "markdown",
   "id": "bc41549e-1ba9-4e58-9b98-603ddb071893",
   "metadata": {},
   "source": [
    "You can use `shell`variables in bash script in the notebook cell like in regular bash script:"
   ]
  },
  {
   "cell_type": "code",
   "execution_count": null,
   "id": "094e9989-77e4-4c11-8a20-2defae6ac277",
   "metadata": {},
   "outputs": [],
   "source": [
    "%%bash\n",
    "\n",
    "# this scripts uses bash variable\n",
    "# use the `$` symbol to get the variable’s value\n",
    "# variables can also be taken in figure braсkets\n",
    "\n",
    "bash_variable=\"hello\"\n",
    "echo $bash_variable\n",
    "echo ${bash_variable}"
   ]
  },
  {
   "cell_type": "markdown",
   "id": "b79d43ea-cb7e-407f-89f2-f542b0ea7f03",
   "metadata": {},
   "source": [
    "__NOTE:__ _Bash variables can be accessed only within one cell where they are defined. You may not use bash variables from one cell in the other cell, because bash cell script is executed in its own environment._ "
   ]
  },
  {
   "cell_type": "code",
   "execution_count": null,
   "id": "542bb4b0-d5c8-40fb-95e2-e883af3196f6",
   "metadata": {
    "tags": []
   },
   "outputs": [],
   "source": [
    "%%bash\n",
    "\n",
    "# this script will print empty string\n",
    "# because `bash_variable` is empty and\n",
    "# can not be taken from the cell above\n",
    "\n",
    "echo $bash_variable"
   ]
  },
  {
   "cell_type": "markdown",
   "id": "f096ce80-3f24-4569-888e-a71df5a07a2d",
   "metadata": {},
   "source": [
    "### Write script to a file"
   ]
  },
  {
   "cell_type": "markdown",
   "id": "f23b3e67-247a-4d1f-a221-05fdcfa9b0d8",
   "metadata": {},
   "source": [
    "Here is another magic function `%%writefile` that writes content of the cell to a file:"
   ]
  },
  {
   "cell_type": "code",
   "execution_count": null,
   "id": "65e0f40d-310e-448b-a970-339c0f5de5a8",
   "metadata": {},
   "outputs": [],
   "source": [
    "%%writefile testscript.sh \n",
    "#!/bin/bash\n",
    "\n",
    "mydir=$(pwd)\n",
    "\n",
    "echo I am a bash script and I live in $mydir"
   ]
  },
  {
   "cell_type": "code",
   "execution_count": null,
   "id": "2ee46232-4d0e-41ca-8b17-b4d9400d6bb9",
   "metadata": {},
   "outputs": [],
   "source": [
    "# let's see what is in the file\n",
    "\n",
    "!cat testscript.sh"
   ]
  },
  {
   "cell_type": "code",
   "execution_count": null,
   "id": "920e8a7e-c98e-4a54-85f1-a78a8c2f8022",
   "metadata": {},
   "outputs": [],
   "source": [
    "# but our script is not executable\n",
    "\n",
    "!ls -la testscript.sh"
   ]
  },
  {
   "cell_type": "code",
   "execution_count": null,
   "id": "1c0d12ff-9482-4310-a99d-b5f4aac96784",
   "metadata": {
    "tags": []
   },
   "outputs": [],
   "source": [
    "# change to executable\n",
    "\n",
    "!chmod +x testscript.sh"
   ]
  },
  {
   "cell_type": "code",
   "execution_count": null,
   "id": "59ae90fb-636c-48da-878e-0ef6a5374fc3",
   "metadata": {},
   "outputs": [],
   "source": [
    "# ...and finally run it\n",
    "\n",
    "!./testscript.sh"
   ]
  },
  {
   "cell_type": "code",
   "execution_count": null,
   "id": "2f0e16c6-d4ea-4449-a295-2cea8f40fc46",
   "metadata": {},
   "outputs": [],
   "source": []
  }
 ],
 "metadata": {
  "kernelspec": {
   "display_name": "Python 3 (ipykernel)",
   "language": "python",
   "name": "python3"
  },
  "language_info": {
   "codemirror_mode": {
    "name": "ipython",
    "version": 3
   },
   "file_extension": ".py",
   "mimetype": "text/x-python",
   "name": "python",
   "nbconvert_exporter": "python",
   "pygments_lexer": "ipython3",
   "version": "3.12.7"
  },
  "widgets": {
   "application/vnd.jupyter.widget-state+json": {
    "state": {},
    "version_major": 2,
    "version_minor": 0
   }
  }
 },
 "nbformat": 4,
 "nbformat_minor": 5
}
