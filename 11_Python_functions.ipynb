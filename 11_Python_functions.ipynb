{
 "cells": [
  {
   "cell_type": "markdown",
   "id": "b5d38ebb-4cb1-4ab0-872c-21704174d91d",
   "metadata": {},
   "source": [
    "# Development Essentials course"
   ]
  },
  {
   "cell_type": "markdown",
   "id": "ideal-coverage",
   "metadata": {},
   "source": [
    "## Python functions"
   ]
  },
  {
   "cell_type": "markdown",
   "id": "ee52a3b2-f40c-4291-bcef-ece721953eac",
   "metadata": {},
   "source": [
    "### Intro"
   ]
  },
  {
   "cell_type": "markdown",
   "id": "c10f96b5-129c-428f-bfbd-0e5a88575bdf",
   "metadata": {},
   "source": [
    "Python has many built-in functions and you have already used many of them:"
   ]
  },
  {
   "cell_type": "code",
   "execution_count": null,
   "id": "2e0a785d-c7db-4eac-a102-23db581fd8f9",
   "metadata": {},
   "outputs": [],
   "source": [
    "# Well-known `print()` function\n",
    "# that takes some text and prints in out\n",
    "\n",
    "print('some text to print')"
   ]
  },
  {
   "cell_type": "code",
   "execution_count": null,
   "id": "95cec0df-95da-403a-a142-9d0083562241",
   "metadata": {},
   "outputs": [],
   "source": [
    "# ...or `len()` function that returns\n",
    "# the length (the number of items) of an object\n",
    "\n",
    "string = 'Hello, my goal is to show you my lenght.'\n",
    "len(string)"
   ]
  },
  {
   "cell_type": "markdown",
   "id": "86c0df17-6fe8-46b5-b197-c755ae8f2a01",
   "metadata": {},
   "source": [
    "...but what if we want to define our own function? See the next chapter."
   ]
  },
  {
   "cell_type": "markdown",
   "id": "documented-martin",
   "metadata": {},
   "source": [
    "### How to define a function"
   ]
  },
  {
   "cell_type": "code",
   "execution_count": null,
   "id": "fd363b27-c8ef-4b25-8721-a297493583ed",
   "metadata": {},
   "outputs": [],
   "source": [
    "# Here is an example of function\n",
    "\n",
    "def my_sum(a, b):\n",
    "    \"\"\"\n",
    "    This is a description of this function. It is not \n",
    "    necessary for function to work but it is a good practice.\n",
    "    Let's see what should be in the description:\n",
    "\n",
    "    This function returns the sum of two numbers.\n",
    "\n",
    "    Parameters\n",
    "        a (int): first input number\n",
    "        b (int): second input number\n",
    "    \n",
    "    Returns\n",
    "        sum (int): sum of two numbers a + b\n",
    "    \"\"\"\n",
    "    sum = a + b  # this is a body of our function\n",
    "    return sum  # result function returns  "
   ]
  },
  {
   "cell_type": "code",
   "execution_count": null,
   "id": "89b5a54f-69ed-46ba-a4e0-b6f4e15ad4b0",
   "metadata": {},
   "outputs": [],
   "source": [
    "# Now we call our function\n",
    "\n",
    "my_sum(a=1, b=2)"
   ]
  },
  {
   "cell_type": "code",
   "execution_count": null,
   "id": "0cc34d23-330e-495d-b06d-ab670648ff48",
   "metadata": {},
   "outputs": [],
   "source": [
    "# ...or simply\n",
    "\n",
    "my_sum(1, 2)"
   ]
  },
  {
   "cell_type": "code",
   "execution_count": null,
   "id": "01ab7dd3-2eb8-403c-aef2-96d077a8ca0b",
   "metadata": {},
   "outputs": [],
   "source": [
    "# `return` is not necessary for function\n",
    "# it can work with no `return`\n",
    "\n",
    "def my_sum_noreturn(a, b):\n",
    "    \"\"\"\n",
    "    Prints the sum of two numbers.\n",
    "\n",
    "    Parameters\n",
    "        a (int): first input number\n",
    "        b (int): second input number\n",
    "    \"\"\"\n",
    "    print(a + b)\n",
    "\n",
    "\n",
    "def greet(name):\n",
    "    \"\"\"\n",
    "    This function greets to\n",
    "    the person passed in as\n",
    "    a parameter.\n",
    "    \n",
    "    Parameters\n",
    "        name (string): name of a person\n",
    "    \"\"\"\n",
    "    print(\"Hello, \" + name + \". Good morning!\")"
   ]
  },
  {
   "cell_type": "code",
   "execution_count": null,
   "id": "8cd6b9ee-b6fc-474f-af8c-6fd23ca42070",
   "metadata": {},
   "outputs": [],
   "source": [
    "my_sum_noreturn(1, 2)"
   ]
  },
  {
   "cell_type": "code",
   "execution_count": null,
   "id": "04ba16c5-6ec1-45e5-ba1f-807f548de6c4",
   "metadata": {},
   "outputs": [],
   "source": [
    "greet('Alex')"
   ]
  },
  {
   "cell_type": "code",
   "execution_count": null,
   "id": "57cd68f8-a25a-4414-a484-348603dccdc9",
   "metadata": {},
   "outputs": [],
   "source": [
    "# Function can also have many `returns`\n",
    "\n",
    "def my_max(a, b):\n",
    "    \"\"\"\n",
    "    Returns maximum of two input numbers.\n",
    "\n",
    "    Parameters\n",
    "        a (int): first input number\n",
    "        b (int): second input number\n",
    "    \"\"\"\n",
    "    if a > b:\n",
    "         return a\n",
    "    else:\n",
    "         return b  "
   ]
  },
  {
   "cell_type": "code",
   "execution_count": null,
   "id": "a383363a-4946-4f54-889d-08a3d5c27848",
   "metadata": {},
   "outputs": [],
   "source": [
    "x = 1\n",
    "y = 2\n",
    "print('The maximum is:', my_max(x, y))"
   ]
  },
  {
   "cell_type": "markdown",
   "id": "96dfa5ab-c5d8-43ac-8a9d-cd6c0614d03d",
   "metadata": {},
   "source": [
    "### Function and variables"
   ]
  },
  {
   "cell_type": "markdown",
   "id": "997511e8-f0eb-473b-9601-040574e798a4",
   "metadata": {},
   "source": [
    "What variables does function see in it's body? Let's investigate:"
   ]
  },
  {
   "cell_type": "code",
   "execution_count": null,
   "id": "0dd2bc5f-0600-4297-a2e8-907c789180ca",
   "metadata": {},
   "outputs": [],
   "source": [
    "global_x = 5\n",
    "\n",
    "def function_to_see():\n",
    "    print(global_x)\n",
    "\n",
    "function_to_see()  # function sees global variable"
   ]
  },
  {
   "cell_type": "code",
   "execution_count": null,
   "id": "d925ae3e-8902-4f35-9316-0e4eb80f70fb",
   "metadata": {},
   "outputs": [],
   "source": [
    "def function_to_change():\n",
    "    global_x = 0\n",
    "    return global_x\n",
    "\n",
    "# Think of the result below\n",
    "# Function operates variables that are in it's body\n",
    "# but does not affect global variables outside\n",
    "# NOTE: what is in function - stays inside the function\n",
    "\n",
    "print('Result of the function:', function_to_change())\n",
    "print('Global variable:', global_x)"
   ]
  },
  {
   "cell_type": "code",
   "execution_count": null,
   "id": "51ae890d-e5c5-4c93-b977-bea3a42643ac",
   "metadata": {},
   "outputs": [],
   "source": [
    "# If we have to change global variable inside a function\n",
    "# we shall use `global` operator\n",
    "\n",
    "global_x = 5\n",
    "\n",
    "def function_to_change_global():\n",
    "    global global_x  # This is a key\n",
    "    global_x = 0  # now we can change `global_x`\n",
    "    return global_x\n",
    "\n",
    "# Now our function can affect global variable\n",
    "\n",
    "print('Result of the function:', function_to_change_global())\n",
    "print('Global variable:', global_x)"
   ]
  },
  {
   "cell_type": "markdown",
   "id": "7f9c9355-3cac-4390-a3dc-e50ec7eecfa5",
   "metadata": {},
   "source": [
    "### `*args` and `**kwargs` in functions"
   ]
  },
  {
   "cell_type": "markdown",
   "id": "57371e0c-2ff6-41df-a081-52a4f60adbe0",
   "metadata": {},
   "source": [
    "Sometimes you may meet `*args` and `**kwargs` that are used to allow functions to accept an arbitrary number of arguments. In Python, these features provide great flexibility when designing functions that need to handle a varying number of inputs."
   ]
  },
  {
   "cell_type": "code",
   "execution_count": null,
   "id": "99373268-bd1d-49a0-915b-2e0a2f24c56a",
   "metadata": {},
   "outputs": [],
   "source": [
    "# Function with `*args` input\n",
    "\n",
    "def sum_args(*args):\n",
    "    for arg in args:\n",
    "        print('input =', arg)\n",
    "    return sum(args)"
   ]
  },
  {
   "cell_type": "code",
   "execution_count": null,
   "id": "c7fa3e0e-e4eb-4be7-a8a5-2984362ca3e3",
   "metadata": {},
   "outputs": [],
   "source": [
    "# Function can take arbitrary number of arguments\n",
    "\n",
    "sum_args(1, 2)"
   ]
  },
  {
   "cell_type": "code",
   "execution_count": null,
   "id": "3b639703-73de-40f2-9f88-25037deeab1b",
   "metadata": {},
   "outputs": [],
   "source": [
    "sum_args(1, 2, 3, 4, 5)"
   ]
  },
  {
   "cell_type": "code",
   "execution_count": null,
   "id": "5f89bb88-bb83-4544-ba39-7a6a5d7a3964",
   "metadata": {},
   "outputs": [],
   "source": [
    "# Function with `*kwargs` input\n",
    "\n",
    "def sum_kwargs(**kwargs):\n",
    "    sum = 0\n",
    "    for key, value in kwargs.items():\n",
    "        print(\n",
    "            'input key =', key, \n",
    "            'input value =', value\n",
    "        )\n",
    "        sum = sum + value\n",
    "    return sum"
   ]
  },
  {
   "cell_type": "code",
   "execution_count": null,
   "id": "7b9a27f5-3567-48f6-95c9-b17622aaf0a8",
   "metadata": {},
   "outputs": [],
   "source": [
    "# Function treats named inpute like a dictionary\n",
    "\n",
    "sum_kwargs(x=1, y=3)"
   ]
  },
  {
   "cell_type": "code",
   "execution_count": null,
   "id": "a056447a-dafe-47b5-95c3-6b08f0e40936",
   "metadata": {},
   "outputs": [],
   "source": [
    "sum_kwargs(x=1, y=3, z=5, i=7, j=11)"
   ]
  },
  {
   "cell_type": "code",
   "execution_count": null,
   "id": "5e05097c-6a7c-4a17-b6a8-c8f17bb39a93",
   "metadata": {},
   "outputs": [],
   "source": []
  }
 ],
 "metadata": {
  "kernelspec": {
   "display_name": "Python 3 (ipykernel)",
   "language": "python",
   "name": "python3"
  },
  "language_info": {
   "codemirror_mode": {
    "name": "ipython",
    "version": 3
   },
   "file_extension": ".py",
   "mimetype": "text/x-python",
   "name": "python",
   "nbconvert_exporter": "python",
   "pygments_lexer": "ipython3",
   "version": "3.12.7"
  }
 },
 "nbformat": 4,
 "nbformat_minor": 5
}
