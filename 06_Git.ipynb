{
 "cells": [
  {
   "cell_type": "markdown",
   "id": "b5d38ebb-4cb1-4ab0-872c-21704174d91d",
   "metadata": {},
   "source": [
    "# Development Essentials course"
   ]
  },
  {
   "cell_type": "markdown",
   "id": "ideal-coverage",
   "metadata": {},
   "source": [
    "## Git and GitHub"
   ]
  },
  {
   "cell_type": "markdown",
   "id": "documented-martin",
   "metadata": {},
   "source": [
    "### Git integration"
   ]
  },
  {
   "cell_type": "markdown",
   "id": "vulnerable-audience",
   "metadata": {},
   "source": [
    "There is [git](https://git-scm.com/) client installed in the environment, so you may use basis `git` commands:"
   ]
  },
  {
   "cell_type": "code",
   "execution_count": null,
   "id": "enhanced-perth",
   "metadata": {},
   "outputs": [],
   "source": [
    "!git help"
   ]
  },
  {
   "cell_type": "code",
   "execution_count": null,
   "id": "presidential-transformation",
   "metadata": {},
   "outputs": [],
   "source": [
    "!git status"
   ]
  },
  {
   "cell_type": "markdown",
   "id": "mineral-concern",
   "metadata": {},
   "source": [
    "Or you may clone a repository e.g. from [github.com](https://github.com) you need with `git clone` command:"
   ]
  },
  {
   "cell_type": "code",
   "execution_count": null,
   "id": "ecological-laundry",
   "metadata": {},
   "outputs": [],
   "source": [
    "!git clone https://github.com/jerry-git/learn-python3"
   ]
  },
  {
   "cell_type": "markdown",
   "id": "composed-johnson",
   "metadata": {},
   "source": [
    "Folder `learn-python3/` with cloned repository `https://github.com/jerry-git/learn-python3` is now created:"
   ]
  },
  {
   "cell_type": "code",
   "execution_count": null,
   "id": "compressed-comment",
   "metadata": {},
   "outputs": [],
   "source": [
    "!ls learn-python3/"
   ]
  },
  {
   "cell_type": "markdown",
   "id": "afraid-wings",
   "metadata": {},
   "source": [
    "Anyway, it can be deleted:"
   ]
  },
  {
   "cell_type": "code",
   "execution_count": null,
   "id": "postal-concentration",
   "metadata": {},
   "outputs": [],
   "source": [
    "!rm -rf learn-python3/"
   ]
  },
  {
   "cell_type": "code",
   "execution_count": null,
   "id": "informational-relation",
   "metadata": {},
   "outputs": [],
   "source": []
  }
 ],
 "metadata": {
  "kernelspec": {
   "display_name": "Python 3 (ipykernel)",
   "language": "python",
   "name": "python3"
  },
  "language_info": {
   "codemirror_mode": {
    "name": "ipython",
    "version": 3
   },
   "file_extension": ".py",
   "mimetype": "text/x-python",
   "name": "python",
   "nbconvert_exporter": "python",
   "pygments_lexer": "ipython3",
   "version": "3.12.7"
  }
 },
 "nbformat": 4,
 "nbformat_minor": 5
}
