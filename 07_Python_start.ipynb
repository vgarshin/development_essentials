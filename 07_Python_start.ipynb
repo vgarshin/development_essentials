{
 "cells": [
  {
   "cell_type": "markdown",
   "id": "b5d38ebb-4cb1-4ab0-872c-21704174d91d",
   "metadata": {},
   "source": [
    "# Development Essentials course"
   ]
  },
  {
   "cell_type": "markdown",
   "id": "ideal-coverage",
   "metadata": {},
   "source": [
    "## Python basics"
   ]
  },
  {
   "cell_type": "markdown",
   "id": "documented-martin",
   "metadata": {},
   "source": [
    "### Intro"
   ]
  },
  {
   "cell_type": "markdown",
   "id": "3a3cd448-a113-4b1d-a6a3-24de7e7ea9bb",
   "metadata": {},
   "source": [
    "__REMINDER:__ Code cells allow you to enter and run code. Run a code cell using `Shift-Enter` or pressing the <button class='btn btn-default btn-xs'><i class=\"icon-step-forward fa fa-play\"></i></button> button in the toolbar above the notebook:"
   ]
  },
  {
   "cell_type": "code",
   "execution_count": null,
   "id": "enhanced-perth",
   "metadata": {},
   "outputs": [],
   "source": [
    "import this"
   ]
  },
  {
   "cell_type": "markdown",
   "id": "5f019eeb-79bf-4e64-914f-124ad6e0d478",
   "metadata": {},
   "source": [
    "### First steps"
   ]
  },
  {
   "cell_type": "markdown",
   "id": "4fd8c188-625e-4fcd-82d4-e0f288485454",
   "metadata": {},
   "source": [
    "Best way to start your Python expierience is to open `Terminal` and find if there is a Python interpreter in your working environment. You can do it with help of Unix command `which` that tells you what interpreter is used and where it is located:"
   ]
  },
  {
   "cell_type": "code",
   "execution_count": null,
   "id": "4c1642bf-5b42-4519-b82c-beb7be1f267d",
   "metadata": {},
   "outputs": [],
   "source": [
    "# output will give the path to Python\n",
    "\n",
    "!which python"
   ]
  },
  {
   "cell_type": "markdown",
   "id": "94a216c0-25e3-4820-8e8d-70b0d9477aac",
   "metadata": {},
   "source": [
    "Then you may open a `Terminal` and just type `python`. You will open Python where you may start your programming.\n",
    "\n",
    "But we can also use notebook to perform some basic operations with Python code."
   ]
  },
  {
   "cell_type": "markdown",
   "id": "8de89df9-7807-4a2e-8340-af527f15ac51",
   "metadata": {},
   "source": [
    "#### Commands"
   ]
  },
  {
   "cell_type": "markdown",
   "id": "39b8605f-dd91-484d-9e7e-47fdf2524197",
   "metadata": {},
   "source": [
    "Let's see what Python notebook can do with just numbers:"
   ]
  },
  {
   "cell_type": "code",
   "execution_count": null,
   "id": "bd985929-e254-4c7b-8d2b-7efbd4dec2db",
   "metadata": {},
   "outputs": [],
   "source": [
    "2"
   ]
  },
  {
   "cell_type": "code",
   "execution_count": null,
   "id": "0d942976-db10-485f-a511-791419628e1b",
   "metadata": {},
   "outputs": [],
   "source": [
    "-5"
   ]
  },
  {
   "cell_type": "code",
   "execution_count": null,
   "id": "f3b9cfa5-14ad-40d3-a140-dc9e6f4ec26f",
   "metadata": {},
   "outputs": [],
   "source": [
    "4 + 9"
   ]
  },
  {
   "cell_type": "code",
   "execution_count": null,
   "id": "bac9b43c-fdf1-4737-ac80-d46301b882cf",
   "metadata": {},
   "outputs": [],
   "source": [
    "5 * 6"
   ]
  },
  {
   "cell_type": "code",
   "execution_count": null,
   "id": "bd445c8b-94d7-4597-bb07-eec7294c2a7d",
   "metadata": {},
   "outputs": [],
   "source": [
    "(6 - 2) * 3 + 5"
   ]
  },
  {
   "cell_type": "markdown",
   "id": "f900b0ed-4603-4b03-b2d9-d89158de4f25",
   "metadata": {},
   "source": [
    "Let's start from simple commands we may run with Python. First command to run will be `print()` which print some text we put inside brackets:"
   ]
  },
  {
   "cell_type": "code",
   "execution_count": null,
   "id": "d90c2ec9-efb4-4fb5-9e67-5e72fbe9b519",
   "metadata": {},
   "outputs": [],
   "source": [
    "print('Hello, world!')"
   ]
  },
  {
   "cell_type": "markdown",
   "id": "70fa666f-1086-4d8b-9e62-23113816b77a",
   "metadata": {},
   "source": [
    "More commands in one notebook cell:"
   ]
  },
  {
   "cell_type": "code",
   "execution_count": null,
   "id": "a03872c6-7c63-447d-b413-2ea9f218bf57",
   "metadata": {},
   "outputs": [],
   "source": [
    "print('Hello, World!')\n",
    "x = 2\n",
    "y = 5\n",
    "print('x + y =', x + y)"
   ]
  },
  {
   "cell_type": "markdown",
   "id": "37be1f84-3f19-4481-8427-68b554a7dcbb",
   "metadata": {},
   "source": [
    "Here you see that every cell in notebook run Python code but can we use Python without notebook? Actually we can, just open a `Terminal`. It is possible to run Python code in a terminal like `python -c \"print('Hello, World!')\"` and here is an example:"
   ]
  },
  {
   "cell_type": "code",
   "execution_count": null,
   "id": "06c0f541-e5cc-4648-8942-1006bd18fcd8",
   "metadata": {},
   "outputs": [],
   "source": [
    "# We call Python through terminal \n",
    "# and ask him to run command `print()`\n",
    "# Note that flag `-c` is used to make Python \n",
    "# run a command which is in commas\n",
    "\n",
    "!python -c \"print('Hello, World!')\""
   ]
  },
  {
   "cell_type": "code",
   "execution_count": null,
   "id": "f75f464b-42d6-4e6c-a429-f2aee1bdd662",
   "metadata": {},
   "outputs": [],
   "source": [
    "# Many commands can be run by Python\n",
    "# just separate them with `;`\n",
    "\n",
    "!python -c \"print('Hello, World!'); x = 2; y = 5; print('x + y =', x + y)\""
   ]
  },
  {
   "cell_type": "markdown",
   "id": "44e70aa2-b11f-4526-9a53-3b6eb7be24f9",
   "metadata": {},
   "source": [
    "#### Scripts"
   ]
  },
  {
   "cell_type": "markdown",
   "id": "17c5dc5c-7537-43b2-9b8c-140c972a827c",
   "metadata": {},
   "source": [
    "We may pack our Python code in a file that is called `script` and it will be our first Python program. Any text editor will do that job, but here is an example with notebook magic function `%%writefile`:"
   ]
  },
  {
   "cell_type": "code",
   "execution_count": null,
   "id": "8d2787fd-a91b-47d8-bb22-56b153141f7b",
   "metadata": {},
   "outputs": [],
   "source": [
    "%%writefile myscript.py\n",
    "\n",
    "print('Hello, World!')\n",
    "x = 2\n",
    "y = 5\n",
    "print('x + y =', x + y)"
   ]
  },
  {
   "cell_type": "markdown",
   "id": "050bdc8f-471e-4bf3-a131-e13e8fac2d65",
   "metadata": {},
   "source": [
    "Now we have our script saved:"
   ]
  },
  {
   "cell_type": "code",
   "execution_count": null,
   "id": "bdf695d3-75de-4b92-9885-dbe8af762636",
   "metadata": {},
   "outputs": [],
   "source": [
    "!ls -la myscript.py"
   ]
  },
  {
   "cell_type": "code",
   "execution_count": null,
   "id": "7539d0e2-2f8f-4ffe-b6e8-b9a8ebee7bc6",
   "metadata": {},
   "outputs": [],
   "source": [
    "!cat myscript.py"
   ]
  },
  {
   "cell_type": "markdown",
   "id": "394dc5e2-a92e-4e41-8a24-332988cde781",
   "metadata": {},
   "source": [
    "...and it can be run with Python in a Terminal like `python myscript.py` or in a notebook:"
   ]
  },
  {
   "cell_type": "code",
   "execution_count": null,
   "id": "b5339db4-a855-40d9-9218-914beae17f72",
   "metadata": {},
   "outputs": [],
   "source": [
    "!python myscript.py"
   ]
  },
  {
   "cell_type": "code",
   "execution_count": null,
   "id": "2e506df3-ba8e-4691-9494-b7c06b18db1d",
   "metadata": {},
   "outputs": [],
   "source": []
  }
 ],
 "metadata": {
  "kernelspec": {
   "display_name": "Python 3 (ipykernel)",
   "language": "python",
   "name": "python3"
  },
  "language_info": {
   "codemirror_mode": {
    "name": "ipython",
    "version": 3
   },
   "file_extension": ".py",
   "mimetype": "text/x-python",
   "name": "python",
   "nbconvert_exporter": "python",
   "pygments_lexer": "ipython3",
   "version": "3.12.7"
  }
 },
 "nbformat": 4,
 "nbformat_minor": 5
}
