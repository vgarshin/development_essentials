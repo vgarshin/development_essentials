{
 "cells": [
  {
   "cell_type": "markdown",
   "id": "b5d38ebb-4cb1-4ab0-872c-21704174d91d",
   "metadata": {},
   "source": [
    "# Development Essentials course"
   ]
  },
  {
   "cell_type": "markdown",
   "id": "ideal-coverage",
   "metadata": {},
   "source": [
    "## Python useful modules and libraries"
   ]
  },
  {
   "cell_type": "markdown",
   "id": "a1f286fa-cd6d-4fd6-9ffc-af8d8e6bc4a6",
   "metadata": {},
   "source": [
    "### `os` module"
   ]
  },
  {
   "cell_type": "markdown",
   "id": "32e63ede-ec53-43fe-8103-06fd691d68f2",
   "metadata": {},
   "source": [
    "[This module](https://docs.python.org/3/library/os.html) provides a portable way of using operating system dependent functionality."
   ]
  },
  {
   "cell_type": "code",
   "execution_count": null,
   "id": "5e0207f1-8c10-42ec-b204-2a0acfc51751",
   "metadata": {},
   "outputs": [],
   "source": [
    "import os"
   ]
  },
  {
   "cell_type": "code",
   "execution_count": null,
   "id": "bde862dd-0744-4003-823c-7ed9e7ca8a74",
   "metadata": {},
   "outputs": [],
   "source": [
    "print(os.getcwd())  # returns the current working directory"
   ]
  },
  {
   "cell_type": "code",
   "execution_count": null,
   "id": "4b0f5373-3ae5-4ead-85cb-d5c8425e4e43",
   "metadata": {},
   "outputs": [],
   "source": [
    "os.mkdir('./testdir')  # creates a new directory"
   ]
  },
  {
   "cell_type": "code",
   "execution_count": null,
   "id": "4128c26b-7e05-4046-a278-c6c975cdd09d",
   "metadata": {},
   "outputs": [],
   "source": [
    "os.mkdir('./testdir2/testdir3')  # `mkdir` can’t make it"
   ]
  },
  {
   "cell_type": "code",
   "execution_count": null,
   "id": "7a64ee02-6e7b-4b6e-aea5-95213f165816",
   "metadata": {},
   "outputs": [],
   "source": [
    "os.makedirs('./testdir2/testdir3')  # while `makedirs` can"
   ]
  },
  {
   "cell_type": "code",
   "execution_count": null,
   "id": "b8e6d660-5895-4854-8a3d-fe0bca2351a4",
   "metadata": {},
   "outputs": [],
   "source": [
    "os.chdir('testdir')  # change working directory\n",
    "print(os.getcwd())  # returns the current working directory"
   ]
  },
  {
   "cell_type": "code",
   "execution_count": null,
   "id": "3d62b983-36f4-4aaa-a621-9f6725b2a12b",
   "metadata": {},
   "outputs": [],
   "source": [
    "os.chdir('..')  # get back to the parent directory\n",
    "print(os.getcwd())  # returns the current working directory"
   ]
  },
  {
   "cell_type": "code",
   "execution_count": null,
   "id": "d1f54902-fc70-401e-9f38-1908fd9bcd30",
   "metadata": {},
   "outputs": [],
   "source": [
    "os.rename('testdir', 'dirtest')  # rename directory\n",
    "os.listdir()  # list all in the current directory"
   ]
  },
  {
   "cell_type": "code",
   "execution_count": null,
   "id": "e1eb9dec-2c36-471a-aee0-ea21e6c46d93",
   "metadata": {},
   "outputs": [],
   "source": [
    "os.rmdir('dirtest')  # removes the specified directory, be careful with it\n",
    "os.rmdir('testdir2')  # but it does not work like `rm -rf`"
   ]
  },
  {
   "cell_type": "markdown",
   "id": "37f8e3d7-575d-4482-80c7-2e620b2a6c36",
   "metadata": {},
   "source": [
    "### `sys` module"
   ]
  },
  {
   "cell_type": "markdown",
   "id": "bece55ff-6dfe-45a6-afba-9d231bbd7573",
   "metadata": {},
   "source": [
    "[This module](https://docs.python.org/3/library/sys.html) provides access to some variables used or maintained by the interpreter and to functions that interact strongly with the interpreter. "
   ]
  },
  {
   "cell_type": "code",
   "execution_count": null,
   "id": "698945a5-02a6-49b2-9844-09b000cb4072",
   "metadata": {},
   "outputs": [],
   "source": [
    "import sys"
   ]
  },
  {
   "cell_type": "code",
   "execution_count": null,
   "id": "9c574b58-1328-46d5-808f-e3a6be54cdba",
   "metadata": {},
   "outputs": [],
   "source": [
    "# Get platform info\n",
    "\n",
    "sys.platform"
   ]
  },
  {
   "cell_type": "code",
   "execution_count": null,
   "id": "5d44159c-0c57-41cb-9c11-19cbc91d543a",
   "metadata": {},
   "outputs": [],
   "source": [
    "# ...or Python version\n",
    "\n",
    "sys.version"
   ]
  },
  {
   "cell_type": "markdown",
   "id": "e86aee7d-7020-45ff-bb48-556d709508db",
   "metadata": {},
   "source": [
    "`sys` module can be helpful to parce arguments for your Python script:"
   ]
  },
  {
   "cell_type": "code",
   "execution_count": null,
   "id": "ea33dacd-c0fe-42c9-af80-bb313d47bf72",
   "metadata": {},
   "outputs": [],
   "source": [
    "%%writefile sysargstest.py\n",
    "import sys\n",
    "\n",
    "print('The name of the script:', sys.argv[0])\n",
    "print('You entered following arguments:', sys.argv[1], sys.argv[2], sys.argv[3])\n",
    "#print('Sum of first two arguments is:', sys.argv[1] + sys.argv[2])"
   ]
  },
  {
   "cell_type": "code",
   "execution_count": null,
   "id": "3b2329cf-770c-4451-80bc-6c83f3e5411d",
   "metadata": {},
   "outputs": [],
   "source": [
    "# Run our test script with Python and pass few arguments to it.\n",
    "# Note that sum of two arguments is done like they are strings\n",
    "# not numbers. To improve it you may change script like:\n",
    "# `float(sys.argv[1]) + float(sys.argv[2])`\n",
    "\n",
    "!python sysargstest.py 1 2 3"
   ]
  },
  {
   "cell_type": "markdown",
   "id": "9fe3e5e2-70be-4258-8df0-82d728add79b",
   "metadata": {},
   "source": [
    "### `shutil` module"
   ]
  },
  {
   "cell_type": "markdown",
   "id": "160eb36a-f699-4b63-8c8b-91d1667683fe",
   "metadata": {},
   "source": [
    "[The shutil module](https://docs.python.org/3/library/shutil.html) offers a number of high-level operations on files and collections of files. "
   ]
  },
  {
   "cell_type": "code",
   "execution_count": null,
   "id": "404bce73-e5eb-430a-bb69-4a2c379bb442",
   "metadata": {},
   "outputs": [],
   "source": [
    "import shutil"
   ]
  },
  {
   "cell_type": "code",
   "execution_count": null,
   "id": "80e22c95-d61a-4d28-be36-4af920a22a09",
   "metadata": {},
   "outputs": [],
   "source": [
    "# Let's copy our previously created `sysargstest.py`\n",
    "# to previously created directory `testdir2`\n",
    "\n",
    "shutil.copy('sysargstest.py', 'testdir2/')"
   ]
  },
  {
   "cell_type": "code",
   "execution_count": null,
   "id": "30c86c2d-adc0-4a8f-a649-439565b6cbfc",
   "metadata": {},
   "outputs": [],
   "source": [
    "# See that file was copied\n",
    "\n",
    "os.listdir('testdir2/')"
   ]
  },
  {
   "cell_type": "code",
   "execution_count": null,
   "id": "368570a8-9912-4fcf-b0f7-97a851f1b88c",
   "metadata": {},
   "outputs": [],
   "source": [
    "# We can copy from file to file\n",
    "\n",
    "shutil.copy('sysargstest.py', 'testdir2/thisistextnow.txt')"
   ]
  },
  {
   "cell_type": "code",
   "execution_count": null,
   "id": "f3241a96-0b3b-4da1-9e39-a812817984c2",
   "metadata": {},
   "outputs": [],
   "source": [
    "!cat testdir2/thisistextnow.txt"
   ]
  },
  {
   "cell_type": "code",
   "execution_count": null,
   "id": "7ce0c4b6-96c7-4392-a7e6-23750f3a3c8c",
   "metadata": {},
   "outputs": [],
   "source": [
    "shutil.copytree('testdir2', 'testdir3')  # make a copy of directory"
   ]
  },
  {
   "cell_type": "code",
   "execution_count": null,
   "id": "c40ff8b8-31b9-41de-97d8-3a439288efc1",
   "metadata": {},
   "outputs": [],
   "source": [
    "shutil.move('sysargstest.py', 'testdir3/sysargstestmoved.py')  # move operation"
   ]
  },
  {
   "cell_type": "code",
   "execution_count": null,
   "id": "8273b22f-6c31-4e7c-a9f2-7d1eb347ccb2",
   "metadata": {},
   "outputs": [],
   "source": [
    "# Here is a moved file\n",
    "\n",
    "!ls -la testdir3/sysargstestmoved.py"
   ]
  },
  {
   "cell_type": "code",
   "execution_count": null,
   "id": "2f3b11fd-1e17-4b24-a214-71d95309248a",
   "metadata": {},
   "outputs": [],
   "source": [
    "# Not only file operations but disk info also\n",
    "\n",
    "print('Usage of disk:', shutil.disk_usage('/'))"
   ]
  },
  {
   "cell_type": "code",
   "execution_count": null,
   "id": "0a42b11b-4f55-496b-bc66-f75c4f1b4fe2",
   "metadata": {},
   "outputs": [],
   "source": [
    "print('Usage of directory:', shutil.disk_usage('testdir3'))"
   ]
  },
  {
   "cell_type": "code",
   "execution_count": null,
   "id": "4eb6fa81-4aa3-4140-9879-6aa02bbbbf0c",
   "metadata": {},
   "outputs": [],
   "source": [
    "# ...and archive creation at the end\n",
    "\n",
    "shutil.make_archive('testdir', 'zip')"
   ]
  },
  {
   "cell_type": "markdown",
   "id": "4522f4ee-326d-48c5-878e-f0d1c8627002",
   "metadata": {},
   "source": [
    "### `time` module"
   ]
  },
  {
   "cell_type": "markdown",
   "id": "a140b8e9-5c43-4aac-9896-9ba8eb77009b",
   "metadata": {},
   "source": [
    "[This module](https://docs.python.org/3/library/time.html) provides various time-related functions."
   ]
  },
  {
   "cell_type": "code",
   "execution_count": null,
   "id": "7236ef93-e34b-4e60-9690-093db4c479a7",
   "metadata": {},
   "outputs": [],
   "source": [
    "import time"
   ]
  },
  {
   "cell_type": "code",
   "execution_count": null,
   "id": "d1f66994-738e-46e1-99d7-477587ddc2ea",
   "metadata": {},
   "outputs": [],
   "source": [
    "# Gives time in seconds from January 1, 1970, 00:00:00 (UTC) on all platforms\n",
    "\n",
    "print('Seconds passed', time.time(), 'since January 1, 1970, 00:00:00 (UTC)')"
   ]
  },
  {
   "cell_type": "code",
   "execution_count": null,
   "id": "801c060f-29ce-4a2c-b8ac-e5d7c5b53366",
   "metadata": {},
   "outputs": [],
   "source": [
    "# Converts a time expressed in seconds since the start to a string\n",
    "\n",
    "print('Now is:', time.ctime(time.time()))"
   ]
  },
  {
   "cell_type": "code",
   "execution_count": null,
   "id": "8118dba7-d7ed-4544-85d9-6e5e1c18df11",
   "metadata": {},
   "outputs": [],
   "source": [
    "# We can add some time in seconds to get to the future\n",
    "\n",
    "now = time.time()\n",
    "future_sec = 1000\n",
    "print('Now is:', time.ctime(now))\n",
    "print('Future (now + future seconds) is:', time.ctime(now + future_sec))"
   ]
  },
  {
   "cell_type": "code",
   "execution_count": null,
   "id": "4bf89b64-b472-41bd-a5f4-bafbd9957a7f",
   "metadata": {},
   "outputs": [],
   "source": [
    "# Converts to local time. If secs is not provided or None, \n",
    "# the current time as returned by `time()` is used\n",
    "\n",
    "time.localtime()"
   ]
  },
  {
   "cell_type": "code",
   "execution_count": null,
   "id": "39c9b240-4975-46b3-865d-7fc275bc3cb7",
   "metadata": {},
   "outputs": [],
   "source": [
    "# Convert a tuple or struct_time representing a time \n",
    "# as returned by `gmtime()` or `localtime()` to a string\n",
    "\n",
    "time.asctime()"
   ]
  },
  {
   "cell_type": "code",
   "execution_count": null,
   "id": "c2177f87-abc6-4b32-bfea-ed19f1285a46",
   "metadata": {},
   "outputs": [],
   "source": [
    "# Working with time\n",
    "\n",
    "result = time.localtime(1555945769)\n",
    "print('result:', result)\n",
    "print('year:', result.tm_year)\n",
    "print('tm_hour:', result.tm_hour)\n",
    "print('asctime:', time.asctime(result))"
   ]
  },
  {
   "cell_type": "code",
   "execution_count": null,
   "id": "073bf3bd-e15d-447b-b927-8233928f0a54",
   "metadata": {},
   "outputs": [],
   "source": [
    "# `time` has a useful feature that can help us\n",
    "# to make our program to sleep for some time\n",
    "\n",
    "sleep_sec = 5\n",
    "print('I want to sleep for', sleep_sec, 'seconds')\n",
    "time.sleep(sleep_sec)\n",
    "print('I woke up!')"
   ]
  },
  {
   "cell_type": "markdown",
   "id": "e4a7c85a-a0cf-472c-94e1-d63a1fdabe6b",
   "metadata": {},
   "source": [
    "### `requests` library"
   ]
  },
  {
   "cell_type": "markdown",
   "id": "131f3ca7-3ba7-4e2a-8067-b832768845cb",
   "metadata": {},
   "source": [
    "[Requests is an elegant and simple HTTP library](https://requests.readthedocs.io/en/latest/index.html) for Python, built for human beings."
   ]
  },
  {
   "cell_type": "code",
   "execution_count": null,
   "id": "f8fcb740-bf85-4236-b698-963391986a07",
   "metadata": {},
   "outputs": [],
   "source": [
    "import requests\n",
    "\n",
    "requests.__version__"
   ]
  },
  {
   "cell_type": "markdown",
   "id": "d1bc1dbf-3937-41ec-88d5-07be1b930394",
   "metadata": {},
   "source": [
    "#### Intro to `requests`"
   ]
  },
  {
   "cell_type": "code",
   "execution_count": null,
   "id": "77410784-4186-4c8f-9f7a-3eb2ef2b53c3",
   "metadata": {},
   "outputs": [],
   "source": [
    "# Now we can address an arbitary site \n",
    "# if we put URL to `get` function\n",
    "\n",
    "r = requests.get('https://www.python.org')\n",
    "print(r)"
   ]
  },
  {
   "cell_type": "code",
   "execution_count": null,
   "id": "91a6f0cf-8946-417d-9926-9135eb3fbc88",
   "metadata": {},
   "outputs": [],
   "source": [
    "# `r` contains response from the site\n",
    "# including the status and all the data\n",
    "\n",
    "print(r.status_code)"
   ]
  },
  {
   "cell_type": "code",
   "execution_count": null,
   "id": "73338bb2-506e-460a-a21e-b06efde14089",
   "metadata": {},
   "outputs": [],
   "source": [
    "# Status code can help us to understand\n",
    "# the status of the request to site\n",
    "\n",
    "if r.status_code == 200:\n",
    "    print('Success')\n",
    "elif r.status_code == 404:\n",
    "    print('Page not found')"
   ]
  },
  {
   "cell_type": "code",
   "execution_count": null,
   "id": "2301fc59-3c1a-4db5-a643-7533cdf8e439",
   "metadata": {},
   "outputs": [],
   "source": [
    "print(dir(r))  # list all the content's attributes"
   ]
  },
  {
   "cell_type": "code",
   "execution_count": null,
   "id": "50835987-4571-431b-81a3-64815618065f",
   "metadata": {
    "scrolled": true
   },
   "outputs": [],
   "source": [
    "print(help(r))  # help with these attributes"
   ]
  },
  {
   "cell_type": "code",
   "execution_count": null,
   "id": "1e30d38a-236f-41b8-a29c-45c4c2a5b61a",
   "metadata": {},
   "outputs": [],
   "source": [
    "# We can view the server’s response headers \n",
    "# using a Python dictionary\n",
    "\n",
    "r.headers.items()"
   ]
  },
  {
   "cell_type": "code",
   "execution_count": null,
   "id": "3e53f4b6-1945-427e-91e1-7176ba39f3f2",
   "metadata": {},
   "outputs": [],
   "source": [
    "r.cookies.items()"
   ]
  },
  {
   "cell_type": "code",
   "execution_count": null,
   "id": "7767f7cd-246a-4813-8dd0-46e1304f5545",
   "metadata": {
    "scrolled": true
   },
   "outputs": [],
   "source": [
    "# Display all the content for the site\n",
    "\n",
    "r.content"
   ]
  },
  {
   "cell_type": "code",
   "execution_count": null,
   "id": "4d298119-59e9-402b-8a85-d5e9ad18fb74",
   "metadata": {
    "scrolled": true
   },
   "outputs": [],
   "source": [
    "r.text  # print content as a text"
   ]
  },
  {
   "cell_type": "markdown",
   "id": "a9488b66-f09f-431d-89e4-65f0639d01e9",
   "metadata": {},
   "source": [
    "#### Retrieving an image from the website"
   ]
  },
  {
   "cell_type": "code",
   "execution_count": null,
   "id": "28f81da4-2e37-4f54-823b-34f39e15ddf9",
   "metadata": {},
   "outputs": [],
   "source": [
    "r = requests.get('https://www.python.org/static/img/python-logo.png')\n",
    "file = open('python_logo.png', 'wb')  # 'wb' to open a file in binary format, add 'b' to the mode parameter\n",
    "file.write(r.content)\n",
    "file.close()"
   ]
  },
  {
   "cell_type": "code",
   "execution_count": null,
   "id": "de639fa9-b26a-489c-a9ce-1cc6a4645b18",
   "metadata": {},
   "outputs": [],
   "source": [
    "!ls -la python_logo.png"
   ]
  },
  {
   "cell_type": "markdown",
   "id": "d936d685-ebbe-4cc9-a575-9f45521fda2f",
   "metadata": {},
   "source": [
    "#### Headers and cookies"
   ]
  },
  {
   "cell_type": "code",
   "execution_count": null,
   "id": "8bf373c9-6e35-4db6-8f18-52a38dee9fde",
   "metadata": {},
   "outputs": [],
   "source": [
    "r1 = requests.get('https://www.python.org')\n",
    "print(r1.headers.items())"
   ]
  },
  {
   "cell_type": "code",
   "execution_count": null,
   "id": "68f5d9e3-47e0-4c27-83df-f22223e68848",
   "metadata": {},
   "outputs": [],
   "source": [
    "for key, value in r1.headers.items():\n",
    "    print(key, ':', value)"
   ]
  },
  {
   "cell_type": "code",
   "execution_count": null,
   "id": "fb9a60d3-aa06-41e8-af9b-0a5c31dc76ab",
   "metadata": {},
   "outputs": [],
   "source": [
    "# Now let's take an image and find the difference\n",
    "# between two headers for different URLs\n",
    "\n",
    "r2 = requests.get('https://www.python.org/static/img/python-logo.png')\n",
    "for key, value in r2.headers.items():\n",
    "    print(key, ':', value)"
   ]
  },
  {
   "cell_type": "code",
   "execution_count": null,
   "id": "a8852626-edc8-4e55-a9af-d5b1c24f470f",
   "metadata": {},
   "outputs": [],
   "source": [
    "# Look at the headers and cookies\n",
    "\n",
    "r = requests.get(\"https://www.fontanka.ru\")\n",
    "print(r.headers['Content-Type'])"
   ]
  },
  {
   "cell_type": "code",
   "execution_count": null,
   "id": "6acaa3d7-b306-44cf-9fd9-84b109587df1",
   "metadata": {},
   "outputs": [],
   "source": [
    "# ...cookies\n",
    "\n",
    "print(r.cookies.items())"
   ]
  },
  {
   "cell_type": "markdown",
   "id": "1f23cb63-546d-4f0d-9380-c5a6293d96fb",
   "metadata": {},
   "source": [
    "#### `POST` requests"
   ]
  },
  {
   "cell_type": "code",
   "execution_count": null,
   "id": "ec5ad871-3752-46f6-b2f9-f2d67ed0d03b",
   "metadata": {},
   "outputs": [],
   "source": [
    "# Use `post` if you need to send data to server.\n",
    "# Let's create a data at first. Data needs to be a dictionary\n",
    "\n",
    "param1 = {}  # empty data\n",
    "param2 = {\n",
    "    'cust_name': 'Bill Gates', \n",
    "    'cust_email': 'efgh@gmail.com', \n",
    "    'cust_phone': '+7(812)555-77-77'\n",
    "}"
   ]
  },
  {
   "cell_type": "code",
   "execution_count": null,
   "id": "84fdd79d-acee-4c32-ad6b-bd577df701cd",
   "metadata": {},
   "outputs": [],
   "source": [
    "# Pass dictionary to send as 'data' parameter\n",
    "\n",
    "r = requests.post('http://httpbin.org/post', data=param1)\n",
    "print(r.content)"
   ]
  },
  {
   "cell_type": "code",
   "execution_count": null,
   "id": "b1d5266e-8b9b-4f67-a239-7b7fa556ad7d",
   "metadata": {},
   "outputs": [],
   "source": [
    "# JSON format can be more friendly\n",
    "# to work with the responses and data\n",
    "\n",
    "r.json()"
   ]
  },
  {
   "cell_type": "code",
   "execution_count": null,
   "id": "2387d14e-eb56-4422-bca9-7f1c3ecbde27",
   "metadata": {},
   "outputs": [],
   "source": [
    "r = requests.post('http://httpbin.org/post', data=param2)\n",
    "r.json()"
   ]
  },
  {
   "cell_type": "code",
   "execution_count": null,
   "id": "23b9ed53-1a59-4d85-8fd8-ea83e0c3b2c9",
   "metadata": {},
   "outputs": [],
   "source": [
    "# Note our data sent is in 'form' key\n",
    "\n",
    "r.json()['form']"
   ]
  },
  {
   "cell_type": "code",
   "execution_count": null,
   "id": "fbea6db1-279e-4ddf-8fee-f64dab0d2299",
   "metadata": {},
   "outputs": [],
   "source": [
    "#  Use 'put' to refresh exisiting data\n",
    "\n",
    "r = requests.put('https://httpbin.org/put', data={'name': 'Bill Gates'})\n",
    "r.json()"
   ]
  },
  {
   "cell_type": "code",
   "execution_count": null,
   "id": "75afd01f-588c-44c8-a642-d630e4d6acdb",
   "metadata": {},
   "outputs": [],
   "source": [
    "#  Use 'delete' to refresh exisiting data\n",
    "\n",
    "r = requests.delete('https://httpbin.org/delete', data={'name': 'Bill Gates'})\n",
    "r.json()"
   ]
  },
  {
   "cell_type": "code",
   "execution_count": null,
   "id": "58fe3c69-dd27-4550-b008-ccc9df5192b4",
   "metadata": {},
   "outputs": [],
   "source": []
  }
 ],
 "metadata": {
  "kernelspec": {
   "display_name": "Python 3 (ipykernel)",
   "language": "python",
   "name": "python3"
  },
  "language_info": {
   "codemirror_mode": {
    "name": "ipython",
    "version": 3
   },
   "file_extension": ".py",
   "mimetype": "text/x-python",
   "name": "python",
   "nbconvert_exporter": "python",
   "pygments_lexer": "ipython3",
   "version": "3.12.7"
  }
 },
 "nbformat": 4,
 "nbformat_minor": 5
}
