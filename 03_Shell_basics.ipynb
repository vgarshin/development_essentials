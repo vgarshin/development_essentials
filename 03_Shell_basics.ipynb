{
 "cells": [
  {
   "cell_type": "markdown",
   "id": "b5d38ebb-4cb1-4ab0-872c-21704174d91d",
   "metadata": {},
   "source": [
    "# Development Essentials course"
   ]
  },
  {
   "cell_type": "markdown",
   "id": "ideal-coverage",
   "metadata": {},
   "source": [
    "## Shell Commands Basics"
   ]
  },
  {
   "cell_type": "markdown",
   "id": "antique-conversion",
   "metadata": {},
   "source": [
    "### Access to terminal"
   ]
  },
  {
   "cell_type": "markdown",
   "id": "capital-attraction",
   "metadata": {},
   "source": [
    "Basic functionality of JupyterLab allows to open a Unix terminal to run shell commands. To open a new terminal you should follow `File -> New -> Terminal` in the main menu:"
   ]
  },
  {
   "cell_type": "markdown",
   "id": "political-brown",
   "metadata": {},
   "source": [
    "![Jupyter terminal open menu](imgs/jupyterlab_terminal_open.jpg)"
   ]
  },
  {
   "cell_type": "markdown",
   "id": "drawn-stone",
   "metadata": {},
   "source": [
    "This will open a terminal to run shell commands:"
   ]
  },
  {
   "cell_type": "markdown",
   "id": "official-calcium",
   "metadata": {},
   "source": [
    "![Jupyter terminal opened menu](imgs/jupyterlab_terminal_opened.jpg)"
   ]
  },
  {
   "cell_type": "markdown",
   "id": "parallel-snowboard",
   "metadata": {},
   "source": [
    " You may open many terminals at one time and manage them as the windows in your browser. Terminal can be shutdowned as well as a Jupyter notebook in `Running Terminals and Kernels` tab."
   ]
  },
  {
   "cell_type": "markdown",
   "id": "personal-contact",
   "metadata": {},
   "source": [
    "### Access to terminal in the notebook"
   ]
  },
  {
   "cell_type": "markdown",
   "id": "guided-category",
   "metadata": {},
   "source": [
    "Jupyter Notebooks allow you to get access to the terminal with use of `!` in the cell with code. Let's see how bash command `pwd` (show the current directory):"
   ]
  },
  {
   "cell_type": "code",
   "execution_count": null,
   "id": "wound-sampling",
   "metadata": {},
   "outputs": [],
   "source": [
    "!pwd"
   ]
  },
  {
   "cell_type": "markdown",
   "id": "structural-extent",
   "metadata": {},
   "source": [
    "...and see the system Unix time:"
   ]
  },
  {
   "cell_type": "code",
   "execution_count": null,
   "id": "armed-numbers",
   "metadata": {},
   "outputs": [],
   "source": [
    "!date"
   ]
  },
  {
   "cell_type": "markdown",
   "id": "third-daily",
   "metadata": {},
   "source": [
    "Complete list of bash comands with descriptions you can find [here](https://ss64.com/bash/)."
   ]
  },
  {
   "cell_type": "markdown",
   "id": "vertical-carry",
   "metadata": {},
   "source": [
    "### Navigating"
   ]
  },
  {
   "cell_type": "markdown",
   "id": "unavailable-passport",
   "metadata": {},
   "source": [
    "Let's list all the directory files with `ls` command:"
   ]
  },
  {
   "cell_type": "code",
   "execution_count": null,
   "id": "continued-magic",
   "metadata": {},
   "outputs": [],
   "source": [
    "# (list) - to find out what is in the directory\n",
    "\n",
    "!ls -l"
   ]
  },
  {
   "cell_type": "code",
   "execution_count": null,
   "id": "faef1900-eb22-409a-b6e8-368ea10e233b",
   "metadata": {},
   "outputs": [],
   "source": [
    "# list hidden files & directories as well \n",
    "\n",
    "!ls -a"
   ]
  },
  {
   "cell_type": "code",
   "execution_count": null,
   "id": "1dbf646f-9b9b-4c76-9412-5688035018b2",
   "metadata": {},
   "outputs": [],
   "source": [
    "# list the files and directories with detailed \n",
    "# information like the permissions, size, owner, \n",
    "# group, date of creation, etc\n",
    "\n",
    "!ls -la"
   ]
  },
  {
   "cell_type": "markdown",
   "id": "21863e46-6797-4c5b-b615-7c42ca96aa79",
   "metadata": {},
   "source": [
    "Move to other directories:"
   ]
  },
  {
   "cell_type": "code",
   "execution_count": null,
   "id": "7e0472cc-268e-41ef-a5be-2d463dca577c",
   "metadata": {},
   "outputs": [],
   "source": [
    "# go to the parent directory\n",
    "\n",
    "!cd .."
   ]
  },
  {
   "cell_type": "markdown",
   "id": "maritime-johns",
   "metadata": {},
   "source": [
    "...there is no output, because we are not in the terminal. But you can combine commands with `&&`. Here is an example how to move to parent directory and list files in it:"
   ]
  },
  {
   "cell_type": "code",
   "execution_count": null,
   "id": "latest-source",
   "metadata": {
    "scrolled": true
   },
   "outputs": [],
   "source": [
    "!cd .. && ls"
   ]
  },
  {
   "cell_type": "markdown",
   "id": "fixed-finnish",
   "metadata": {},
   "source": [
    "We can count files in the directory with the following command:"
   ]
  },
  {
   "cell_type": "code",
   "execution_count": null,
   "id": "decent-collector",
   "metadata": {},
   "outputs": [],
   "source": [
    "# first part of commands `ls` lists all files, directories etc.\n",
    "# while the second command `wc` counts lines\n",
    "\n",
    "!ls -la | wc -l"
   ]
  },
  {
   "cell_type": "markdown",
   "id": "continued-television",
   "metadata": {},
   "source": [
    "Note thet the pipe operator `|` is used. A Unix pipe `|` connects the STDOUT (standard output) file descriptor of the first process to the STDIN (standard input) of the second."
   ]
  },
  {
   "cell_type": "markdown",
   "id": "dynamic-deficit",
   "metadata": {},
   "source": [
    "### Creating files and directories"
   ]
  },
  {
   "cell_type": "markdown",
   "id": "smooth-sailing",
   "metadata": {},
   "source": [
    "Creating directory named `testdir` with `mkdir` command:"
   ]
  },
  {
   "cell_type": "code",
   "execution_count": null,
   "id": "greek-selling",
   "metadata": {},
   "outputs": [],
   "source": [
    "!mkdir testdir"
   ]
  },
  {
   "cell_type": "markdown",
   "id": "bacterial-ranking",
   "metadata": {},
   "source": [
    "...and listing the result (you may find new `testdir` directory):"
   ]
  },
  {
   "cell_type": "code",
   "execution_count": null,
   "id": "underlying-montgomery",
   "metadata": {},
   "outputs": [],
   "source": [
    "!ls"
   ]
  },
  {
   "cell_type": "markdown",
   "id": "romance-reduction",
   "metadata": {},
   "source": [
    "Now we can create an empty file with name `testfile.txt` with `touch` command:"
   ]
  },
  {
   "cell_type": "code",
   "execution_count": null,
   "id": "listed-malta",
   "metadata": {},
   "outputs": [],
   "source": [
    "!touch testfile.txt"
   ]
  },
  {
   "cell_type": "markdown",
   "id": "trying-conflict",
   "metadata": {},
   "source": [
    "...check if file is created:"
   ]
  },
  {
   "cell_type": "code",
   "execution_count": null,
   "id": "durable-warner",
   "metadata": {},
   "outputs": [],
   "source": [
    "!ls"
   ]
  },
  {
   "cell_type": "markdown",
   "id": "other-least",
   "metadata": {},
   "source": [
    "To see what is in file you may use `cat` command:"
   ]
  },
  {
   "cell_type": "code",
   "execution_count": null,
   "id": "fifth-doubt",
   "metadata": {},
   "outputs": [],
   "source": [
    "!cat testfile.txt"
   ]
  },
  {
   "cell_type": "markdown",
   "id": "massive-universe",
   "metadata": {},
   "source": [
    "There is nothing in the file because it was created empty. Let's append a rows with date in it. We use command `>>` to append a string to the end of file. NOTE that we use `&&` to combine commands and run one after another:"
   ]
  },
  {
   "cell_type": "code",
   "execution_count": null,
   "id": "republican-comment",
   "metadata": {},
   "outputs": [],
   "source": [
    "# put the date to the file\n",
    "\n",
    "!date >> testfile.txt && cat testfile.txt"
   ]
  },
  {
   "cell_type": "markdown",
   "id": "proved-afghanistan",
   "metadata": {},
   "source": [
    "...one more row (now with `echo` command):"
   ]
  },
  {
   "cell_type": "code",
   "execution_count": null,
   "id": "9a3bd903-5df6-4160-a34d-c2f564279f0c",
   "metadata": {},
   "outputs": [],
   "source": [
    "# move some data to the output\n",
    "\n",
    "!echo some text"
   ]
  },
  {
   "cell_type": "code",
   "execution_count": null,
   "id": "tracked-samba",
   "metadata": {},
   "outputs": [],
   "source": [
    "# redirects the output from the screen to a file\n",
    "# and then displays the content of the file\n",
    "\n",
    "!echo \"I can append to file!!!\" >> testfile.txt && cat testfile.txt"
   ]
  },
  {
   "cell_type": "markdown",
   "id": "a64345ab-c1b1-45c4-bd2a-59f0be729df4",
   "metadata": {},
   "source": [
    "Let's copy content from one file to another:"
   ]
  },
  {
   "cell_type": "code",
   "execution_count": null,
   "id": "5ada1623-4a35-404b-a3ce-f2962bdd6c6f",
   "metadata": {},
   "outputs": [],
   "source": [
    "!echo \"some text to add\" > addtext.txt\n",
    "!ls -la"
   ]
  },
  {
   "cell_type": "code",
   "execution_count": null,
   "id": "8ed1c802-d9c4-4dbe-9b5d-b215c4a6e9a9",
   "metadata": {},
   "outputs": [],
   "source": [
    "# first line prints output of one file and appends it to another\n",
    "# second line displays content of an appendd file\n",
    "\n",
    "!cat addtext.txt >> testfile.txt\n",
    "!cat testfile.txt"
   ]
  },
  {
   "cell_type": "markdown",
   "id": "guilty-blink",
   "metadata": {},
   "source": [
    "### Copy and move files "
   ]
  },
  {
   "cell_type": "markdown",
   "id": "sudden-amsterdam",
   "metadata": {},
   "source": [
    "There is `cp` command for copying files and directories. Copy our created `testfile.txt` to a new file `testfile_copy.txt` in the `testdir` directory:"
   ]
  },
  {
   "cell_type": "code",
   "execution_count": null,
   "id": "fourth-laptop",
   "metadata": {},
   "outputs": [],
   "source": [
    "!cp testfile.txt testdir/testfile_copy.txt"
   ]
  },
  {
   "cell_type": "markdown",
   "id": "czech-alfred",
   "metadata": {},
   "source": [
    "...and list the `testdir` directory:"
   ]
  },
  {
   "cell_type": "code",
   "execution_count": null,
   "id": "different-pathology",
   "metadata": {},
   "outputs": [],
   "source": [
    "!ls testdir/"
   ]
  },
  {
   "cell_type": "markdown",
   "id": "difficult-soldier",
   "metadata": {},
   "source": [
    "Now will move `testfile.txt` to the `testdir` directory with `mv` command:"
   ]
  },
  {
   "cell_type": "code",
   "execution_count": null,
   "id": "impressed-player",
   "metadata": {},
   "outputs": [],
   "source": [
    "!mv testfile.txt testdir/"
   ]
  },
  {
   "cell_type": "code",
   "execution_count": null,
   "id": "amazing-remains",
   "metadata": {},
   "outputs": [],
   "source": [
    "!ls testdir/"
   ]
  },
  {
   "cell_type": "markdown",
   "id": "simplified-administration",
   "metadata": {},
   "source": [
    "### Deleting files and directories"
   ]
  },
  {
   "cell_type": "markdown",
   "id": "abandoned-adrian",
   "metadata": {},
   "source": [
    "__NOTE__: _be careful while deleting files and directories, you are not in Windows and you do not have Trash Bin! You will not be asked wheither to delete files or not, your command just deletes everything you asked FOREVER._"
   ]
  },
  {
   "cell_type": "markdown",
   "id": "scenic-modification",
   "metadata": {},
   "source": [
    "If you still want to try removing some files and directories, you may use `rm` command e.g. to delete `testfile.txt` in the `testdir`:"
   ]
  },
  {
   "cell_type": "code",
   "execution_count": null,
   "id": "73676015-5f6c-43f7-850b-b1bb8d0a51f4",
   "metadata": {},
   "outputs": [],
   "source": [
    "!rm addtext.txt"
   ]
  },
  {
   "cell_type": "code",
   "execution_count": null,
   "id": "outer-smooth",
   "metadata": {},
   "outputs": [],
   "source": [
    "!rm testdir/testfile.txt"
   ]
  },
  {
   "cell_type": "markdown",
   "id": "graphic-seeking",
   "metadata": {},
   "source": [
    "...there is only copy of the file left:"
   ]
  },
  {
   "cell_type": "code",
   "execution_count": null,
   "id": "fleet-export",
   "metadata": {},
   "outputs": [],
   "source": [
    "!ls testdir/"
   ]
  },
  {
   "cell_type": "markdown",
   "id": "middle-marshall",
   "metadata": {},
   "source": [
    "Now will delete the directory `testdir` itself:"
   ]
  },
  {
   "cell_type": "code",
   "execution_count": null,
   "id": "improved-illness",
   "metadata": {},
   "outputs": [],
   "source": [
    "!rm -rf testdir/"
   ]
  },
  {
   "cell_type": "markdown",
   "id": "private-fighter",
   "metadata": {},
   "source": [
    "Note that key `-rf` was used to delete all the files in the directory recursively."
   ]
  },
  {
   "cell_type": "markdown",
   "id": "127839d1-50f0-4077-ba6c-7f63f242d12d",
   "metadata": {},
   "source": [
    "### More commands"
   ]
  },
  {
   "cell_type": "markdown",
   "id": "316448df-c55c-4bcb-8efe-160cbd467401",
   "metadata": {},
   "source": [
    "Some more useful Unix shell commands:"
   ]
  },
  {
   "cell_type": "code",
   "execution_count": null,
   "id": "76cc33b4-bcd6-4db6-8f83-c50af1d7bcd8",
   "metadata": {},
   "outputs": [],
   "source": [
    "# help for anything\n",
    "\n",
    "!man ls"
   ]
  },
  {
   "cell_type": "code",
   "execution_count": null,
   "id": "b14ea625-60a2-4738-a7c2-55c0e88d2ec7",
   "metadata": {},
   "outputs": [],
   "source": [
    "# command that prints the effective user id\n",
    "# NOTE that it gives a tech username, not your actual login\n",
    "\n",
    "!whoami"
   ]
  },
  {
   "cell_type": "code",
   "execution_count": null,
   "id": "28f7d82e-b151-4ea7-af2c-1d82c7b1b08b",
   "metadata": {},
   "outputs": [],
   "source": [
    "# prints the user id, user name and user groups data\n",
    "\n",
    "!id"
   ]
  },
  {
   "cell_type": "code",
   "execution_count": null,
   "id": "informational-relation",
   "metadata": {},
   "outputs": [],
   "source": []
  }
 ],
 "metadata": {
  "kernelspec": {
   "display_name": "Python 3 (ipykernel)",
   "language": "python",
   "name": "python3"
  },
  "language_info": {
   "codemirror_mode": {
    "name": "ipython",
    "version": 3
   },
   "file_extension": ".py",
   "mimetype": "text/x-python",
   "name": "python",
   "nbconvert_exporter": "python",
   "pygments_lexer": "ipython3",
   "version": "3.12.7"
  }
 },
 "nbformat": 4,
 "nbformat_minor": 5
}
