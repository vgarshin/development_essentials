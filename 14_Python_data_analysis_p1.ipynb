{
 "cells": [
  {
   "cell_type": "markdown",
   "id": "b5d38ebb-4cb1-4ab0-872c-21704174d91d",
   "metadata": {},
   "source": [
    "# Development Essentials course"
   ]
  },
  {
   "cell_type": "markdown",
   "id": "ideal-coverage",
   "metadata": {},
   "source": [
    "## Python for Data Analysis - part 1"
   ]
  },
  {
   "cell_type": "markdown",
   "id": "41bf3b0e-3b8f-45db-b104-66dde75fc47e",
   "metadata": {},
   "source": [
    "### NumPy library"
   ]
  },
  {
   "cell_type": "markdown",
   "id": "d824a590-9bce-44d3-876c-162213785f3d",
   "metadata": {},
   "source": [
    "[NumPy](https://numpy.org/) is the fundamental package for scientific computing in Python. It is a Python library that provides a multidimensional array object, various derived objects (such as masked arrays and matrices), and an assortment of routines for fast operations on arrays, including mathematical, logical, shape manipulation, sorting, selecting, I/O, discrete Fourier transforms, basic linear algebra, basic statistical operations, random simulation and much more."
   ]
  },
  {
   "cell_type": "markdown",
   "id": "577ce60f-f57b-436d-b985-24fb6f0256de",
   "metadata": {},
   "source": [
    "#### Intro"
   ]
  },
  {
   "cell_type": "code",
   "execution_count": null,
   "id": "c59b0903-524f-40ff-90b7-943c7e01b0e2",
   "metadata": {},
   "outputs": [],
   "source": [
    "import numpy as np\n",
    "\n",
    "np.__version__"
   ]
  },
  {
   "cell_type": "code",
   "execution_count": null,
   "id": "e144ee64-c5ec-4aad-b088-8fdcac3e5359",
   "metadata": {},
   "outputs": [],
   "source": [
    "# Lets create a numpy array, fill it with numbers\n",
    "# and print it out\n",
    "\n",
    "a = np.array(\n",
    "    [[2, 3, 4],\n",
    "     [5, 6, 7]]\n",
    ")\n",
    "print(a)"
   ]
  },
  {
   "cell_type": "code",
   "execution_count": null,
   "id": "09753174-f1f7-4410-9a4b-adf40d1e1a6e",
   "metadata": {},
   "outputs": [],
   "source": [
    "# Shape of the array, first comes a number of rows\n",
    "# and then a number of columns\n",
    "\n",
    "print('Shape of the array:', a.shape)\n",
    "print('Number of rows:', a.shape[0])\n",
    "print('Number of columns:', a.shape[1])"
   ]
  },
  {
   "cell_type": "code",
   "execution_count": null,
   "id": "fb61e40c-0072-4fc4-b0aa-c1d922b72297",
   "metadata": {},
   "outputs": [],
   "source": [
    "# Any element in the array can be addresses\n",
    "# by it's row and column index.\n",
    "# You may change `row_index` or `column_index`\n",
    "# and see what happens\n",
    "\n",
    "row_index = 1\n",
    "column_index = 2\n",
    "print(\n",
    "    'Element in', row_index, 'row',\n",
    "    'and in', column_index, 'column',\n",
    "    'is:', a[row_index, column_index]\n",
    ")"
   ]
  },
  {
   "cell_type": "code",
   "execution_count": null,
   "id": "6bab3faa-b800-4ad5-8da7-d28f0dd843ea",
   "metadata": {},
   "outputs": [],
   "source": [
    "# Array can be initialized with zeros\n",
    "\n",
    "b = np.zeros((3, 4))\n",
    "print(b)"
   ]
  },
  {
   "cell_type": "code",
   "execution_count": null,
   "id": "c0ccf8f1-a73b-47a3-b014-c6903956539d",
   "metadata": {},
   "outputs": [],
   "source": [
    "# ...or ones...\n",
    "\n",
    "c = np.ones((3, 4), dtype=np.int16)\n",
    "print(c)"
   ]
  },
  {
   "cell_type": "code",
   "execution_count": null,
   "id": "3923d35a-4719-4890-b9a2-041de8ef2cc1",
   "metadata": {},
   "outputs": [],
   "source": [
    "# ...or even empty values.\n",
    "# Empty in this case means  any random values\n",
    "\n",
    "d= np.empty((2, 3))    # non-initialised array (random values, what is in the memory)\n",
    "print(d)"
   ]
  },
  {
   "cell_type": "code",
   "execution_count": null,
   "id": "b71ad0da-db75-411c-835e-34a5d5ecf5fb",
   "metadata": {},
   "outputs": [],
   "source": [
    "# One more option is to use `arange` function\n",
    "# to create array from sequence\n",
    "\n",
    "e = np.arange(12)  \n",
    "print(e)"
   ]
  },
  {
   "cell_type": "markdown",
   "id": "18c160ff-7cff-47a1-8574-8d7f19c07202",
   "metadata": {},
   "source": [
    "#### Operations with an array"
   ]
  },
  {
   "cell_type": "code",
   "execution_count": null,
   "id": "065a1297-f9b6-4b4e-a6c7-6eb31f367f02",
   "metadata": {},
   "outputs": [],
   "source": [
    "# Start with the reshape of the array.\n",
    "# We can make an array with `arange` but\n",
    "# we can also make it the shape we need\n",
    "\n",
    "e = np.arange(3, 38, 2)\n",
    "print('Array before reshaping:\\n', e)\n",
    "print('Reshaped array:\\n', e.reshape(3, 6))"
   ]
  },
  {
   "cell_type": "code",
   "execution_count": null,
   "id": "8c30c0d6-a3af-46d8-bcc5-1e00e1879617",
   "metadata": {},
   "outputs": [],
   "source": [
    "# New array to provide experiments with\n",
    "\n",
    "a = np.arange(15).reshape(3, 5)\n",
    "print('My array to play with:\\n', a)"
   ]
  },
  {
   "cell_type": "code",
   "execution_count": null,
   "id": "44b0c465-233d-4e22-b406-5b0bc660a975",
   "metadata": {},
   "outputs": [],
   "source": [
    "print('Number of dimensions:', a.ndim)"
   ]
  },
  {
   "cell_type": "code",
   "execution_count": null,
   "id": "b159352d-449e-4be6-8296-9f56968607d1",
   "metadata": {},
   "outputs": [],
   "source": [
    "print('Shape is:', a.shape)"
   ]
  },
  {
   "cell_type": "code",
   "execution_count": null,
   "id": "9d2f218c-8375-49b3-bfdb-b71d1e9b576a",
   "metadata": {},
   "outputs": [],
   "source": [
    "print('Size is:', a.size)"
   ]
  },
  {
   "cell_type": "code",
   "execution_count": null,
   "id": "37e1f568-137d-46af-b0e5-445f844deaab",
   "metadata": {},
   "outputs": [],
   "source": [
    "print('Data type is:', a.dtype)"
   ]
  },
  {
   "cell_type": "markdown",
   "id": "d2911a76-2b0f-41e1-8952-823be358dca4",
   "metadata": {},
   "source": [
    "#### Arithmetic operations"
   ]
  },
  {
   "cell_type": "code",
   "execution_count": null,
   "id": "63d74939-c4ce-4424-a8c9-2e50aac4cbc4",
   "metadata": {},
   "outputs": [],
   "source": [
    "# Add or substract arrays\n",
    "\n",
    "a = np.array([20, 30, 40, 50])\n",
    "print('First array:\\n', a)\n",
    "b = np.arange(4)\n",
    "print('Second array:\\n', b)\n",
    "\n",
    "c = a + b\n",
    "print('Sum of arrays:\\n', c)\n",
    "\n",
    "c = a - b\n",
    "print('Difference of arrays:\\n', c)"
   ]
  },
  {
   "cell_type": "code",
   "execution_count": null,
   "id": "bdb0c6a6-bfc7-4af6-9d01-fbc514a2d029",
   "metadata": {},
   "outputs": [],
   "source": [
    "# One more way to substract\n",
    "\n",
    "d = np.subtract(a, b)\n",
    "print('Difference of arrays:\\n', d)"
   ]
  },
  {
   "cell_type": "code",
   "execution_count": null,
   "id": "c16fb34a-d433-4bda-bd3b-121d91ffb38b",
   "metadata": {},
   "outputs": [],
   "source": [
    "# Power of 2\n",
    "\n",
    "b **= 2\n",
    "print('Powered array:\\n', b)"
   ]
  },
  {
   "cell_type": "code",
   "execution_count": null,
   "id": "2d7f0497-c9bd-4bf3-80d0-9678fa72bcb7",
   "metadata": {},
   "outputs": [],
   "source": [
    "# Combine operations\n",
    "\n",
    "e = 10 * np.sin(a)\n",
    "print('Array:\\n', e)"
   ]
  },
  {
   "cell_type": "code",
   "execution_count": null,
   "id": "8a20cf66-1c91-4792-95e8-f7e61811537c",
   "metadata": {},
   "outputs": [],
   "source": [
    "# Check the conditions\n",
    "\n",
    "print('Conditioned array:\\n', a < 35)"
   ]
  },
  {
   "cell_type": "markdown",
   "id": "29c40a7a-214f-4ba4-aad3-476691e53145",
   "metadata": {},
   "source": [
    "#### Unary operations"
   ]
  },
  {
   "cell_type": "code",
   "execution_count": null,
   "id": "cad21ed8-07c3-4b2b-8229-0991e341b112",
   "metadata": {},
   "outputs": [],
   "source": [
    "a = np.array(\n",
    "    [[8, 3, 5, 0],\n",
    "     [2, 7, 4, 0],\n",
    "     [4, 2, 3, 4]]\n",
    ")\n",
    "print(a)"
   ]
  },
  {
   "cell_type": "code",
   "execution_count": null,
   "id": "303e7923-e8c0-41ae-99e6-4c73fcf9fc3b",
   "metadata": {},
   "outputs": [],
   "source": [
    "a.min()"
   ]
  },
  {
   "cell_type": "code",
   "execution_count": null,
   "id": "7703eaf5-9833-4126-b12e-a9126563dbb1",
   "metadata": {},
   "outputs": [],
   "source": [
    "a.max()"
   ]
  },
  {
   "cell_type": "code",
   "execution_count": null,
   "id": "32d133ef-1358-4a53-9f44-fa26f17665cf",
   "metadata": {},
   "outputs": [],
   "source": [
    "a.sum()  # across all the elements"
   ]
  },
  {
   "cell_type": "code",
   "execution_count": null,
   "id": "560912ad-c2b6-4603-af0f-edbee8e1dddf",
   "metadata": {},
   "outputs": [],
   "source": [
    "a.sum(axis=0)  # across columns"
   ]
  },
  {
   "cell_type": "code",
   "execution_count": null,
   "id": "00ad7254-179c-4f0f-a0cb-5303f707c65b",
   "metadata": {},
   "outputs": [],
   "source": [
    "a.sum(axis=1)  # across rows"
   ]
  },
  {
   "cell_type": "markdown",
   "id": "90682736-2c7d-4076-8321-0776d0da1915",
   "metadata": {},
   "source": [
    "#### Indexing, slicing and iterating"
   ]
  },
  {
   "cell_type": "markdown",
   "id": "f1751c3b-6fa8-4746-a219-781e5efbc49b",
   "metadata": {},
   "source": [
    "One-dimensional arrays can be indexed, sliced and iterated over, much like lists and other Python sequences:"
   ]
  },
  {
   "cell_type": "code",
   "execution_count": null,
   "id": "7c832e37-5e96-408b-b6f7-1d78b4b486d3",
   "metadata": {},
   "outputs": [],
   "source": [
    "a = np.arange(10) ** 3\n",
    "print('a =', a)"
   ]
  },
  {
   "cell_type": "code",
   "execution_count": null,
   "id": "e476833d-fc51-4080-9e1b-7d812dd879a5",
   "metadata": {},
   "outputs": [],
   "source": [
    "idx = 2  # try other values\n",
    "print('Element with index', idx, 'is:', a[idx])"
   ]
  },
  {
   "cell_type": "code",
   "execution_count": null,
   "id": "2c3831c3-9531-430e-931c-1ddacdd40093",
   "metadata": {},
   "outputs": [],
   "source": [
    "# We can slice our array\n",
    "\n",
    "b = a[2:5]\n",
    "print('b =', b)"
   ]
  },
  {
   "cell_type": "code",
   "execution_count": null,
   "id": "cec15094-dcd0-479a-b429-ec12828f0ffb",
   "metadata": {},
   "outputs": [],
   "source": [
    "# Iterate over one-dimentional array\n",
    "# as it is just a list\n",
    "\n",
    "for i in a:\n",
    "    print(i, '->', i ** (1 / 3))"
   ]
  },
  {
   "cell_type": "markdown",
   "id": "90a88002-3b20-48fa-94cc-a4a625ccf365",
   "metadata": {},
   "source": [
    "Multidimensional arrays can have one index per axis. These indices are given in a tuple separated by commas:"
   ]
  },
  {
   "cell_type": "code",
   "execution_count": null,
   "id": "b619a755-b56b-4712-b2ec-3ddea17e5aa3",
   "metadata": {},
   "outputs": [],
   "source": [
    "a = np.array(\n",
    "    [[ 0,  1,  2,  3],\n",
    "     [10, 11, 12, 13],\n",
    "     [20, 21, 22, 23],\n",
    "     [30, 31, 32, 33],\n",
    "     [40, 41, 42, 43]]\n",
    ")\n",
    "print(a)"
   ]
  },
  {
   "cell_type": "code",
   "execution_count": null,
   "id": "f38c6c0a-2273-4b82-a5e0-f5b40d7a930e",
   "metadata": {},
   "outputs": [],
   "source": [
    "# Single element\n",
    "\n",
    "c1 = a[2, 3]\n",
    "print('c1 =', c1)"
   ]
  },
  {
   "cell_type": "code",
   "execution_count": null,
   "id": "9938b088-b649-4913-9fc5-2da24cf3460b",
   "metadata": {},
   "outputs": [],
   "source": [
    "# Slice of one row of the array\n",
    "\n",
    "c2 = a[0:5, 1]  # each row in the 1st column of 'a'\n",
    "print('c2 =', c2)"
   ]
  },
  {
   "cell_type": "code",
   "execution_count": null,
   "id": "8eb401ae-37fe-4031-82b6-b1659f2224f1",
   "metadata": {},
   "outputs": [],
   "source": [
    "c3 = a[:, 1]  # take the whole column\n",
    "print('c3 =', c3)"
   ]
  },
  {
   "cell_type": "code",
   "execution_count": null,
   "id": "37833435-e5a5-4f3f-9cc1-02d025152fbb",
   "metadata": {},
   "outputs": [],
   "source": [
    "c4 = a[1:3, :]  # each column in the 1st and 2nd row of 'a'\n",
    "print('c4 =', c4)"
   ]
  },
  {
   "cell_type": "code",
   "execution_count": null,
   "id": "7f1c78a1-65a4-4736-a31d-dec43e67364c",
   "metadata": {},
   "outputs": [],
   "source": [
    "c5 = a[1:4, 1:3]  # take the 'middle' slice of the array\n",
    "print('c5 =', c5)"
   ]
  },
  {
   "cell_type": "code",
   "execution_count": null,
   "id": "9906fd6b-771a-4c03-afeb-66e0befb97d7",
   "metadata": {},
   "outputs": [],
   "source": []
  }
 ],
 "metadata": {
  "kernelspec": {
   "display_name": "Python 3 (ipykernel)",
   "language": "python",
   "name": "python3"
  },
  "language_info": {
   "codemirror_mode": {
    "name": "ipython",
    "version": 3
   },
   "file_extension": ".py",
   "mimetype": "text/x-python",
   "name": "python",
   "nbconvert_exporter": "python",
   "pygments_lexer": "ipython3",
   "version": "3.12.7"
  }
 },
 "nbformat": 4,
 "nbformat_minor": 5
}
