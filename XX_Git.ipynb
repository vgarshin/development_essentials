{
 "cells": [
  {
   "cell_type": "markdown",
   "id": "b5d38ebb-4cb1-4ab0-872c-21704174d91d",
   "metadata": {},
   "source": [
    "# Development Essentials course"
   ]
  },
  {
   "cell_type": "markdown",
   "id": "ideal-coverage",
   "metadata": {},
   "source": [
    "## Shell Commands Basics"
   ]
  },
  {
   "cell_type": "markdown",
   "id": "antique-conversion",
   "metadata": {},
   "source": [
    "### Access to terminal"
   ]
  },
  {
   "cell_type": "markdown",
   "id": "capital-attraction",
   "metadata": {},
   "source": [
    "Basic functionality of JupyterLab allows to open a Unix terminal to run shell commands. To open a new terminal you should follow `File -> New -> Terminal` in the main menu:"
   ]
  },
  {
   "cell_type": "markdown",
   "id": "political-brown",
   "metadata": {},
   "source": [
    "![Jupyter terminal open menu](imgs/jupyterlab_terminal_open.jpg)"
   ]
  },
  {
   "cell_type": "markdown",
   "id": "drawn-stone",
   "metadata": {},
   "source": [
    "This will open a terminal to run shell commands:"
   ]
  },
  {
   "cell_type": "markdown",
   "id": "official-calcium",
   "metadata": {},
   "source": [
    "![Jupyter terminal open menu](imgs/jupyterlab_terminal_opened.jpg)"
   ]
  },
  {
   "cell_type": "markdown",
   "id": "parallel-snowboard",
   "metadata": {},
   "source": [
    " You may open many terminals at one time and manage them as the windows in your browser. Terminal can be shutdowned as well as a Jupyter notebook in `Running Terminals and Kernels` tab."
   ]
  },
  {
   "cell_type": "markdown",
   "id": "personal-contact",
   "metadata": {},
   "source": [
    "### Access to terminal in the notebook"
   ]
  },
  {
   "cell_type": "markdown",
   "id": "guided-category",
   "metadata": {},
   "source": [
    "Jupyter Notebooks allow you to get access to the terminal with use of `!` in the cell with code. Let's see how bash command `pwd` (show the current directory):"
   ]
  },
  {
   "cell_type": "code",
   "execution_count": null,
   "id": "wound-sampling",
   "metadata": {},
   "outputs": [],
   "source": [
    "!pwd"
   ]
  },
  {
   "cell_type": "markdown",
   "id": "structural-extent",
   "metadata": {},
   "source": [
    "...and see the system Unix time:"
   ]
  },
  {
   "cell_type": "code",
   "execution_count": null,
   "id": "armed-numbers",
   "metadata": {},
   "outputs": [],
   "source": [
    "!date"
   ]
  },
  {
   "cell_type": "markdown",
   "id": "third-daily",
   "metadata": {},
   "source": [
    "Complete list of bash comands with descriptions you can find [here](https://ss64.com/bash/)."
   ]
  },
  {
   "cell_type": "markdown",
   "id": "vertical-carry",
   "metadata": {},
   "source": [
    "### Navigating"
   ]
  },
  {
   "cell_type": "markdown",
   "id": "unavailable-passport",
   "metadata": {},
   "source": [
    "Let's list all the directory files with `ls` command:"
   ]
  },
  {
   "cell_type": "code",
   "execution_count": 1,
   "id": "continued-magic",
   "metadata": {},
   "outputs": [
    {
     "name": "stdout",
     "output_type": "stream",
     "text": [
      "total 40\n",
      "-rw-rw-r-- 1 jovyan users 10939 Feb 25 13:38 01_JupyterLab_Basics.ipynb\n",
      "-rw-rw-r-- 1 jovyan users  6830 Feb 25 13:12 02_Running_Code.ipynb\n",
      "-rw-rw-r-- 1 jovyan users 14956 Feb 25 14:47 03_Bash_Basics.ipynb\n",
      "drwxrwsr-x 3 jovyan users  4096 Feb 25 14:00 imgs\n"
     ]
    }
   ],
   "source": [
    "# (list) - to find out what is in the directory\n",
    "!ls -l"
   ]
  },
  {
   "cell_type": "code",
   "execution_count": 2,
   "id": "faef1900-eb22-409a-b6e8-368ea10e233b",
   "metadata": {},
   "outputs": [
    {
     "name": "stdout",
     "output_type": "stream",
     "text": [
      ".   .ipynb_checkpoints\t\t02_Running_Code.ipynb  imgs\n",
      "..  01_JupyterLab_Basics.ipynb\t03_Bash_Basics.ipynb\n"
     ]
    }
   ],
   "source": [
    "# list hidden files & directories as well \n",
    "!ls -a"
   ]
  },
  {
   "cell_type": "code",
   "execution_count": 3,
   "id": "1dbf646f-9b9b-4c76-9412-5688035018b2",
   "metadata": {},
   "outputs": [
    {
     "name": "stdout",
     "output_type": "stream",
     "text": [
      "total 52\n",
      "drwxrwsr-x  4 jovyan users  4096 Feb 25 14:47 .\n",
      "drwxrwsr-x 84 root   users  4096 Feb 25 12:16 ..\n",
      "drwxrwsr-x  2 jovyan users  4096 Feb 25 13:55 .ipynb_checkpoints\n",
      "-rw-rw-r--  1 jovyan users 10939 Feb 25 13:38 01_JupyterLab_Basics.ipynb\n",
      "-rw-rw-r--  1 jovyan users  6830 Feb 25 13:12 02_Running_Code.ipynb\n",
      "-rw-rw-r--  1 jovyan users 14956 Feb 25 14:47 03_Bash_Basics.ipynb\n",
      "drwxrwsr-x  3 jovyan users  4096 Feb 25 14:00 imgs\n"
     ]
    }
   ],
   "source": [
    "# list the files and directories with detailed \n",
    "# information like the permissions, size, owner, \n",
    "# group, date of creation, etc\n",
    "!ls -la"
   ]
  },
  {
   "cell_type": "markdown",
   "id": "21863e46-6797-4c5b-b615-7c42ca96aa79",
   "metadata": {},
   "source": [
    "Move to other directories:"
   ]
  },
  {
   "cell_type": "code",
   "execution_count": 5,
   "id": "7e0472cc-268e-41ef-a5be-2d463dca577c",
   "metadata": {},
   "outputs": [],
   "source": [
    "# go to the parent directory\n",
    "!cd .."
   ]
  },
  {
   "cell_type": "markdown",
   "id": "maritime-johns",
   "metadata": {},
   "source": [
    "...there is no output, because we are not in the terminal. But you can combine commands with `&&`. Here is an example how to move to parent directory and list files in it:"
   ]
  },
  {
   "cell_type": "code",
   "execution_count": 6,
   "id": "latest-source",
   "metadata": {
    "collapsed": true,
    "jupyter": {
     "outputs_hidden": true
    },
    "scrolled": true
   },
   "outputs": [
    {
     "name": "stdout",
     "output_type": "stream",
     "text": [
      " MLnBDA\t\t\t devess\n",
      " NLP_Assignment.ipynb\t digital_profile\n",
      " NLP_HA.ipynb\t\t dlba\n",
      " Untitled.ipynb\t\t gpu_test_torch.ipynb\n",
      " __AIKNOWLEDGEBASE\t gputest.ipynb\n",
      " __ANIMALS\t\t grader\n",
      " __CUSTOM\t\t gsom_jhub_manual\n",
      " __DATA\t\t\t gsom_jhub_ui\n",
      " __EDUPLATFORM\t\t gsom_tel_ai_bot\n",
      " __LABELING\t\t ibdt_course_miba_23\n",
      " __LEOLANDBOOKS\t\t ibdt_course_miba_24\n",
      " __MANUAL\t\t jhub-ui\n",
      " __OPTIONS\t\t'lect_2_timetable_hahints (1).ipynb'\n",
      " __PLATFORM\t\t lost+found\n",
      " __RAYDTT\t\t lw#1Alvarado.ipynb\n",
      " __RAYPFP23\t\t master_classes_22\n",
      " __RAYPFP24\t\t master_classes_23\n",
      " __SDGLABEL\t\t master_classes_24\n",
      " __SHARED\t\t miba_options_project\n",
      " __TELE2IPA\t\t miba_sites_project\n",
      " __TELE2LAA\t\t miba_vk_project\n",
      " __TEST01\t\t mlflow\n",
      " __VK\t\t\t news_parse.ipynb\n",
      " __pycache__\t\t nltk_data\n",
      " _demos\t\t\t old\n",
      " airflow\t\t pandas.ipynb\n",
      " apbdid_23\t\t params.json\n",
      " apbdid_24\t\t pystata.ipynb\n",
      " apid\t\t\t requirements.txt\n",
      " articles_labeling\t scripts\n",
      " bdin_jhub_manual\t seaborn-data\n",
      " book_forest\t\t strangejoin\n",
      " buckets\t\t stuff.ipynb\n",
      " catboost_info\t\t superset-start.sh\n",
      " cheaters\t\t superset_config.py\n",
      " copydigipro.sh\t\t test.py\n",
      " crm\t\t\t tests.ipynb\n",
      " daria.ipynb\t\t tests_spark_s3.ipynb\n",
      " daria_bin_float.ipynb\t text_search\n",
      " datagov\t\t titanic\n",
      " datalake_dags\t\t topic_02_mnist-Vadim_T._Galimov.ipynb\n",
      " datalake_scripts\t traces\n",
      " dataload\t\t vgarshin_mlflow\n",
      " demo_kps_0.ipynb\n"
     ]
    }
   ],
   "source": [
    "!cd .. && ls"
   ]
  },
  {
   "cell_type": "markdown",
   "id": "fixed-finnish",
   "metadata": {},
   "source": [
    "We can count files in the directory with the following command:"
   ]
  },
  {
   "cell_type": "code",
   "execution_count": 7,
   "id": "decent-collector",
   "metadata": {},
   "outputs": [
    {
     "name": "stdout",
     "output_type": "stream",
     "text": [
      "8\n"
     ]
    }
   ],
   "source": [
    "# first part of commands `ls` lists all files, directories etc.\n",
    "# while the second command `wc` counts lines\n",
    "!ls -la | wc -l"
   ]
  },
  {
   "cell_type": "markdown",
   "id": "continued-television",
   "metadata": {},
   "source": [
    "Note thet the pipe operator `|` is used. A Unix pipe `|` connects the STDOUT (standard output) file descriptor of the first process to the STDIN (standard input) of the second."
   ]
  },
  {
   "cell_type": "markdown",
   "id": "dynamic-deficit",
   "metadata": {},
   "source": [
    "### Creating files and directories"
   ]
  },
  {
   "cell_type": "markdown",
   "id": "smooth-sailing",
   "metadata": {},
   "source": [
    "Creating directory named `testdir` with `mkdir` command:"
   ]
  },
  {
   "cell_type": "code",
   "execution_count": 8,
   "id": "greek-selling",
   "metadata": {},
   "outputs": [],
   "source": [
    "!mkdir testdir"
   ]
  },
  {
   "cell_type": "markdown",
   "id": "bacterial-ranking",
   "metadata": {},
   "source": [
    "...and listing the result (you may find new `testdir` directory):"
   ]
  },
  {
   "cell_type": "code",
   "execution_count": 9,
   "id": "underlying-montgomery",
   "metadata": {},
   "outputs": [
    {
     "name": "stdout",
     "output_type": "stream",
     "text": [
      "01_JupyterLab_Basics.ipynb  03_Bash_Basics.ipynb  testdir\n",
      "02_Running_Code.ipynb\t    imgs\n"
     ]
    }
   ],
   "source": [
    "!ls"
   ]
  },
  {
   "cell_type": "markdown",
   "id": "romance-reduction",
   "metadata": {},
   "source": [
    "Now we can create an empty file with name `testfile.txt` with `touch` command:"
   ]
  },
  {
   "cell_type": "code",
   "execution_count": 10,
   "id": "listed-malta",
   "metadata": {},
   "outputs": [],
   "source": [
    "!touch testfile.txt"
   ]
  },
  {
   "cell_type": "markdown",
   "id": "trying-conflict",
   "metadata": {},
   "source": [
    "...check if file is created:"
   ]
  },
  {
   "cell_type": "code",
   "execution_count": 11,
   "id": "durable-warner",
   "metadata": {},
   "outputs": [
    {
     "name": "stdout",
     "output_type": "stream",
     "text": [
      "01_JupyterLab_Basics.ipynb  03_Bash_Basics.ipynb  testdir\n",
      "02_Running_Code.ipynb\t    imgs\t\t  testfile.txt\n"
     ]
    }
   ],
   "source": [
    "!ls"
   ]
  },
  {
   "cell_type": "markdown",
   "id": "other-least",
   "metadata": {},
   "source": [
    "To see what is in file you may use `cat` command:"
   ]
  },
  {
   "cell_type": "code",
   "execution_count": 12,
   "id": "fifth-doubt",
   "metadata": {},
   "outputs": [],
   "source": [
    "!cat testfile.txt"
   ]
  },
  {
   "cell_type": "markdown",
   "id": "massive-universe",
   "metadata": {},
   "source": [
    "There is nothing in the file because it was created empty. Let's append a rows with date in it. We use command `>>` to append a string to the end of file. NOTE that we use `&&` to combine commands and run one after another:"
   ]
  },
  {
   "cell_type": "code",
   "execution_count": 13,
   "id": "republican-comment",
   "metadata": {},
   "outputs": [
    {
     "name": "stdout",
     "output_type": "stream",
     "text": [
      "Tue Feb 25 15:05:57 UTC 2025\n"
     ]
    }
   ],
   "source": [
    "# put the date to the file\n",
    "!date >> testfile.txt && cat testfile.txt"
   ]
  },
  {
   "cell_type": "markdown",
   "id": "proved-afghanistan",
   "metadata": {},
   "source": [
    "...one more row (now with `echo` command):"
   ]
  },
  {
   "cell_type": "code",
   "execution_count": 15,
   "id": "9a3bd903-5df6-4160-a34d-c2f564279f0c",
   "metadata": {},
   "outputs": [
    {
     "name": "stdout",
     "output_type": "stream",
     "text": [
      "some text\n"
     ]
    }
   ],
   "source": [
    "# move some data to the output\n",
    "!echo some text"
   ]
  },
  {
   "cell_type": "code",
   "execution_count": 14,
   "id": "tracked-samba",
   "metadata": {},
   "outputs": [
    {
     "name": "stdout",
     "output_type": "stream",
     "text": [
      "Tue Feb 25 15:05:57 UTC 2025\n",
      "I can append to file!!!\n"
     ]
    }
   ],
   "source": [
    "# redirects the output from the screen to a file\n",
    "# and then displays the content of the file\n",
    "!echo \"I can append to file!!!\" >> testfile.txt && cat testfile.txt"
   ]
  },
  {
   "cell_type": "markdown",
   "id": "guilty-blink",
   "metadata": {},
   "source": [
    "### Copy and move files "
   ]
  },
  {
   "cell_type": "markdown",
   "id": "sudden-amsterdam",
   "metadata": {},
   "source": [
    "There is `cp` command for copying files and directories. Copy our created `testfile.txt` to a new file `testfile_copy.txt` in the `testdir` directory:"
   ]
  },
  {
   "cell_type": "code",
   "execution_count": 16,
   "id": "fourth-laptop",
   "metadata": {},
   "outputs": [],
   "source": [
    "!cp testfile.txt testdir/testfile_copy.txt"
   ]
  },
  {
   "cell_type": "markdown",
   "id": "czech-alfred",
   "metadata": {},
   "source": [
    "...and list the `testdir` directory:"
   ]
  },
  {
   "cell_type": "code",
   "execution_count": 17,
   "id": "different-pathology",
   "metadata": {},
   "outputs": [
    {
     "name": "stdout",
     "output_type": "stream",
     "text": [
      "testfile_copy.txt\n"
     ]
    }
   ],
   "source": [
    "!ls testdir/"
   ]
  },
  {
   "cell_type": "markdown",
   "id": "difficult-soldier",
   "metadata": {},
   "source": [
    "Now will move `testfile.txt` to the `testdir` directory with `mv` command:"
   ]
  },
  {
   "cell_type": "code",
   "execution_count": 18,
   "id": "impressed-player",
   "metadata": {},
   "outputs": [],
   "source": [
    "!mv testfile.txt testdir/"
   ]
  },
  {
   "cell_type": "code",
   "execution_count": 19,
   "id": "amazing-remains",
   "metadata": {},
   "outputs": [
    {
     "name": "stdout",
     "output_type": "stream",
     "text": [
      "testfile.txt  testfile_copy.txt\n"
     ]
    }
   ],
   "source": [
    "!ls testdir/"
   ]
  },
  {
   "cell_type": "markdown",
   "id": "simplified-administration",
   "metadata": {},
   "source": [
    "### Deleting files and directories"
   ]
  },
  {
   "cell_type": "markdown",
   "id": "abandoned-adrian",
   "metadata": {},
   "source": [
    "__NOTE__: _be careful while deleting files and directories, you are not in Windows and you do not have Trash Bin! You will not be asked wheither to delete files or not, your command just deletes everything you asked FOREVER._"
   ]
  },
  {
   "cell_type": "markdown",
   "id": "scenic-modification",
   "metadata": {},
   "source": [
    "If you still want to try removing some files and directories, you may use `rm` command e.g. to delete `testfile.txt` in the `testdir`:"
   ]
  },
  {
   "cell_type": "code",
   "execution_count": 20,
   "id": "outer-smooth",
   "metadata": {},
   "outputs": [],
   "source": [
    "!rm testdir/testfile.txt"
   ]
  },
  {
   "cell_type": "markdown",
   "id": "graphic-seeking",
   "metadata": {},
   "source": [
    "...there is only copy of the file left:"
   ]
  },
  {
   "cell_type": "code",
   "execution_count": 21,
   "id": "fleet-export",
   "metadata": {},
   "outputs": [
    {
     "name": "stdout",
     "output_type": "stream",
     "text": [
      "testfile_copy.txt\n"
     ]
    }
   ],
   "source": [
    "!ls testdir/"
   ]
  },
  {
   "cell_type": "markdown",
   "id": "middle-marshall",
   "metadata": {},
   "source": [
    "Now will delete the directory `testdir` itself:"
   ]
  },
  {
   "cell_type": "code",
   "execution_count": 22,
   "id": "improved-illness",
   "metadata": {},
   "outputs": [],
   "source": [
    "!rm -rf testdir/"
   ]
  },
  {
   "cell_type": "markdown",
   "id": "private-fighter",
   "metadata": {},
   "source": [
    "Note that key `-rf` was used to delete all the files in the directory recursively."
   ]
  },
  {
   "cell_type": "markdown",
   "id": "127839d1-50f0-4077-ba6c-7f63f242d12d",
   "metadata": {},
   "source": [
    "### More commands"
   ]
  },
  {
   "cell_type": "markdown",
   "id": "316448df-c55c-4bcb-8efe-160cbd467401",
   "metadata": {},
   "source": [
    "Some more useful Unix shell commands:"
   ]
  },
  {
   "cell_type": "code",
   "execution_count": 23,
   "id": "76cc33b4-bcd6-4db6-8f83-c50af1d7bcd8",
   "metadata": {
    "collapsed": true,
    "jupyter": {
     "outputs_hidden": true
    }
   },
   "outputs": [
    {
     "name": "stdout",
     "output_type": "stream",
     "text": [
      "\u001b[4mLS\u001b[24m(1)                            User Commands                           \u001b[4mLS\u001b[24m(1)\n",
      "\n",
      "\u001b[1mNAME\u001b[0m\n",
      "       ls - list directory contents\n",
      "\n",
      "\u001b[1mSYNOPSIS\u001b[0m\n",
      "       \u001b[1mls \u001b[22m[\u001b[4mOPTION\u001b[24m]... [\u001b[4mFILE\u001b[24m]...\n",
      "\n",
      "\u001b[1mDESCRIPTION\u001b[0m\n",
      "       List  information  about  the FILEs (the current directory by default).\n",
      "       Sort entries alphabetically if none of \u001b[1m-cftuvSUX \u001b[22mnor \u001b[1m--sort  \u001b[22mis  speci‐\n",
      "       fied.\n",
      "\n",
      "       Mandatory  arguments  to  long  options are mandatory for short options\n",
      "       too.\n",
      "\n",
      "       \u001b[1m-a\u001b[22m, \u001b[1m--all\u001b[0m\n",
      "              do not ignore entries starting with .\n",
      "\n",
      "       \u001b[1m-A\u001b[22m, \u001b[1m--almost-all\u001b[0m\n",
      "              do not list implied . and ..\n",
      "\n",
      "       \u001b[1m--author\u001b[0m\n",
      "              with \u001b[1m-l\u001b[22m, print the author of each file\n",
      "\n",
      "       \u001b[1m-b\u001b[22m, \u001b[1m--escape\u001b[0m\n",
      "              print C-style escapes for nongraphic characters\n",
      "\n",
      "       \u001b[1m--block-size\u001b[22m=\u001b[4mSIZE\u001b[0m\n",
      "              with  \u001b[1m-l\u001b[22m,  scale  sizes  by  SIZE  when  printing  them;   e.g.,\n",
      "              '--block-size=M'; see SIZE format below\n",
      "\n",
      "       \u001b[1m-B\u001b[22m, \u001b[1m--ignore-backups\u001b[0m\n",
      "              do not list implied entries ending with ~\n",
      "\n",
      "       \u001b[1m-c     \u001b[22mwith  \u001b[1m-lt\u001b[22m: sort by, and show, ctime (time of last change of file\n",
      "              status information); with \u001b[1m-l\u001b[22m: show ctime and sort by name;  oth‐\n",
      "              erwise: sort by ctime, newest first\n",
      "\n",
      "       \u001b[1m-C     \u001b[22mlist entries by columns\n",
      "\n",
      "       \u001b[1m--color\u001b[22m[=\u001b[4mWHEN\u001b[24m]\n",
      "              color the output WHEN; more info below\n",
      "\n",
      "       \u001b[1m-d\u001b[22m, \u001b[1m--directory\u001b[0m\n",
      "              list directories themselves, not their contents\n",
      "\n",
      "       \u001b[1m-D\u001b[22m, \u001b[1m--dired\u001b[0m\n",
      "              generate output designed for Emacs' dired mode\n",
      "\n",
      "       \u001b[1m-f     \u001b[22mlist all entries in directory order\n",
      "\n",
      "       \u001b[1m-F\u001b[22m, \u001b[1m--classify\u001b[22m[=\u001b[4mWHEN\u001b[24m]\n",
      "              append indicator (one of */=>@|) to entries WHEN\n",
      "\n",
      "       \u001b[1m--file-type\u001b[0m\n",
      "              likewise, except do not append '*'\n",
      "\n",
      "       \u001b[1m--format\u001b[22m=\u001b[4mWORD\u001b[0m\n",
      "              across  \u001b[1m-x\u001b[22m, commas \u001b[1m-m\u001b[22m, horizontal \u001b[1m-x\u001b[22m, long \u001b[1m-l\u001b[22m, single-column \u001b[1m-1\u001b[22m,\n",
      "              verbose \u001b[1m-l\u001b[22m, vertical \u001b[1m-C\u001b[0m\n",
      "\n",
      "       \u001b[1m--full-time\u001b[0m\n",
      "              like \u001b[1m-l --time-style\u001b[22m=\u001b[4mfull-iso\u001b[0m\n",
      "\n",
      "       \u001b[1m-g     \u001b[22mlike \u001b[1m-l\u001b[22m, but do not list owner\n",
      "\n",
      "       \u001b[1m--group-directories-first\u001b[0m\n",
      "              group directories before files; can be augmented with  a  \u001b[1m--sort\u001b[0m\n",
      "              option, but any use of \u001b[1m--sort\u001b[22m=\u001b[4mnone\u001b[24m (\u001b[1m-U\u001b[22m) disables grouping\n",
      "\n",
      "       \u001b[1m-G\u001b[22m, \u001b[1m--no-group\u001b[0m\n",
      "              in a long listing, don't print group names\n",
      "\n",
      "       \u001b[1m-h\u001b[22m, \u001b[1m--human-readable\u001b[0m\n",
      "              with \u001b[1m-l \u001b[22mand \u001b[1m-s\u001b[22m, print sizes like 1K 234M 2G etc.\n",
      "\n",
      "       \u001b[1m--si   \u001b[22mlikewise, but use powers of 1000 not 1024\n",
      "\n",
      "       \u001b[1m-H\u001b[22m, \u001b[1m--dereference-command-line\u001b[0m\n",
      "              follow symbolic links listed on the command line\n",
      "\n",
      "       \u001b[1m--dereference-command-line-symlink-to-dir\u001b[0m\n",
      "              follow  each  command line symbolic link that points to a direc‐\n",
      "              tory\n",
      "\n",
      "       \u001b[1m--hide\u001b[22m=\u001b[4mPATTERN\u001b[0m\n",
      "              do not list implied entries matching shell  PATTERN  (overridden\n",
      "              by \u001b[1m-a \u001b[22mor \u001b[1m-A\u001b[22m)\n",
      "\n",
      "       \u001b[1m--hyperlink\u001b[22m[=\u001b[4mWHEN\u001b[24m]\n",
      "              hyperlink file names WHEN\n",
      "\n",
      "       \u001b[1m--indicator-style\u001b[22m=\u001b[4mWORD\u001b[0m\n",
      "              append indicator with style WORD to entry names: none (default),\n",
      "              slash (\u001b[1m-p\u001b[22m), file-type (\u001b[1m--file-type\u001b[22m), classify (\u001b[1m-F\u001b[22m)\n",
      "\n",
      "       \u001b[1m-i\u001b[22m, \u001b[1m--inode\u001b[0m\n",
      "              print the index number of each file\n",
      "\n",
      "       \u001b[1m-I\u001b[22m, \u001b[1m--ignore\u001b[22m=\u001b[4mPATTERN\u001b[0m\n",
      "              do not list implied entries matching shell PATTERN\n",
      "\n",
      "       \u001b[1m-k\u001b[22m, \u001b[1m--kibibytes\u001b[0m\n",
      "              default  to  1024-byte  blocks  for file system usage; used only\n",
      "              with \u001b[1m-s \u001b[22mand per directory totals\n",
      "\n",
      "       \u001b[1m-l     \u001b[22muse a long listing format\n",
      "\n",
      "       \u001b[1m-L\u001b[22m, \u001b[1m--dereference\u001b[0m\n",
      "              when showing file information for a symbolic link, show informa‐\n",
      "              tion for the file the link references rather than for  the  link\n",
      "              itself\n",
      "\n",
      "       \u001b[1m-m     \u001b[22mfill width with a comma separated list of entries\n",
      "\n",
      "       \u001b[1m-n\u001b[22m, \u001b[1m--numeric-uid-gid\u001b[0m\n",
      "              like \u001b[1m-l\u001b[22m, but list numeric user and group IDs\n",
      "\n",
      "       \u001b[1m-N\u001b[22m, \u001b[1m--literal\u001b[0m\n",
      "              print entry names without quoting\n",
      "\n",
      "       \u001b[1m-o     \u001b[22mlike \u001b[1m-l\u001b[22m, but do not list group information\n",
      "\n",
      "       \u001b[1m-p\u001b[22m, \u001b[1m--indicator-style\u001b[22m=\u001b[4mslash\u001b[0m\n",
      "              append / indicator to directories\n",
      "\n",
      "       \u001b[1m-q\u001b[22m, \u001b[1m--hide-control-chars\u001b[0m\n",
      "              print ? instead of nongraphic characters\n",
      "\n",
      "       \u001b[1m--show-control-chars\u001b[0m\n",
      "              show nongraphic characters as-is (the default, unless program is\n",
      "              'ls' and output is a terminal)\n",
      "\n",
      "       \u001b[1m-Q\u001b[22m, \u001b[1m--quote-name\u001b[0m\n",
      "              enclose entry names in double quotes\n",
      "\n",
      "       \u001b[1m--quoting-style\u001b[22m=\u001b[4mWORD\u001b[0m\n",
      "              use  quoting style WORD for entry names: literal, locale, shell,\n",
      "              shell-always,  shell-escape,  shell-escape-always,   c,   escape\n",
      "              (overrides QUOTING_STYLE environment variable)\n",
      "\n",
      "       \u001b[1m-r\u001b[22m, \u001b[1m--reverse\u001b[0m\n",
      "              reverse order while sorting\n",
      "\n",
      "       \u001b[1m-R\u001b[22m, \u001b[1m--recursive\u001b[0m\n",
      "              list subdirectories recursively\n",
      "\n",
      "       \u001b[1m-s\u001b[22m, \u001b[1m--size\u001b[0m\n",
      "              print the allocated size of each file, in blocks\n",
      "\n",
      "       \u001b[1m-S     \u001b[22msort by file size, largest first\n",
      "\n",
      "       \u001b[1m--sort\u001b[22m=\u001b[4mWORD\u001b[0m\n",
      "              sort  by  WORD instead of name: none (\u001b[1m-U\u001b[22m), size (\u001b[1m-S\u001b[22m), time (\u001b[1m-t\u001b[22m),\n",
      "              version (\u001b[1m-v\u001b[22m), extension (\u001b[1m-X\u001b[22m), width\n",
      "\n",
      "       \u001b[1m--time\u001b[22m=\u001b[4mWORD\u001b[0m\n",
      "              select which timestamp used to  display  or  sort;  access  time\n",
      "              (\u001b[1m-u\u001b[22m): atime, access, use; metadata change time (\u001b[1m-c\u001b[22m): ctime, sta‐\n",
      "              tus;  modified  time (default): mtime, modification; birth time:\n",
      "              birth, creation;\n",
      "\n",
      "              with \u001b[1m-l\u001b[22m, WORD determines which time to show;  with  \u001b[1m--sort\u001b[22m=\u001b[4mtime\u001b[24m,\n",
      "              sort by WORD (newest first)\n",
      "\n",
      "       \u001b[1m--time-style\u001b[22m=\u001b[4mTIME_STYLE\u001b[0m\n",
      "              time/date format with \u001b[1m-l\u001b[22m; see TIME_STYLE below\n",
      "\n",
      "       \u001b[1m-t     \u001b[22msort by time, newest first; see \u001b[1m--time\u001b[0m\n",
      "\n",
      "       \u001b[1m-T\u001b[22m, \u001b[1m--tabsize\u001b[22m=\u001b[4mCOLS\u001b[0m\n",
      "              assume tab stops at each COLS instead of 8\n",
      "\n",
      "       \u001b[1m-u     \u001b[22mwith  \u001b[1m-lt\u001b[22m:  sort by, and show, access time; with \u001b[1m-l\u001b[22m: show access\n",
      "              time and sort by name; otherwise: sort by  access  time,  newest\n",
      "              first\n",
      "\n",
      "       \u001b[1m-U     \u001b[22mdo not sort; list entries in directory order\n",
      "\n",
      "       \u001b[1m-v     \u001b[22mnatural sort of (version) numbers within text\n",
      "\n",
      "       \u001b[1m-w\u001b[22m, \u001b[1m--width\u001b[22m=\u001b[4mCOLS\u001b[0m\n",
      "              set output width to COLS.  0 means no limit\n",
      "\n",
      "       \u001b[1m-x     \u001b[22mlist entries by lines instead of by columns\n",
      "\n",
      "       \u001b[1m-X     \u001b[22msort alphabetically by entry extension\n",
      "\n",
      "       \u001b[1m-Z\u001b[22m, \u001b[1m--context\u001b[0m\n",
      "              print any security context of each file\n",
      "\n",
      "       \u001b[1m--zero \u001b[22mend each output line with NUL, not newline\n",
      "\n",
      "       \u001b[1m-1     \u001b[22mlist one file per line\n",
      "\n",
      "       \u001b[1m--help \u001b[22mdisplay this help and exit\n",
      "\n",
      "       \u001b[1m--version\u001b[0m\n",
      "              output version information and exit\n",
      "\n",
      "       The  SIZE  argument  is  an  integer and optional unit (example: 10K is\n",
      "       10*1024).  Units are K,M,G,T,P,E,Z,Y,R,Q (powers of 1024) or  KB,MB,...\n",
      "       (powers  of 1000).  Binary prefixes can be used, too: KiB=K, MiB=M, and\n",
      "       so on.\n",
      "\n",
      "       The TIME_STYLE argument can be  full-iso,  long-iso,  iso,  locale,  or\n",
      "       +FORMAT.   FORMAT  is  interpreted  like in \u001b[1mdate\u001b[22m(1).  If FORMAT is FOR‐\n",
      "       MAT1<newline>FORMAT2, then FORMAT1 applies to non-recent files and FOR‐\n",
      "       MAT2 to recent files.  TIME_STYLE prefixed with 'posix-'  takes  effect\n",
      "       only  outside  the POSIX locale.  Also the TIME_STYLE environment vari‐\n",
      "       able sets the default style to use.\n",
      "\n",
      "       The WHEN argument defaults to  'always'  and  can  also  be  'auto'  or\n",
      "       'never'.\n",
      "\n",
      "       Using  color  to distinguish file types is disabled both by default and\n",
      "       with \u001b[1m--color\u001b[22m=\u001b[4mnever\u001b[24m.  With \u001b[1m--color\u001b[22m=\u001b[4mauto\u001b[24m, ls emits color codes only  when\n",
      "       standard  output is connected to a terminal.  The LS_COLORS environment\n",
      "       variable can change the settings.  Use the \u001b[1mdircolors\u001b[22m(1) command to  set\n",
      "       it.\n",
      "\n",
      "   \u001b[1mExit status:\u001b[0m\n",
      "       0      if OK,\n",
      "\n",
      "       1      if minor problems (e.g., cannot access subdirectory),\n",
      "\n",
      "       2      if serious trouble (e.g., cannot access command-line argument).\n",
      "\n",
      "\u001b[1mAUTHOR\u001b[0m\n",
      "       Written by Richard M. Stallman and David MacKenzie.\n",
      "\n",
      "\u001b[1mREPORTING BUGS\u001b[0m\n",
      "       GNU coreutils online help: <https://www.gnu.org/software/coreutils/>\n",
      "       Report any translation bugs to <https://translationproject.org/team/>\n",
      "\n",
      "\u001b[1mCOPYRIGHT\u001b[0m\n",
      "       Copyright  ©  2023  Free Software Foundation, Inc.  License GPLv3+: GNU\n",
      "       GPL version 3 or later <https://gnu.org/licenses/gpl.html>.\n",
      "       This is free software: you are free  to  change  and  redistribute  it.\n",
      "       There is NO WARRANTY, to the extent permitted by law.\n",
      "\n",
      "\u001b[1mSEE ALSO\u001b[0m\n",
      "       \u001b[1mdircolors\u001b[22m(1)\n",
      "\n",
      "       Full documentation <https://www.gnu.org/software/coreutils/ls>\n",
      "       or available locally via: info '(coreutils) ls invocation'\n",
      "\n",
      "GNU coreutils 9.4                 April 2024                             \u001b[4mLS\u001b[24m(1)\n"
     ]
    }
   ],
   "source": [
    "# help for anything\n",
    "!man ls"
   ]
  },
  {
   "cell_type": "code",
   "execution_count": 24,
   "id": "b14ea625-60a2-4738-a7c2-55c0e88d2ec7",
   "metadata": {},
   "outputs": [
    {
     "name": "stdout",
     "output_type": "stream",
     "text": [
      "jovyan\n"
     ]
    }
   ],
   "source": [
    "# command that prints the effective user id\n",
    "# NOTE that it gives a tech username, not your actual login\n",
    "!whoami"
   ]
  },
  {
   "cell_type": "code",
   "execution_count": 26,
   "id": "28f7d82e-b151-4ea7-af2c-1d82c7b1b08b",
   "metadata": {},
   "outputs": [
    {
     "name": "stdout",
     "output_type": "stream",
     "text": [
      "uid=1000(jovyan) gid=100(users) groups=100(users)\n"
     ]
    }
   ],
   "source": [
    "# prints the user id, user name and user groups data\n",
    "!id"
   ]
  },
  {
   "cell_type": "markdown",
   "id": "documented-martin",
   "metadata": {},
   "source": [
    "### Git integration"
   ]
  },
  {
   "cell_type": "markdown",
   "id": "vulnerable-audience",
   "metadata": {},
   "source": [
    "There is [git](https://git-scm.com/) client installed in the environment, so you may use basis `git` commands:"
   ]
  },
  {
   "cell_type": "code",
   "execution_count": null,
   "id": "enhanced-perth",
   "metadata": {},
   "outputs": [],
   "source": [
    "!git help"
   ]
  },
  {
   "cell_type": "code",
   "execution_count": null,
   "id": "presidential-transformation",
   "metadata": {},
   "outputs": [],
   "source": [
    "!git status"
   ]
  },
  {
   "cell_type": "markdown",
   "id": "mineral-concern",
   "metadata": {},
   "source": [
    "Or you may clone a repository e.g. from [github.com](https://github.com) you need with `git clone` command:"
   ]
  },
  {
   "cell_type": "code",
   "execution_count": null,
   "id": "ecological-laundry",
   "metadata": {},
   "outputs": [],
   "source": [
    "!git clone https://github.com/jerry-git/learn-python3"
   ]
  },
  {
   "cell_type": "markdown",
   "id": "composed-johnson",
   "metadata": {},
   "source": [
    "Folder `learn-python3/` with cloned repository `https://github.com/jerry-git/learn-python3` is now created:"
   ]
  },
  {
   "cell_type": "code",
   "execution_count": null,
   "id": "compressed-comment",
   "metadata": {},
   "outputs": [],
   "source": [
    "!ls learn-python3/"
   ]
  },
  {
   "cell_type": "markdown",
   "id": "afraid-wings",
   "metadata": {},
   "source": [
    "Anyway, it can be deleted:"
   ]
  },
  {
   "cell_type": "code",
   "execution_count": null,
   "id": "postal-concentration",
   "metadata": {},
   "outputs": [],
   "source": [
    "!rm -rf learn-python3/"
   ]
  },
  {
   "cell_type": "markdown",
   "id": "collaborative-hurricane",
   "metadata": {},
   "source": [
    "### Some advanced stuff: Bash and Python scripts"
   ]
  },
  {
   "cell_type": "markdown",
   "id": "turned-horror",
   "metadata": {},
   "source": [
    "Of course we all like Python and we can run Python scripts with terminal. But we should create a script with Python code to run it. So will use known commands to create a file:"
   ]
  },
  {
   "cell_type": "code",
   "execution_count": null,
   "id": "recognized-count",
   "metadata": {},
   "outputs": [],
   "source": [
    "!echo \"print('Hello World!')\" > test.py"
   ]
  },
  {
   "cell_type": "markdown",
   "id": "arbitrary-shelter",
   "metadata": {},
   "source": [
    "...and will look at the file's content:"
   ]
  },
  {
   "cell_type": "code",
   "execution_count": null,
   "id": "cleared-istanbul",
   "metadata": {},
   "outputs": [],
   "source": [
    "!cat test.py"
   ]
  },
  {
   "cell_type": "markdown",
   "id": "spoken-december",
   "metadata": {},
   "source": [
    "Now run a script with the system Python:"
   ]
  },
  {
   "cell_type": "code",
   "execution_count": null,
   "id": "smaller-mumbai",
   "metadata": {},
   "outputs": [],
   "source": [
    "!python test.py"
   ]
  },
  {
   "cell_type": "markdown",
   "id": "affiliated-broadcast",
   "metadata": {},
   "source": [
    "Let's do our script more complicated:"
   ]
  },
  {
   "cell_type": "code",
   "execution_count": null,
   "id": "healthy-ordering",
   "metadata": {},
   "outputs": [],
   "source": [
    "!echo \"first_word = 'Bash'\" >> test.py\n",
    "!echo \"space = ' '\" >> test.py\n",
    "!echo \"second_word = 'rulezzz!'\" >> test.py\n",
    "!echo \"print(first_word + space + second_word)\" >> test.py"
   ]
  },
  {
   "cell_type": "code",
   "execution_count": null,
   "id": "norman-encounter",
   "metadata": {},
   "outputs": [],
   "source": [
    "!cat test.py"
   ]
  },
  {
   "cell_type": "markdown",
   "id": "healthy-sector",
   "metadata": {},
   "source": [
    "...and run script again:"
   ]
  },
  {
   "cell_type": "code",
   "execution_count": null,
   "id": "varied-cancellation",
   "metadata": {},
   "outputs": [],
   "source": [
    "!python test.py"
   ]
  },
  {
   "cell_type": "markdown",
   "id": "future-macro",
   "metadata": {},
   "source": [
    "Finally let's clean all our trash:"
   ]
  },
  {
   "cell_type": "code",
   "execution_count": null,
   "id": "completed-campaign",
   "metadata": {},
   "outputs": [],
   "source": [
    "!rm test.py"
   ]
  },
  {
   "cell_type": "code",
   "execution_count": null,
   "id": "informational-relation",
   "metadata": {},
   "outputs": [],
   "source": []
  }
 ],
 "metadata": {
  "kernelspec": {
   "display_name": "Python 3 (ipykernel)",
   "language": "python",
   "name": "python3"
  },
  "language_info": {
   "codemirror_mode": {
    "name": "ipython",
    "version": 3
   },
   "file_extension": ".py",
   "mimetype": "text/x-python",
   "name": "python",
   "nbconvert_exporter": "python",
   "pygments_lexer": "ipython3",
   "version": "3.12.7"
  }
 },
 "nbformat": 4,
 "nbformat_minor": 5
}
