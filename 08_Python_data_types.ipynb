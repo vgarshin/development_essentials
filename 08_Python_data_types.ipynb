{
 "cells": [
  {
   "cell_type": "markdown",
   "id": "b5d38ebb-4cb1-4ab0-872c-21704174d91d",
   "metadata": {},
   "source": [
    "# Development Essentials course"
   ]
  },
  {
   "cell_type": "markdown",
   "id": "ideal-coverage",
   "metadata": {},
   "source": [
    "## Python variables and data types"
   ]
  },
  {
   "cell_type": "markdown",
   "id": "documented-martin",
   "metadata": {},
   "source": [
    "### Variables"
   ]
  },
  {
   "cell_type": "code",
   "execution_count": null,
   "id": "c89c22f4-53c1-474b-b057-069c545fc4cb",
   "metadata": {},
   "outputs": [],
   "source": [
    "# our first variable `greetings`\n",
    "\n",
    "greeting = 'Hello, World!'"
   ]
  },
  {
   "cell_type": "code",
   "execution_count": null,
   "id": "134e9803-e878-427e-b0be-9f6edc79848e",
   "metadata": {},
   "outputs": [],
   "source": [
    "# now we may print it out\n",
    "\n",
    "print(greeting)"
   ]
  },
  {
   "cell_type": "code",
   "execution_count": null,
   "id": "01355f1e-7da1-48a6-aa1a-541b5243e776",
   "metadata": {},
   "outputs": [],
   "source": [
    "# ...or just type variable's name\n",
    "# notebook will display variable\n",
    "\n",
    "greeting"
   ]
  },
  {
   "cell_type": "code",
   "execution_count": null,
   "id": "3b72883f-0d75-4e5b-8a6c-cb97a32970b2",
   "metadata": {},
   "outputs": [],
   "source": [
    "counter = 100  # an integer assignment\n",
    "print(counter)"
   ]
  },
  {
   "cell_type": "code",
   "execution_count": null,
   "id": "e7d37419-d903-456a-bc29-10dcef014213",
   "metadata": {},
   "outputs": [],
   "source": [
    "miles = 1000.0  # a floating point\n",
    "print(miles)"
   ]
  },
  {
   "cell_type": "code",
   "execution_count": null,
   "id": "48e28538-3838-4555-8f60-f82d1a6452b8",
   "metadata": {},
   "outputs": [],
   "source": [
    "name = 'John'  # a string\n",
    "print(name) "
   ]
  },
  {
   "cell_type": "code",
   "execution_count": null,
   "id": "967bf14a-ba38-417d-b398-87d49e5effac",
   "metadata": {},
   "outputs": [],
   "source": [
    "# NOTE: we may use double quotes `\"`\n",
    "# instead of single `'` and the result will be the same\n",
    "# Python allows to use both variants for strings\n",
    "\n",
    "name = \"John\"  # a string\n",
    "print(name)"
   ]
  },
  {
   "cell_type": "markdown",
   "id": "813a5a8a-db70-42c4-9d6d-7a5b26a5c015",
   "metadata": {},
   "source": [
    "### Multiple assignment"
   ]
  },
  {
   "cell_type": "code",
   "execution_count": null,
   "id": "c695f656-fbd1-49a9-8776-410b24ce6bfe",
   "metadata": {},
   "outputs": [],
   "source": [
    "# Python allows you to assign a single value \n",
    "# to several variables simultaneously\n",
    "\n",
    "a = b = c = 1\n",
    "print(a)\n",
    "print(b)\n",
    "print(c)"
   ]
  },
  {
   "cell_type": "code",
   "execution_count": null,
   "id": "e24c1463-fa7f-4590-a636-af0c281215fd",
   "metadata": {},
   "outputs": [],
   "source": [
    "# You can also assign multiple objects \n",
    "# to multiple variables at one line\n",
    "\n",
    "a, b, c = 1, 2, 'John'\n",
    "print(a)\n",
    "print(b)\n",
    "print(c)"
   ]
  },
  {
   "cell_type": "markdown",
   "id": "ae8794f6-a8d6-4738-a2bd-30c9dad643e6",
   "metadata": {},
   "source": [
    "### Constants"
   ]
  },
  {
   "cell_type": "markdown",
   "id": "443d6c1d-6064-42bc-9e53-67454538e882",
   "metadata": {},
   "source": [
    "A constant is a type of variable whose value cannot be changed. \n",
    "\n",
    "In reality, we don't use constants in Python. Naming them in all capital letters is a convention to separate them from variables, however, it does not actually prevent reassignment."
   ]
  },
  {
   "cell_type": "code",
   "execution_count": null,
   "id": "1e386bd3-b043-4005-b43e-72328729540e",
   "metadata": {},
   "outputs": [],
   "source": [
    "# Example of variables that are going to be constants\n",
    "# but there is no difference between them and regular variables.\n",
    "# Capital letter are just a note that we want treat them like constants\n",
    "\n",
    "PI = 3.14\n",
    "GRAVITY = 9.8"
   ]
  },
  {
   "cell_type": "markdown",
   "id": "c3029002-411c-4bca-bbcd-322a121f690a",
   "metadata": {},
   "source": [
    "### Data types"
   ]
  },
  {
   "cell_type": "markdown",
   "id": "d2c74a3c-c901-4774-a704-86146febc7e5",
   "metadata": {},
   "source": [
    "#### Numbers"
   ]
  },
  {
   "cell_type": "code",
   "execution_count": null,
   "id": "88320230-b1b4-4a9a-b674-394e269d2524",
   "metadata": {},
   "outputs": [],
   "source": [
    "x = 2\n",
    "x"
   ]
  },
  {
   "cell_type": "code",
   "execution_count": null,
   "id": "53ac5b85-bb0f-4e4f-bec1-3f065e46828c",
   "metadata": {},
   "outputs": [],
   "source": [
    "# built-in function `type()` will help us\n",
    "# to find out what type of data variable is\n",
    "\n",
    "type(x)"
   ]
  },
  {
   "cell_type": "code",
   "execution_count": null,
   "id": "42589e4a-5f7d-4a73-b262-a6528391716d",
   "metadata": {},
   "outputs": [],
   "source": [
    "# now will see how it works for many variables\n",
    "# of different types\n",
    "\n",
    "y = 5\n",
    "z = 3\n",
    "t = (x + y) * 10 + (y + z) / x\n",
    "print('x =', x, '| of type', type(x))\n",
    "print('y =', y, '| of type', type(y))\n",
    "print('x =', z, '| of type', type(z))\n",
    "print('t =', t, '| of type', type(t))"
   ]
  },
  {
   "cell_type": "markdown",
   "id": "012148b1-7cfb-470c-a711-08b38ea68493",
   "metadata": {},
   "source": [
    "#### Strings"
   ]
  },
  {
   "cell_type": "code",
   "execution_count": null,
   "id": "0998c93a-f1c6-4e0e-bb7b-939962b9e9ba",
   "metadata": {},
   "outputs": [],
   "source": [
    "string = 'This is Python'\n",
    "print(string, '| of type', type(string))"
   ]
  },
  {
   "cell_type": "code",
   "execution_count": null,
   "id": "732fc980-bf37-468a-bfb4-46b6c923c3aa",
   "metadata": {},
   "outputs": [],
   "source": [
    "char = 'C'\n",
    "print(char, '| of type', type(char))"
   ]
  },
  {
   "cell_type": "code",
   "execution_count": null,
   "id": "c00d39d6-b102-49a3-8f9e-4c48b1738aaf",
   "metadata": {},
   "outputs": [],
   "source": [
    "multiline_str = \"\"\"This is a string with some code.\n",
    "This is a good examle of how long text with many lines\n",
    "can be stored in some variable.\"\"\"\n",
    "print(multiline_str, '| of type', type(multiline_str))"
   ]
  },
  {
   "cell_type": "code",
   "execution_count": null,
   "id": "5f76ca24-f40b-4096-8c62-dfe8dd8af097",
   "metadata": {},
   "outputs": [],
   "source": [
    "# Note symbol `u` at the beginning\n",
    "\n",
    "unicode = u'\\u00dcnic\\u00f6de'\n",
    "print(unicode, '| of type', type(unicode))"
   ]
  },
  {
   "cell_type": "code",
   "execution_count": null,
   "id": "1066aa48-7037-42ad-9b98-dd0ad58b2c26",
   "metadata": {},
   "outputs": [],
   "source": [
    "my_string = 'multiline \\n string'  # string contains `\\n` new line symbol\n",
    "print(my_string, '| of type', type(my_string))"
   ]
  },
  {
   "cell_type": "code",
   "execution_count": null,
   "id": "782f7d83-505d-4d3a-9958-455fcda316ce",
   "metadata": {},
   "outputs": [],
   "source": [
    "raw_str = r'raw \\n string'\n",
    "print(raw_str, '| of type', type(raw_str))"
   ]
  },
  {
   "cell_type": "markdown",
   "id": "58eebc05-a3a2-4223-ace2-4d37366eca73",
   "metadata": {},
   "source": [
    "#### Booleans"
   ]
  },
  {
   "cell_type": "code",
   "execution_count": null,
   "id": "da31f4ab-c5c5-402b-ae00-943e083b4da6",
   "metadata": {},
   "outputs": [],
   "source": [
    "x = (5 > 3)\n",
    "y = (3 == 2 + 1)\n",
    "z = (3 == 10 / 3)\n",
    "\n",
    "print(x, '| of type', type(x))\n",
    "print(y, '| of type', type(y))\n",
    "print(z, '| of type', type(z))"
   ]
  },
  {
   "cell_type": "code",
   "execution_count": null,
   "id": "d659dc6b-6e85-44d6-91e9-d889bcff5195",
   "metadata": {},
   "outputs": [],
   "source": [
    "# True and False in Python are equivalents of 1 and 0\n",
    "\n",
    "x = (1 == True)\n",
    "y = (1 == False)\n",
    "a = True + 4\n",
    "b = False + 10\n",
    "\n",
    "print('x is', x, '| of type', type(x))\n",
    "print('y is', y, '| of type', type(y))\n",
    "print('a:', a, '| of type', type(a))\n",
    "print('b:', b, '| of type', type(b))"
   ]
  },
  {
   "cell_type": "markdown",
   "id": "baca73e1-1a16-44d5-b56e-56023e2bbde5",
   "metadata": {},
   "source": [
    "### Implicit Type Conversion"
   ]
  },
  {
   "cell_type": "markdown",
   "id": "40e5e888-9e86-442a-be9a-4f7a83fc9dbb",
   "metadata": {},
   "source": [
    "In Implicit type conversion, Python automatically converts one data type to another data type. This process doesn't need any user involvement."
   ]
  },
  {
   "cell_type": "code",
   "execution_count": null,
   "id": "f89ca075-4d7e-45b1-aa50-e9c59621d74e",
   "metadata": {},
   "outputs": [],
   "source": [
    "num_int = 123\n",
    "num_flo = 1.23\n",
    "num_new = num_int + num_flo\n",
    "\n",
    "print('Data type of num_int:', type(num_int))\n",
    "print('Data type of num_flo:', type(num_flo))\n",
    "print('Value of num_new:', num_new)\n",
    "print('Data type of num_new:', type(num_new))"
   ]
  },
  {
   "cell_type": "markdown",
   "id": "79b663de-44d8-49d0-9518-7ae81f38ca99",
   "metadata": {},
   "source": [
    "#### Explicit conversion"
   ]
  },
  {
   "cell_type": "code",
   "execution_count": null,
   "id": "7961c97a-1e3c-442b-b8c5-ec58305bd3fe",
   "metadata": {},
   "outputs": [],
   "source": [
    "# Try this code, it will not work\n",
    "\n",
    "num_int = 123\n",
    "num_str = '456'\n",
    "print('Data type of num_int:', type(num_int))\n",
    "print('Data type of num_str:', type(num_str))\n",
    "print(num_int + num_str)"
   ]
  },
  {
   "cell_type": "code",
   "execution_count": null,
   "id": "e48ceefb-332e-48a5-8c50-b6030d0a4bdf",
   "metadata": {},
   "outputs": [],
   "source": [
    "# This code works, because we explicitly converted\n",
    "# string variable to integer\n",
    "\n",
    "num_int = 123\n",
    "num_str = '456'\n",
    "num_sum = num_int + int(num_str)\n",
    "str_sum = str(num_int) + num_str\n",
    "print('Sum of num_int and num_str:', num_sum)\n",
    "print('Concatenation of num_int and num_str:', str_sum)"
   ]
  },
  {
   "cell_type": "code",
   "execution_count": null,
   "id": "edd8b10e-018c-49a1-b951-b25fa2bf30fe",
   "metadata": {},
   "outputs": [],
   "source": []
  }
 ],
 "metadata": {
  "kernelspec": {
   "display_name": "Python 3 (ipykernel)",
   "language": "python",
   "name": "python3"
  },
  "language_info": {
   "codemirror_mode": {
    "name": "ipython",
    "version": 3
   },
   "file_extension": ".py",
   "mimetype": "text/x-python",
   "name": "python",
   "nbconvert_exporter": "python",
   "pygments_lexer": "ipython3",
   "version": "3.12.7"
  }
 },
 "nbformat": 4,
 "nbformat_minor": 5
}
