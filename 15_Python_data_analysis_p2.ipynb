{
 "cells": [
  {
   "cell_type": "markdown",
   "id": "b5d38ebb-4cb1-4ab0-872c-21704174d91d",
   "metadata": {},
   "source": [
    "# Development Essentials course"
   ]
  },
  {
   "cell_type": "markdown",
   "id": "ideal-coverage",
   "metadata": {},
   "source": [
    "## Python for Data Analysis - part 2"
   ]
  },
  {
   "cell_type": "markdown",
   "id": "41bf3b0e-3b8f-45db-b104-66dde75fc47e",
   "metadata": {},
   "source": [
    "### Pandas"
   ]
  },
  {
   "cell_type": "markdown",
   "id": "d824a590-9bce-44d3-876c-162213785f3d",
   "metadata": {},
   "source": [
    "[Pandas](https://pandas.pydata.org/) aims to be the fundamental high-level building block for doing practical, real world data analysis in Python. Additionally, it has the broader goal of becoming the most powerful and flexible open source data analysis / manipulation tool available in any language."
   ]
  },
  {
   "cell_type": "code",
   "execution_count": null,
   "id": "8ef865bd-919f-4db9-8b4b-db96d8149631",
   "metadata": {},
   "outputs": [],
   "source": [
    "import pandas as pd\n",
    "\n",
    "pd.__version__"
   ]
  },
  {
   "cell_type": "markdown",
   "id": "9510be52-fdaa-40b9-a292-eae31c4814d7",
   "metadata": {},
   "source": [
    "The two primary data structures of pandas, `Series` (1-dimensional) and `DataFrame` (2-dimensional), handle the vast majority of typical use cases in finance, statistics, social science, and many areas of engineering. "
   ]
  },
  {
   "cell_type": "markdown",
   "id": "577ce60f-f57b-436d-b985-24fb6f0256de",
   "metadata": {},
   "source": [
    "#### Series"
   ]
  },
  {
   "cell_type": "code",
   "execution_count": null,
   "id": "bd1b1d26-0bd0-4f4c-b065-7e1b218fe719",
   "metadata": {},
   "outputs": [],
   "source": [
    "# Series can be instantiated from dicts\n",
    "\n",
    "d = {1: 'ab', 3: 'bc', 4: 'cd'}\n",
    "s = pd.Series(d)\n",
    "print(s)"
   ]
  },
  {
   "cell_type": "code",
   "execution_count": null,
   "id": "b7b7adaf-32d8-468b-88e3-f378f41b1d9c",
   "metadata": {},
   "outputs": [],
   "source": [
    "type(s)"
   ]
  },
  {
   "cell_type": "code",
   "execution_count": null,
   "id": "0e4fa719-6a08-4f67-bc6b-746f131e1ef3",
   "metadata": {},
   "outputs": [],
   "source": [
    "# Every series has an index\n",
    "\n",
    "s.index"
   ]
  },
  {
   "cell_type": "code",
   "execution_count": null,
   "id": "5f6630f0-208f-483f-a828-131c450aeb0f",
   "metadata": {},
   "outputs": [],
   "source": [
    "# Series elements can be addresses via index\n",
    "\n",
    "s[1]"
   ]
  },
  {
   "cell_type": "code",
   "execution_count": null,
   "id": "51623222-3a84-4f07-87ee-7898500a1721",
   "metadata": {},
   "outputs": [],
   "source": [
    "# Index can be any set of symbols\n",
    "\n",
    "d = {'b': 1, 'a': 0, 'c': 2}\n",
    "s = pd.Series(d)\n",
    "print(s)\n",
    "print('element with index `b`:', s['b'])"
   ]
  },
  {
   "cell_type": "code",
   "execution_count": null,
   "id": "2d94ad37-525b-4700-8a03-3cf68428a76b",
   "metadata": {},
   "outputs": [],
   "source": [
    "# Series can be instantiated from numpy array\n",
    "\n",
    "import numpy as np\n",
    "\n",
    "a = np.array([7, 3, 5, 2, 5, 8, 11])\n",
    "s = pd.Series(a)\n",
    "print('Series from array:')\n",
    "print(s)\n",
    "\n",
    "s = pd.Series(a, index=['a', 'b', 'c', 'a', 'e', 'd', 'g'])\n",
    "print('\\nSeries from array with index:')\n",
    "print(s)"
   ]
  },
  {
   "cell_type": "code",
   "execution_count": null,
   "id": "c59b0903-524f-40ff-90b7-943c7e01b0e2",
   "metadata": {},
   "outputs": [],
   "source": [
    "# Series can be instantiated from scalar value\n",
    "\n",
    "s=pd.Series(5.0, index=['a', 'b', 'c', 'd', 'e'])\n",
    "print(s)"
   ]
  },
  {
   "cell_type": "markdown",
   "id": "9d4db366-162a-4b8e-b9b6-aed86e351b21",
   "metadata": {},
   "source": [
    "### DataFrames"
   ]
  },
  {
   "cell_type": "markdown",
   "id": "ea2babf0-e2a2-4c95-9c53-96a46b46d041",
   "metadata": {},
   "source": [
    "Each column in a `DataFrame` is a `Series`."
   ]
  },
  {
   "cell_type": "markdown",
   "id": "853368a3-aaec-4a32-95b2-a3312a94fe5c",
   "metadata": {},
   "source": [
    "#### Creating"
   ]
  },
  {
   "cell_type": "code",
   "execution_count": null,
   "id": "3deabb08-0750-4489-905f-29e46da7ba51",
   "metadata": {},
   "outputs": [],
   "source": [
    "# DataFrame can be instantiated from dictionary of Series\n",
    "d = {\n",
    "    'one': pd.Series([1.0, 2.0, 3.0], index=['a', 'b', 'c']),\n",
    "    'two': pd.Series([1.0, 2.0, 3.0, 4.0], index=['a', 'b', 'c', 'd']),\n",
    "}\n",
    "df1 = pd.DataFrame(d)\n",
    "print(df1)"
   ]
  },
  {
   "cell_type": "code",
   "execution_count": null,
   "id": "d1996a32-178e-4b50-b890-39e97414b86e",
   "metadata": {},
   "outputs": [],
   "source": [
    "# DataFrame is optimized to be shown in notebook\n",
    "# no need to `print` dataframe, it looks pretty\n",
    "\n",
    "df1"
   ]
  },
  {
   "cell_type": "code",
   "execution_count": null,
   "id": "dd5c448a-5614-42d2-8d64-42d4478de15f",
   "metadata": {},
   "outputs": [],
   "source": [
    "# ...or use `display` for pretty view\n",
    "\n",
    "display(df1)"
   ]
  },
  {
   "cell_type": "code",
   "execution_count": null,
   "id": "f74e332a-14de-45ce-8036-3e07afeb4cc5",
   "metadata": {},
   "outputs": [],
   "source": [
    "# We ca set index when creating dataframe\n",
    "\n",
    "df2 = pd.DataFrame(d, index=['d', 'b', 'a'])\n",
    "df2"
   ]
  },
  {
   "cell_type": "code",
   "execution_count": null,
   "id": "d67f9c2b-74f9-4a10-a739-7424e023347b",
   "metadata": {},
   "outputs": [],
   "source": [
    "# Modify columns when created\n",
    "\n",
    "df3 = pd.DataFrame(d, index=['d', 'b', 'a'], columns=['two', 'three'])\n",
    "df3"
   ]
  },
  {
   "cell_type": "code",
   "execution_count": null,
   "id": "0b0214bd-efdb-4fd9-b61b-7a214c0a9cdb",
   "metadata": {},
   "outputs": [],
   "source": [
    "# Create dataframe from dictionary of lists\n",
    "\n",
    "d = {\n",
    "    'one': [1.0, 2.0, 3.0, 4.0], \n",
    "    'two': [4.0, 3.0, 2.0, 1.0]\n",
    "}\n",
    "df = pd.DataFrame(d)\n",
    "#df=pd.DataFrame(d, index=['a', 'b', 'c', 'd']) \n",
    "df"
   ]
  },
  {
   "cell_type": "code",
   "execution_count": null,
   "id": "dfea05cb-bd84-4c89-8153-33f1ed960ca1",
   "metadata": {},
   "outputs": [],
   "source": [
    "# ...with custom index\n",
    "\n",
    "df = pd.DataFrame(d, index=['a', 'b', 'c', 'd']) \n",
    "df"
   ]
  },
  {
   "cell_type": "markdown",
   "id": "c5bb9358-2307-4665-a4b1-0dcbea48e039",
   "metadata": {},
   "source": [
    "#### Navigating elements"
   ]
  },
  {
   "cell_type": "code",
   "execution_count": null,
   "id": "48a3c2d1-af8d-47ab-854d-82f4acc23ba8",
   "metadata": {},
   "outputs": [],
   "source": [
    "d = {\n",
    "    'name': ['Joe', 'Nat', 'Harry', 'Sam', 'Monica'], \n",
    "    'age': [20, 21, 19, 20, 22],\n",
    "    'Marks': [85.10, 77.80, 91.54, 88.78, 60.55], \n",
    "    'Grade': ['A', 'B', 'A', 'A', 'B'],\n",
    "    'Hobby': ['Swimming', 'Reading', 'Music', 'Painting', 'Dancing']\n",
    "}\n",
    "df = pd.DataFrame(d, index=['S1', 'S2', 'S3', 'S4', 'S5'])\n",
    "df.head()  # diplay first five rows"
   ]
  },
  {
   "cell_type": "code",
   "execution_count": null,
   "id": "7aab808b-d962-4a0b-8868-8e84b5e5b982",
   "metadata": {},
   "outputs": [],
   "source": [
    "df.loc['S4','Marks']  # `loc` is best option to locate element"
   ]
  },
  {
   "cell_type": "code",
   "execution_count": null,
   "id": "dc59f376-1bb7-480f-8802-e3959fa7cd55",
   "metadata": {},
   "outputs": [],
   "source": [
    "df.loc['S4', :]  # take a row"
   ]
  },
  {
   "cell_type": "code",
   "execution_count": null,
   "id": "59c79821-4cb5-4069-9601-72bd7b59c6b5",
   "metadata": {},
   "outputs": [],
   "source": [
    "df.loc[:, 'Marks']  # take a column"
   ]
  },
  {
   "cell_type": "code",
   "execution_count": null,
   "id": "1c91fd91-9039-4679-b9f7-872c3734c573",
   "metadata": {},
   "outputs": [],
   "source": [
    "df.iloc[3, 2]  # take element by indexes"
   ]
  },
  {
   "cell_type": "code",
   "execution_count": null,
   "id": "d5d805ba-24df-4961-bc15-e3b2603e0d97",
   "metadata": {},
   "outputs": [],
   "source": [
    "df.iloc[3, :]  # by index of a row"
   ]
  },
  {
   "cell_type": "code",
   "execution_count": null,
   "id": "7e8028de-0425-4d53-b997-87762c6fb66e",
   "metadata": {},
   "outputs": [],
   "source": [
    "df.iloc[:, 2]  # by index of a column"
   ]
  },
  {
   "cell_type": "markdown",
   "id": "69c3e54a-9b80-4e53-9fdb-22bf75f4fc83",
   "metadata": {},
   "source": [
    "#### Working with columns"
   ]
  },
  {
   "cell_type": "code",
   "execution_count": null,
   "id": "b2875eca-2d76-466d-82b6-e33f984f0b2f",
   "metadata": {},
   "outputs": [],
   "source": [
    "d = {\n",
    "    'one': [1.0, 2.0, 3.0, 4.0], \n",
    "    'two': [4.0, 3.0, 2.0, 1.0]\n",
    "}\n",
    "df = pd.DataFrame(d, index=['a', 'b', 'c', 'd'])\n",
    "df"
   ]
  },
  {
   "cell_type": "code",
   "execution_count": null,
   "id": "1c8fe690-6609-4f85-9f8a-f6b569b1aba6",
   "metadata": {},
   "outputs": [],
   "source": [
    "df['three'] = df['one'] * df['two']  # create new column as `*` operation\n",
    "df"
   ]
  },
  {
   "cell_type": "code",
   "execution_count": null,
   "id": "bbcb9896-094b-4e8b-ae72-3a0640235214",
   "metadata": {},
   "outputs": [],
   "source": [
    "df['flag'] = df['one'] > 2  # new column as the result of logical operation\n",
    "df"
   ]
  },
  {
   "cell_type": "code",
   "execution_count": null,
   "id": "8781f28f-655d-479b-9591-a33c4527bb65",
   "metadata": {},
   "outputs": [],
   "source": [
    "del df['two']  # simply delete a specified column\n",
    "df"
   ]
  },
  {
   "cell_type": "code",
   "execution_count": null,
   "id": "48d1225b-c6c5-4133-91fe-ab007965ffee",
   "metadata": {},
   "outputs": [],
   "source": [
    "three = df.pop('three')  # extract column\n",
    "df"
   ]
  },
  {
   "cell_type": "code",
   "execution_count": null,
   "id": "0dc668c0-2f5a-4e75-b9a6-0d8ce566c448",
   "metadata": {},
   "outputs": [],
   "source": [
    "# Here is extracted column\n",
    "\n",
    "three"
   ]
  },
  {
   "cell_type": "code",
   "execution_count": null,
   "id": "9c9d74af-11f9-4b0b-bc61-c4b5963b3ac7",
   "metadata": {},
   "outputs": [],
   "source": [
    "# ...it is Series\n",
    "\n",
    "type(three)"
   ]
  },
  {
   "cell_type": "code",
   "execution_count": null,
   "id": "0ab13317-d903-4c6e-ad7e-7816ba95e8e3",
   "metadata": {},
   "outputs": [],
   "source": [
    "df['foo'] = 'bar'  # new column as a constant\n",
    "df"
   ]
  },
  {
   "cell_type": "code",
   "execution_count": null,
   "id": "8a33af47-9121-47f0-93fd-0fe31e3a36e3",
   "metadata": {},
   "outputs": [],
   "source": [
    "df.insert(1, 'bar', 42)  # insert specified column\n",
    "df"
   ]
  },
  {
   "cell_type": "markdown",
   "id": "5a1700e3-6b9c-42a4-a67f-4f6de9c1e639",
   "metadata": {},
   "source": [
    "#### Data alignment and operations"
   ]
  },
  {
   "cell_type": "code",
   "execution_count": null,
   "id": "6dcedc45-891a-40f9-9328-7a1ac47a671a",
   "metadata": {},
   "outputs": [],
   "source": [
    "d = {\n",
    "    '1-one': [1.0, 2.0, 3.0, 4.0], \n",
    "    '2-two': [4.0, 3.0, 2.0, 1.0]\n",
    "}\n",
    "df1 = pd.DataFrame(d, index=['a', 'b', 'c', 'd'])\n",
    "df1"
   ]
  },
  {
   "cell_type": "code",
   "execution_count": null,
   "id": "ce03b199-8579-46a8-93b6-81cf97b00bc0",
   "metadata": {},
   "outputs": [],
   "source": [
    "d = {\n",
    "    '1-one': [3, 2, 5], \n",
    "    '2-two': [0, -2, 1], \n",
    "    '3-three': [-1, 3, 2]\n",
    "}\n",
    "df2 = pd.DataFrame(d, index=['a', 'b', 'c'])\n",
    "df2"
   ]
  },
  {
   "cell_type": "code",
   "execution_count": null,
   "id": "e3488c4d-4f83-472f-afb6-37b70e91d933",
   "metadata": {},
   "outputs": [],
   "source": [
    "# We can sum two dataframes with respect \n",
    "# to corresponding indexes and columns\n",
    "\n",
    "df_plus = df2 + df1\n",
    "df_plus"
   ]
  },
  {
   "cell_type": "code",
   "execution_count": null,
   "id": "24490851-12a1-4078-82be-ae32ab735d20",
   "metadata": {},
   "outputs": [],
   "source": [
    "d = {'one': 1, 'two': 2, 'three': 3}\n",
    "df1 = pd.Series(d)\n",
    "df1"
   ]
  },
  {
   "cell_type": "code",
   "execution_count": null,
   "id": "bb826f6f-1084-4da5-b668-37b90b75f988",
   "metadata": {},
   "outputs": [],
   "source": [
    "d = {\n",
    "    'one': [3, 2, 5], \n",
    "    'two': [0, -2, 1], \n",
    "    'three': [-1, 3, 2]\n",
    "}\n",
    "df2 = pd.DataFrame(d, index=['a', 'b', 'c'])\n",
    "df2"
   ]
  },
  {
   "cell_type": "code",
   "execution_count": null,
   "id": "0ec443bc-62d5-4f89-b0d5-68f65d517520",
   "metadata": {},
   "outputs": [],
   "source": [
    "# Note by-row substraction\n",
    "# with respect to columns\n",
    "\n",
    "df_diff = df2 - df1\n",
    "df_diff"
   ]
  },
  {
   "cell_type": "code",
   "execution_count": null,
   "id": "7b2d9ada-e200-4f17-9f81-c385a564e989",
   "metadata": {},
   "outputs": [],
   "source": []
  }
 ],
 "metadata": {
  "kernelspec": {
   "display_name": "Python 3 (ipykernel)",
   "language": "python",
   "name": "python3"
  },
  "language_info": {
   "codemirror_mode": {
    "name": "ipython",
    "version": 3
   },
   "file_extension": ".py",
   "mimetype": "text/x-python",
   "name": "python",
   "nbconvert_exporter": "python",
   "pygments_lexer": "ipython3",
   "version": "3.12.7"
  }
 },
 "nbformat": 4,
 "nbformat_minor": 5
}
