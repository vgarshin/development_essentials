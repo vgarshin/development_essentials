{
 "cells": [
  {
   "cell_type": "markdown",
   "id": "b5d38ebb-4cb1-4ab0-872c-21704174d91d",
   "metadata": {},
   "source": [
    "# Development Essentials course"
   ]
  },
  {
   "cell_type": "markdown",
   "id": "ideal-coverage",
   "metadata": {},
   "source": [
    "## Unix permissions"
   ]
  },
  {
   "cell_type": "markdown",
   "id": "antique-conversion",
   "metadata": {},
   "source": [
    "### `chmod` command"
   ]
  },
  {
   "cell_type": "markdown",
   "id": "0d66ad13-44bc-40d1-8729-67abaf074f06",
   "metadata": {},
   "source": [
    "![Jupyter terminal open menu](imgs/unix_chmode_cheatsheet.jpg)"
   ]
  },
  {
   "cell_type": "code",
   "execution_count": null,
   "id": "1cb41ee1-1bcc-48c3-af98-1d4cbc92fcff",
   "metadata": {},
   "outputs": [],
   "source": [
    "# create a file\n",
    "\n",
    "!echo \"just a text\" > test.txt\n",
    "!cat test.txt"
   ]
  },
  {
   "cell_type": "code",
   "execution_count": null,
   "id": "5da471ff-a379-40e5-b9d8-3e18c88635f4",
   "metadata": {},
   "outputs": [],
   "source": [
    "# let's look at the file\n",
    "\n",
    "!ls -la"
   ]
  },
  {
   "cell_type": "code",
   "execution_count": null,
   "id": "b0ec1966-437a-45a1-96b0-3c14a94b004a",
   "metadata": {},
   "outputs": [],
   "source": [
    "# uncomment any of commands below\n",
    "# and see how `chmod` works\n",
    "\n",
    "#!chmod g+w test.txt\n",
    "#!chmod u+x test.txt\n",
    "#!chmod a+rw test.txt\n",
    "#!chmod ug+r test.txt\n",
    "!chmod o-rwx test.txt\n",
    "\n",
    "!ls -la"
   ]
  },
  {
   "cell_type": "code",
   "execution_count": null,
   "id": "24c6c436-1f25-401d-acd9-dd9e811a6d4a",
   "metadata": {},
   "outputs": [],
   "source": []
  }
 ],
 "metadata": {
  "kernelspec": {
   "display_name": "Python 3 (ipykernel)",
   "language": "python",
   "name": "python3"
  },
  "language_info": {
   "codemirror_mode": {
    "name": "ipython",
    "version": 3
   },
   "file_extension": ".py",
   "mimetype": "text/x-python",
   "name": "python",
   "nbconvert_exporter": "python",
   "pygments_lexer": "ipython3",
   "version": "3.12.7"
  }
 },
 "nbformat": 4,
 "nbformat_minor": 5
}
