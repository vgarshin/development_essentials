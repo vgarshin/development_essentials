{
 "cells": [
  {
   "cell_type": "markdown",
   "id": "b5d38ebb-4cb1-4ab0-872c-21704174d91d",
   "metadata": {},
   "source": [
    "# Development Essentials course"
   ]
  },
  {
   "cell_type": "markdown",
   "id": "ideal-coverage",
   "metadata": {},
   "source": [
    "## Python flow control"
   ]
  },
  {
   "cell_type": "markdown",
   "id": "documented-martin",
   "metadata": {},
   "source": [
    "### Boolean operations"
   ]
  },
  {
   "cell_type": "markdown",
   "id": "82c3e3a2-a584-4d1c-8feb-3b1a332de51a",
   "metadata": {},
   "source": [
    "We will need it for further understanding how flow control works."
   ]
  },
  {
   "cell_type": "code",
   "execution_count": null,
   "id": "6a85f035-6de7-43b0-97ea-ccd7555a533c",
   "metadata": {},
   "outputs": [],
   "source": [
    "x = True\n",
    "y = False"
   ]
  },
  {
   "cell_type": "code",
   "execution_count": null,
   "id": "255d7732-7a88-49d2-a0bc-59ea22c0a69f",
   "metadata": {},
   "outputs": [],
   "source": [
    "x or y"
   ]
  },
  {
   "cell_type": "code",
   "execution_count": null,
   "id": "61b9caf6-f758-4ee4-ada9-e47963f9c1dc",
   "metadata": {},
   "outputs": [],
   "source": [
    "x and y"
   ]
  },
  {
   "cell_type": "code",
   "execution_count": null,
   "id": "f24b2613-b719-4797-9a34-082608130419",
   "metadata": {},
   "outputs": [],
   "source": [
    "not x"
   ]
  },
  {
   "cell_type": "markdown",
   "id": "f2ecafd5-cecb-4eaf-85c0-8c9920c7509b",
   "metadata": {},
   "source": [
    "### Comparisons"
   ]
  },
  {
   "cell_type": "code",
   "execution_count": null,
   "id": "f6934a8d-9978-4709-be25-13329eea7e6c",
   "metadata": {},
   "outputs": [],
   "source": [
    "a = 1\n",
    "b = 10"
   ]
  },
  {
   "cell_type": "code",
   "execution_count": null,
   "id": "6e9f6f84-6a4b-4993-8709-cc70f3f878ff",
   "metadata": {},
   "outputs": [],
   "source": [
    "a < b  # strictly less than"
   ]
  },
  {
   "cell_type": "code",
   "execution_count": null,
   "id": "f1d3bb4b-c17d-4840-86cc-313825c2749f",
   "metadata": {},
   "outputs": [],
   "source": [
    "a <= (b - 8)  # less than or equal"
   ]
  },
  {
   "cell_type": "code",
   "execution_count": null,
   "id": "211580e1-5014-46ac-b832-ee66f3206a52",
   "metadata": {},
   "outputs": [],
   "source": [
    "a <= (b - 9)"
   ]
  },
  {
   "cell_type": "code",
   "execution_count": null,
   "id": "2a567b23-fdbb-4a47-a0dc-6373edcfb5ea",
   "metadata": {},
   "outputs": [],
   "source": [
    "a > b"
   ]
  },
  {
   "cell_type": "code",
   "execution_count": null,
   "id": "d157547c-f95b-4975-a2ef-04384c743bc0",
   "metadata": {},
   "outputs": [],
   "source": [
    "a == b  # equal"
   ]
  },
  {
   "cell_type": "code",
   "execution_count": null,
   "id": "a95003fc-1db7-4513-873f-8800fd4fecf5",
   "metadata": {},
   "outputs": [],
   "source": [
    "a == a"
   ]
  },
  {
   "cell_type": "code",
   "execution_count": null,
   "id": "96630195-9f46-466d-bbdc-7dbdc3c9ac93",
   "metadata": {},
   "outputs": [],
   "source": [
    "a != b  # not equal"
   ]
  },
  {
   "cell_type": "code",
   "execution_count": null,
   "id": "da465e64-315c-4c25-b8f4-00aff0f66fb1",
   "metadata": {},
   "outputs": [],
   "source": [
    "a is a  # object identity"
   ]
  },
  {
   "cell_type": "code",
   "execution_count": null,
   "id": "c6fa2ffe-4e70-4b1c-a9af-e953fb906d8e",
   "metadata": {},
   "outputs": [],
   "source": [
    "a is not b  # negated object identity"
   ]
  },
  {
   "cell_type": "markdown",
   "id": "9a769615-92d9-4909-a652-47da49c0efd0",
   "metadata": {},
   "source": [
    "### `if...else` statement"
   ]
  },
  {
   "cell_type": "code",
   "execution_count": null,
   "id": "16b565e3-d76b-439b-9bee-880507cfad2c",
   "metadata": {},
   "outputs": [],
   "source": [
    "# If the number is positive, \n",
    "# we print a message to confirm it\n",
    "\n",
    "num = 3  # try different values e.g.'-1' or '0'\n",
    "if num > 0:\n",
    "    print(num, 'is a positive number.')\n",
    "print('This is always printed.')"
   ]
  },
  {
   "cell_type": "code",
   "execution_count": null,
   "id": "ded02adc-ba60-4fb4-8ba4-fec887c640c1",
   "metadata": {},
   "outputs": [],
   "source": [
    "# Slightly modified code from above\n",
    "# now second `print` is inside `if` body\n",
    "\n",
    "num = -3  # try different values e.g. '1' or '0'\n",
    "if num > 0:\n",
    "    print(num, 'is a positive number.')\n",
    "    print('This is not always printed.')"
   ]
  },
  {
   "cell_type": "code",
   "execution_count": null,
   "id": "d5ec1769-d6e9-4ad7-a16d-be7572f3c272",
   "metadata": {},
   "outputs": [],
   "source": [
    "# Now code checks if the number is positive or negative\n",
    "# and displays an appropriate message.\n",
    "# Here both `if` and `else` are used.\n",
    "\n",
    "num = 3  # try different values e.g. '-1' or '0'\n",
    "if num >= 0:\n",
    "    print('Positive or zero')\n",
    "else:\n",
    "    print('Negative number')"
   ]
  },
  {
   "cell_type": "code",
   "execution_count": null,
   "id": "78e61882-284f-46ec-949a-2e9c3b4bf67d",
   "metadata": {},
   "outputs": [],
   "source": [
    "# What if we want to have more than two options?\n",
    "# We may use `if...elif...else` construction\n",
    "\n",
    "num = 3.4  # try different values e.g. '-1' or '0'\n",
    "if num > 0:\n",
    "    print('Positive number')\n",
    "elif num == 0:\n",
    "    print('Zero')\n",
    "else:\n",
    "    print('Negative number')"
   ]
  },
  {
   "cell_type": "code",
   "execution_count": null,
   "id": "c5b289cb-3dac-4432-9e16-5369fef6c0bb",
   "metadata": {},
   "outputs": [],
   "source": [
    "# Code takes 2 integer variables as input\n",
    "# and outputs them in the sorted order\n",
    "\n",
    "a = int(input('a = '))\n",
    "b = int(input('b = '))\n",
    "if a < b:\n",
    "    print(a, b)\n",
    "else:\n",
    "    print(b, a)"
   ]
  },
  {
   "cell_type": "code",
   "execution_count": null,
   "id": "f5cb87d8-939d-4744-ac31-0af96d7e7626",
   "metadata": {},
   "outputs": [],
   "source": [
    "# Modified version of the code above\n",
    "# but here we swap two values\n",
    "\n",
    "a = int(input('a = '))\n",
    "b = int(input('b = '))\n",
    "if a > b:\n",
    "    x = a\n",
    "    a = b\n",
    "    b = x    \n",
    "print(a, b)"
   ]
  },
  {
   "cell_type": "code",
   "execution_count": null,
   "id": "04b7b728-3291-4a00-8473-7a43c7bdccae",
   "metadata": {},
   "outputs": [],
   "source": [
    "# Finally, Pythonic way how to swap two numbers\n",
    "# becuase Python can do this!\n",
    "\n",
    "a = int(input('a = '))\n",
    "b = int(input('b = '))\n",
    "if a > b:\n",
    "    a, b = b, a\n",
    "print (a, b)"
   ]
  },
  {
   "cell_type": "markdown",
   "id": "9f7c0072-473a-4103-b6d2-9507a6576287",
   "metadata": {},
   "source": [
    "### `for` loop"
   ]
  },
  {
   "cell_type": "markdown",
   "id": "38b178cb-37a2-45be-8e2f-855c46677b72",
   "metadata": {},
   "source": [
    "The `for` loop in Python is used for iterative processes e.g. if it is needed to iterate over some elements in a collection."
   ]
  },
  {
   "cell_type": "code",
   "execution_count": null,
   "id": "7634db6b-ac96-4d6d-8c9d-fcd63506b225",
   "metadata": {},
   "outputs": [],
   "source": [
    "# Built-in `range()` function produces sequence of numbers\n",
    "# let's try to print numbers with help of `for` loop.\n",
    "# Note that ts will start from '0'\n",
    "\n",
    "for i in range(11):\n",
    "    print(i)\n",
    "print('The end')"
   ]
  },
  {
   "cell_type": "code",
   "execution_count": null,
   "id": "70f6bf4a-99ae-4dfa-b973-928a80b977fe",
   "metadata": {},
   "outputs": [],
   "source": [
    "# We may specify what number `range()` to start\n",
    "\n",
    "start = 5  # try different values e.g. '0', '2'\n",
    "end = 11\n",
    "\n",
    "for i in range(start, end):\n",
    "    print(i)\n",
    "print('The end')"
   ]
  },
  {
   "cell_type": "code",
   "execution_count": null,
   "id": "87c11519-6e53-4996-91ee-8c733ed91ba6",
   "metadata": {
    "scrolled": true
   },
   "outputs": [],
   "source": [
    "# ...and we can define a step between\n",
    "# as well as direction \n",
    "\n",
    "start = 5 \n",
    "end = 30\n",
    "step = 3\n",
    "\n",
    "for i in range(start, end, step):\n",
    "    print(i)\n",
    "print('The end #1')\n",
    "\n",
    "start = 30\n",
    "end = 5\n",
    "step = -3\n",
    "\n",
    "for i in range(start, end, step):\n",
    "    print(i)\n",
    "print('The end #2')"
   ]
  },
  {
   "cell_type": "code",
   "execution_count": null,
   "id": "ff50b92b-141d-4e82-99ed-b7933d8a514f",
   "metadata": {},
   "outputs": [],
   "source": [
    "# `for` can iterate over lists\n",
    "\n",
    "fruits = ['apple', 'banana', 'cherry']  # list\n",
    "for x in fruits:\n",
    "    print(x)"
   ]
  },
  {
   "cell_type": "code",
   "execution_count": null,
   "id": "ec464e63-1c7a-415f-bc72-700507b03b5f",
   "metadata": {},
   "outputs": [],
   "source": [
    "# `for` can treat string as a list of letters\n",
    "# and here how it works\n",
    "\n",
    "for x in 'banana':\n",
    "    print(x)"
   ]
  },
  {
   "cell_type": "code",
   "execution_count": null,
   "id": "9b6b56ff-c5fd-47da-abf5-2bfff9c841b5",
   "metadata": {},
   "outputs": [],
   "source": [
    "# `for` works if there is a need to iterate over list\n",
    "# and perform some actions with the elements of that list\n",
    "\n",
    "numbers = [6, 5, 3, 8, 4, 2, 5, 4, 11]  # list to iterate over\n",
    "sum = 0  # that will be variale for sum of list's elements\n",
    "\n",
    "# iterate over the list\n",
    "for val in numbers:\n",
    "    sum = sum + val   # or use `sum += val` is more Pythonic\n",
    "print('The sum is:', sum)"
   ]
  },
  {
   "cell_type": "code",
   "execution_count": null,
   "id": "8d68a4ee-fa92-4268-bb60-870a83a6dae8",
   "metadata": {},
   "outputs": [],
   "source": [
    "# add one more operation to count\n",
    "# all even numbers from the list\n",
    "\n",
    "sum = 0  # that will be variale for sum of list's elements\n",
    "even = 0  # that will be variale for count of even list's elements\n",
    "\n",
    "for val in numbers:\n",
    "    sum += val # or `sum = sum + val`\n",
    "    if val % 2 == 0: \n",
    "        even += 1\n",
    "print('The sum is:', sum)\n",
    "print(even, 'even numbers in list')"
   ]
  },
  {
   "cell_type": "code",
   "execution_count": null,
   "id": "29a1ca67-c127-4145-8fab-9734b2bace74",
   "metadata": {},
   "outputs": [],
   "source": [
    "# Iteration over dictionary requires\n",
    "# extracting key and values\n",
    "\n",
    "d = {\n",
    "    'key0': 'value0',\n",
    "    'key1': 'value1',\n",
    "    'key2': 'value2',\n",
    "    'key3': 'value3'\n",
    "}\n",
    "for key, value in d.items():\n",
    "    print('Key is:', key, '| Value is:', value)"
   ]
  },
  {
   "cell_type": "markdown",
   "id": "ecb1c6a0-3cf7-4f81-8e86-06e0fc77f9e2",
   "metadata": {},
   "source": [
    "#### `for…else` statement"
   ]
  },
  {
   "cell_type": "code",
   "execution_count": null,
   "id": "f2d69282-3a27-4a75-9d49-53d69d03f66d",
   "metadata": {},
   "outputs": [],
   "source": [
    "# Use in a case if explicit end of `for` loop needed\n",
    "\n",
    "digits = [0, 1, 5]\n",
    "for i in digits:\n",
    "    print(i)\n",
    "else:\n",
    "    print('No items left.')"
   ]
  },
  {
   "cell_type": "markdown",
   "id": "795f3196-e03e-4cad-a6f0-fef93344ce32",
   "metadata": {},
   "source": [
    "#### `for…else…break` statement"
   ]
  },
  {
   "cell_type": "code",
   "execution_count": null,
   "id": "8f5ac2bb-ddaa-4c33-95f4-b85fa1a7cc3a",
   "metadata": {},
   "outputs": [],
   "source": [
    "# `break` is used here to exit the loop\n",
    "# after the target value is found\n",
    "\n",
    "student_name = 'Julia'  # try 'John' also\n",
    "marks = {'James': 90, 'Julia': 55, 'Arthur': 77}  # dictionary with students' grades\n",
    "for student in marks:\n",
    "    if student == student_name:\n",
    "        print('Student', student, 'found with grade', marks[student])\n",
    "        break\n",
    "else:\n",
    "    print('No entry with', student_name, 'found.')"
   ]
  },
  {
   "cell_type": "markdown",
   "id": "f0ff8914-a41a-4bd2-be5e-7cc6cfc75ef6",
   "metadata": {},
   "source": [
    "#### `break` and `contunue` use"
   ]
  },
  {
   "cell_type": "code",
   "execution_count": null,
   "id": "29d35145-e82e-4bb2-a00a-8f2be5db5d36",
   "metadata": {},
   "outputs": [],
   "source": [
    "# Here in example `break` statement breaks out \n",
    "# of the innermost enclosing `for` loop.\n",
    "# Loop is stopped and exited when target value found\n",
    "\n",
    "for val in 'string':\n",
    "    if val == 'i':\n",
    "        break\n",
    "    print(val)\n",
    "print('The end')"
   ]
  },
  {
   "cell_type": "code",
   "execution_count": null,
   "id": "9c571f9b-38ec-4609-87fd-8c12f01a326d",
   "metadata": {},
   "outputs": [],
   "source": [
    "# The `continue` statement continues \n",
    "# with the next iteration of the loop\n",
    "# without running code for the rest part of iteration\n",
    "\n",
    "for val in 'string':\n",
    "    if val == 'i':\n",
    "        continue\n",
    "    print(val)\n",
    "print('The end')"
   ]
  },
  {
   "cell_type": "markdown",
   "id": "f2aee34f-d877-4b88-bed5-0a0a2f75746e",
   "metadata": {},
   "source": [
    "### `while` loop"
   ]
  },
  {
   "cell_type": "markdown",
   "id": "9de3ceb5-8d6f-4c01-b185-e37502dc4ac9",
   "metadata": {},
   "source": [
    "The `while` loop in Python is used to iterate over a block of code as long as the test expression (condition) is true.\n",
    "We generally use this loop when we don't know the number of times to iterate beforehand."
   ]
  },
  {
   "cell_type": "code",
   "execution_count": null,
   "id": "d044239a-b765-4e06-a35f-8d9b87adfb82",
   "metadata": {},
   "outputs": [],
   "source": [
    "# Sum will be calculated while number\n",
    "# will be less than some inputed threshold\n",
    "\n",
    "n = int(input('Enter threshold: '))\n",
    "sum = 0  # that will be variale for the sum\n",
    "i = 1  # start from this value\n",
    "while i <= n:\n",
    "    sum += i\n",
    "    i += 1\n",
    "print('Threshold =', n)\n",
    "print('The sum of numbers under the threshold is:', sum)"
   ]
  },
  {
   "cell_type": "code",
   "execution_count": null,
   "id": "b6ecf063-bf9d-4952-a023-96ed6f62fd6b",
   "metadata": {},
   "outputs": [],
   "source": []
  }
 ],
 "metadata": {
  "kernelspec": {
   "display_name": "Python 3 (ipykernel)",
   "language": "python",
   "name": "python3"
  },
  "language_info": {
   "codemirror_mode": {
    "name": "ipython",
    "version": 3
   },
   "file_extension": ".py",
   "mimetype": "text/x-python",
   "name": "python",
   "nbconvert_exporter": "python",
   "pygments_lexer": "ipython3",
   "version": "3.12.7"
  }
 },
 "nbformat": 4,
 "nbformat_minor": 5
}
